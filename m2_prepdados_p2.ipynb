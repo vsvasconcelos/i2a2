{
 "cells": [
  {
   "cell_type": "markdown",
   "metadata": {},
   "source": [
    "[<center><img src=\"images/Logo_I2A2.webp\"></center>](https://www.i2a2.ca/)         \n",
    "Rev 8"
   ]
  },
  {
   "cell_type": "markdown",
   "metadata": {},
   "source": [
    "# Módulo 2"
   ]
  },
  {
   "cell_type": "markdown",
   "metadata": {
    "slideshow": {
     "slide_type": "slide"
    }
   },
   "source": [
    "# Aula 2 - Preparação dos dados - parte 2\n",
    "\n",
    "\n",
    "**Objetivo**: Apresentar o processo de preparação dos dados"
   ]
  },
  {
   "cell_type": "markdown",
   "metadata": {},
   "source": [
    "Este material o auxiliará nas sessões de autoestudo, contudo, fique à vontade para consultar outras fontes de informações, mas nunca deixe de citá-las."
   ]
  },
  {
   "cell_type": "markdown",
   "metadata": {},
   "source": [
    "# Processo de Preparação dos Dados\n",
    "\n",
    "De uma forma geral, o processo de preparação ou tratamento dos dados (data wrangling ou data munging) envolve:\n",
    "* Obtenção (gathering);\n",
    "* Extração (extracting);\n",
    "* Limpeza (cleaning); e\n",
    "* Armazenamento (storing).\n",
    "\n",
    "Pesquise livremente cada uma destas etapas."
   ]
  },
  {
   "cell_type": "markdown",
   "metadata": {},
   "source": [
    "# Exercício 1: Limpando Dados do OpenStreetMap - Região Metropolitana de São Paulo\n",
    "\n",
    "\n",
    "## Acesse o [projeto](https://nbviewer.org/github/vsvasconcelos/i2a2/blob/main/DW-OSM-RMSP-rev4/DW-OSM-RMSP-rev2.ipynb) e:\n",
    "\n",
    "### 1) Identifique como os dados foram obtidos (gathering).\n",
    "   * O que são fontes secundárias de dados?\n",
    "\n",
    "### 2) Identifique como os dados foram extraídos (extracting).\n",
    "   * O que é um arquivo XML?\n",
    "    \n",
    "### 3) Identifique como os dados foram limpos (cleaning).\n",
    "   * Quais as 6 etapas utilizadas para a limpeza dos dados?\n",
    "   * Quais as 5 métricas de qualidade dos dados propostas?\n",
    "   * Como foi realizado o processo de auditoria dos dados?\n",
    "   * O que é uma expressão regular?\n",
    "   * Quais métricas de qualidade foram utilizadas para a variável CEP? Como essas métricas foram implementadas?\n",
    "    \n",
    "### 4) Identifique como os dados foram armazenados (storing).\n",
    "   * O que é o MongoDB?\n",
    "   * O que é um arquivo JSON?"
   ]
  },
  {
   "cell_type": "markdown",
   "metadata": {},
   "source": [
    "# Análise Exploratória de Dados (Exploratory Data Analysis - EDA)\n",
    "\n",
    "Pesquise o que é uma Análise Exploratória de Dados?\n",
    "\n",
    "   * Identifique as diferentes abordagens para lidar com dados em faltantes em um conjunto de dados?\n",
    "   * Compreenda o que são vieses (bias) em dados;\n",
    "   * Compreenda o que é Data Augmentation;\n",
    "   * O que são Outliers e suas relações com [boxplot](https://youtu.be/QMXzY-QMgBE)?\n",
    "   * Qual a diferença entre correlação e causalidade?\n",
    "   * O que é a normalização de dados?\n",
    "   * Como transformar dados categóricos em dados numéricos (label encoding, one-hot encoding, numerical encoding)."
   ]
  },
  {
   "cell_type": "markdown",
   "metadata": {},
   "source": [
    "- Dica: Veja as plalists:  \n",
    "[Prof. Francisco Rodrigues](https://www.youtube.com/watch?v=bD2UYs1w_s4&list=PLSc7xcwCGNh3V21rogUKA3lQKKj9fo1sW)     \n",
    "[Prof. Cibele Russo](https://www.youtube.com/watch?v=BLIosfH2yM0&list=PLt7qVSwRVn5YEIvaMb02IJVKCpauWV-s9)    "
   ]
  },
  {
   "cell_type": "markdown",
   "metadata": {},
   "source": [
    "# Exercício 2: Análise Exploratória dos Dados da Pesquisa Origem e Destino 2007 na Região Metropolitana de São Paulo utilizando a Linguagem R\n",
    "\n",
    "\n",
    "## Acesse o [projeto](https://nbviewer.org/github/vsvasconcelos/EDA-R/blob/master/projecttemplatebr_vagner-rev4.html) e:\n",
    "\n",
    "### 1) Explore livremente o trabalho e tente encontrar algum insight\n",
    "\n",
    "### 2) Com relação a fig. 23 do trabalho, há alguma correlação significativa entre as 3 variáveis quantitativas envolvidas?\n",
    "\n",
    "### 3) Na seção 4 (gráficos multivariados), qual modelo foi utilizado para relacionar as variáveis \"duracao\" e \"distancia\"?\n",
    "   "
   ]
  },
  {
   "cell_type": "markdown",
   "metadata": {},
   "source": [
    "# Exercício 3: Investigando a base de dados Titanic\n",
    "\n",
    "\n",
    "## Acesse o [projeto](https://github.com/vsvasconcelos/Titanic/blob/master/P2-InvestigateDataset.ipynb) e:\n",
    "\n",
    "### 1) Explore livremente o trabalho e tente encontrar algum insight\n",
    "\n",
    "### 2) Execute o notebook.\n",
    "\n",
    "[![Binder](https://mybinder.org/badge_logo.svg)](https://mybinder.org/v2/gh/vsvasconcelos/Titanic/master?filepath=P2-InvestigateDataset.ipynb)"
   ]
  },
  {
   "cell_type": "markdown",
   "metadata": {},
   "source": [
    "# Dica\n",
    "   * [Como eu aprenderia Data Science em 2022 (se começasse do zero)](https://www.youtube.com/watch?v=K2Vu6E5Ybmo)\n",
    "   \n",
    "# Quer saber mais \n",
    "\n",
    "* Faça o curso [Data Cleaning](https://www.kaggle.com/learn/data-cleaning) do Kaggle    \n",
    "* Busque pela **Jornada de Ciência de Dados** no canal do [Laboratório Nacional de Computação Científica](https://www.youtube.com/watch?v=fdUr4Y5Mk9I)   \n",
    "\n",
    "\n",
    "## IA x Empregos\n",
    "\n",
    "* Leia o artigo: [Surgirá uma inteligência maior do que a humana?](https://brasil.elpais.com/brasil/2019/07/29/tecnologia/1564354846_969018.html) \n",
    "\n",
    "* Escute o podcast **Naruhodo** sobre **O que é singularidade?** [Parte 1 de 2](https://podcasts.google.com/feed/aHR0cHM6Ly9mZWVkcy5zaW1wbGVjYXN0LmNvbS9od1FWbTVneQ/episode/Mjg0MzA5NDgtYzA3Ny00NGU0LTk1YzAtOTJmOTcxZTU4OTQ0?ep=14) e [Parte 2 de 2](https://podcasts.google.com/feed/aHR0cHM6Ly9mZWVkcy5zaW1wbGVjYXN0LmNvbS9od1FWbTVneQ/episode/MTE5OGMwOGEtMjg1NC00YzJlLThkYWQtOTlmNWRhYzE5YzM0?sa=X&ved=0CAUQkfYCahcKEwiAiarpq5H2AhUAAAAAHQAAAAAQCg)\n",
    "\n",
    "* Pesquise por **Inteligência Artificial Genérica (IA Forte)**,  **Inteligência Artificial Estreita (IA Fraca)**, e procure a relação com a **Singularidade Tecnológica**?\n",
    "\n",
    "\n",
    "# O Futuro do Trabalho: 10 habilidades que vão estar em alta até 2025\n",
    "\n",
    "Segundo o relatório [Future of Jobs: The top 10 skills to be developed by 2025](http://www3.weforum.org/docs/WEF_Future_of_Jobs_2020.pdf), do Fórum Econômico Mundial, **Liderança** é a 6ª principal habilidade que estará em alta até 2025. \n",
    "\n",
    "# Liderança\n",
    "\n",
    "* Pesquise no artigo [COMPETÊNCIAS RELEVANTES PARA O PROFISSIONAL DO FUTURO - COMPETÊNCIAS LISTADAS PELO RELATÓRIO “THE FUTURE OF JOB” DO FÓRUM ECONÔMICO MUNDIAL E A PREVISÃO DE FUTURO DE YUVAL HARARI](https://semanaacademica.com.br/artigo/competencias-relevantes-para-o-profissional-do-futuro-competencias-listadas-pelo-relatorio-do) e no e-book [O Guia Definitivo das Competências](https://conteudo.qulture.rocks/o-guia-definitivo-das-competencias?tipo=ebooks) sobre **Liderança**.\n",
    "\n",
    "\n",
    "   - Assista aos vídeos ...\n",
    "\n",
    "[![Liderança](https://img.youtube.com/vi/P6R6vP3OzM0/hqdefault.jpg)](https://youtu.be/P6R6vP3OzM0 \"Liderança - Vídeo Motivacional\")      \n",
    "\n",
    "\n",
    "[![Liderança](https://img.youtube.com/vi/xgZ3P7QfgHw/hqdefault.jpg)](https://youtu.be/xgZ3P7QfgHw \"Pipeline de Liderança\")\n",
    "\n",
    "\n",
    "[![Claudio](https://img.youtube.com/vi/CnwN3Dza760/hqdefault.jpg)](https://youtu.be/CnwN3Dza760 \"ENAP - Data-driven\") \n"
   ]
  },
  {
   "cell_type": "markdown",
   "metadata": {},
   "source": [
    "# Inteligência artificial e suas aplicações em Gestão de Operações\n",
    "\n",
    "\n",
    "[![IA Gestão de Operações](https://img.youtube.com/vi/RjA7vr9KYWs/hqdefault.jpg)](https://youtu.be/RjA7vr9KYWs?t=208 \"IA Gestão de Operações\")"
   ]
  },
  {
   "cell_type": "markdown",
   "metadata": {},
   "source": [
    "Qualquer dúvida, poste no fórum da disciplina.\n",
    "### Te vejo na mentoria!"
   ]
  }
 ],
 "metadata": {
  "kernelspec": {
   "display_name": "Python 3",
   "language": "python",
   "name": "python3"
  },
  "language_info": {
   "codemirror_mode": {
    "name": "ipython",
    "version": 3
   },
   "file_extension": ".py",
   "mimetype": "text/x-python",
   "name": "python",
   "nbconvert_exporter": "python",
   "pygments_lexer": "ipython3",
   "version": "3.8.10"
  },
  "rise": {
   "autolaunch": true,
   "enable_chalkboard": true,
   "progress": true,
   "scroll": true,
   "slideNumber": true
  }
 },
 "nbformat": 4,
 "nbformat_minor": 4
}
