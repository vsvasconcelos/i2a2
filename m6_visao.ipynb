{
 "cells": [
  {
   "cell_type": "markdown",
   "metadata": {},
   "source": [
    "[<center><img src=\"images/Logo_I2A2.webp\"></center>](https://www.i2a2.ca/)         \n",
    "Rev 6"
   ]
  },
  {
   "cell_type": "markdown",
   "metadata": {},
   "source": [
    "# Módulo 6"
   ]
  },
  {
   "cell_type": "markdown",
   "metadata": {
    "slideshow": {
     "slide_type": "slide"
    }
   },
   "source": [
    "# Aula 2 - parte 1: Visão Computacional\n",
    "\n",
    "**Objetivo**: Apresentar os conceitos de visão computacional"
   ]
  },
  {
   "cell_type": "markdown",
   "metadata": {},
   "source": [
    "Este material o auxiliará nas sessões de autoestudo, contudo, fique à vontade para consultar outras fontes de informações, mas nunca deixe de citá-las."
   ]
  },
  {
   "cell_type": "markdown",
   "metadata": {},
   "source": [
    "<img src=\"images/deeplearning_convolutions.gif\"/>"
   ]
  },
  {
   "cell_type": "markdown",
   "metadata": {},
   "source": [
    "# Introdução a Visão Computacional\n",
    "\n",
    "[![cabelo](https://img.youtube.com/vi/EK9ZiPeo2ww/hqdefault.jpg)](https://youtu.be/EK9ZiPeo2ww?t=45 \"cabelo\") \n",
    "\n",
    "[![vc](https://img.youtube.com/vi/WOQiMgpVdBk/hqdefault.jpg)](https://youtu.be/WOQiMgpVdBk \"vc\") \n",
    "\n",
    "[![cabelo](https://img.youtube.com/vi/zvN017pzp8Q/hqdefault.jpg)](https://youtu.be/zvN017pzp8Q \"cabelo\") \n",
    "\n",
    "[![cabelo](https://img.youtube.com/vi/Iit4ruy1hIs/hqdefault.jpg)](https://youtu.be/Iit4ruy1hIs \"Paradigmas de Visão Computacional\") \n",
    "\n",
    "# Visão Natural e Processamento Digital de Imagens\n",
    "\n",
    "[![aprendreforço](https://img.youtube.com/vi/6SpRnq8Zba0/hqdefault.jpg)](https://youtu.be/6SpRnq8Zba0 \"aprendreforço\")  \n",
    "\n",
    "# Processamento de imagens com OpenCV\n",
    "[![OpenCV](https://img.youtube.com/vi/ts-bqGNw5Yc/hqdefault.jpg)](https://www.youtube.com/watch?v=ts-bqGNw5Yc&list=PLvVdNvJpL-oaIHnyQ4EMxT1Z7K1xHFnws \"OpenCV\") \n",
    "\n",
    "\n",
    "### Falamos de **Visão Computacional** e **Processamento Digital de Imagens**. Qual a diferença/relação entre estas duas áreas?\n",
    "\n",
    "* Leia os capítulos do livro [Deep Learning Book](https://www.deeplearningbook.com.br/): \n",
    "\n",
    "   * [Cap. 44 \"Reconhecimento de Imagens com Redes Neurais Convolucionais em Python – Parte 1\"](https://www.deeplearningbook.com.br/reconhecimento-de-imagens-com-redes-neurais-convolucionais-em-python-parte-1/)\n",
    "\n",
    "   * [Cap. 45 \"Reconhecimento de Imagens com Redes Neurais Convolucionais em Python – Parte 2\"](https://www.deeplearningbook.com.br/reconhecimento-de-imagens-com-redes-neurais-convolucionais-em-python-parte-2/)\n",
    "\n",
    "   * [Cap. 46 \"Reconhecimento de Imagens com Redes Neurais Convolucionais em Python – Parte 3\"](https://www.deeplearningbook.com.br/reconhecimento-de-imagens-com-redes-neurais-convolucionais-em-python-parte-3/)\n",
    "\n",
    "   * [Cap. 47 \"Reconhecimento de Imagens com Redes Neurais Convolucionais em Python – Parte 4\"](https://www.deeplearningbook.com.br/reconhecimento-de-imagens-com-redes-neurais-convolucionais-em-python-parte-4/)\n",
    "\n",
    "* Da uma olhada no [cap. 13 - Computer Vision](https://d2l.ai/chapter_computer-vision/index.html) do livro [Dive into Deep Learning](https://d2l.ai/index.html)\n",
    "\n",
    "\n",
    "# Detecção e localização de Objetos\n",
    "\n",
    "\n",
    "[![detecobjetos](https://img.youtube.com/vi/BhwppCyV2iI/hqdefault.jpg)](https://youtu.be/BhwppCyV2iI \"detecobjetos\") \n",
    "\n",
    "[![detecobjetos](https://img.youtube.com/vi/BH6D-VOxYsA/hqdefault.jpg)](https://youtu.be/BH6D-VOxYsA \"detecobjetos\") \n",
    "\n",
    "## O que é o YOLO?\n",
    "\n",
    "[![YOLO](https://img.youtube.com/vi/sH-zuu-RVKo/hqdefault.jpg)](https://youtu.be/sH-zuu-RVKo \"YOLO\") \n",
    "\n",
    "* Leia mais nos artigos:  \n",
    "\n",
    "    - [Detecção de Objetos com YOLO – Uma abordagem moderna](https://iaexpert.academy/2020/10/13/deteccao-de-objetos-com-yolo-uma-abordagem-moderna/)\n",
    "    - [A Gentle Introduction to YOLO v4 for Object detection in Ubuntu 20.04](https://robocademy.com/2020/05/01/a-gentle-introduction-to-yolo-v4-for-object-detection-in-ubuntu-20-04/)\n",
    "\n",
    "# Segmentação\n",
    "\n",
    "[![detecobjetos](https://img.youtube.com/vi/A8jwf-bc1Nk/hqdefault.jpg)](https://youtu.be/A8jwf-bc1Nk \"detecobjetos\")     \n",
    "\n",
    "# Classificação, Localização, Detecção e Segmentação de Imagens   \n",
    "\n",
    "- \n",
    "<center><img src=\"images/formasensinar.png\"></center>\n"
   ]
  },
  {
   "cell_type": "markdown",
   "metadata": {},
   "source": [
    "# Quer saber mais...\n",
    "\n",
    "* Explore o projeto [OpenPose](https://github.com/CMU-Perceptual-Computing-Lab/openpose)\n",
    "\n",
    "  <img src=\"images/raw.githubusercontent.comCMU-Perceptual-Computing-Labopenpos.gif\"/>\n",
    "  \n",
    "[![visao](https://img.youtube.com/vi/apaaljFG0sw/hqdefault.jpg)](https://youtu.be/apaaljFG0sw \"Introdução a Visão Computacional em Sistemas Embarcados\")\n",
    "  \n",
    "  * Veja a Playlist do curso **Redes Neurais Profundas para Aplicações de Visão Computacional** da UFG\n",
    "     \n",
    "[![visao](https://img.youtube.com/vi/tWB_2APSfaY/hqdefault.jpg)](https://www.youtube.com/watch?v=tWB_2APSfaY&list=PL95sSdJCNga2vUe_WUFwCOsrPmJnhCCv9 \"visao\")\n",
    " \n",
    "  * Veja a Playlist do curso **Processamento de imagens** do IMPA\n",
    " \n",
    "[![IMPA](https://img.youtube.com/vi/Bd0PCypQ44s/hqdefault.jpg)](https://www.youtube.com/playlist?list=PLo4jXE-LdDTRaFa39TdNN3FgPAKkcuHvj \"IMPA\")\n",
    "\n",
    "* Veja a Playlist do curso **Introdução à Visão Computacional** do INCoD\n",
    " \n",
    "[![INCoD](https://img.youtube.com/vi/dWOZTpmDkas/hqdefault.jpg)](https://www.youtube.com/watch?v=dWOZTpmDkas&list=PLmDIGfkfgKy1SBjXA0kBk4DAhIaN1vQOS \"INCoD\")\n",
    "\n",
    "* [ INE410121 Visão Computacional](https://www.youtube.com/playlist?list=PLmDIGfkfgKy0ZP64hbM8D2Kxk0t0tbsAT)\n",
    "\n",
    "* Veja [7 Best Free Computer Vision Courses You Must Know in 2022](https://www.mltut.com/best-free-computer-vision-courses/)\n",
    "\n",
    "* Veja esse projeto: **Virtual Button (LED Control) || Opencv Arduino** ...\n",
    "\n",
    "[![Virtual Button (LED Control) || Opencv Arduino](https://img.youtube.com/vi/D4uRWX8hsgk/hqdefault.jpg)](https://youtu.be/D4uRWX8hsgk \"Virtual Button (LED Control) || Opencv Arduino\")\n",
    "\n",
    "\n",
    "* Vídeo **Intel: Adoção de visão computacional e edge computing pela Indústria Brasileira** ...   \n",
    "[![Intel](https://img.youtube.com/vi/PwCTh0wNDpA/hqdefault.jpg)](https://youtu.be/PwCTh0wNDpA?t=274 \"Adoção de visão computacional e edge computing pela Indústria Brasileira\")  \n",
    "\n",
    "* Explore a plylist [Computer Vision - Machine Learning University](https://www.youtube.com/watch?v=_6CFi2CO2AI&list=PL8P_Z6C4GcuU4knhhCouJujFZ2tTqU-Ta)"
   ]
  },
  {
   "cell_type": "markdown",
   "metadata": {},
   "source": [
    "# Gosta de livros ...  \n",
    "\n",
    "[Como implementar IA em sua empresa - Lauria](https://conteudo.i2ai.org/implementar-ia-em-sua-empresa)\n",
    "\n",
    "[Reinforcement Learning an introdution - Sutton and Barto](https://www.andrew.cmu.edu/course/10-703/textbook/BartoSutton.pdf)\n",
    "\n",
    "[Deep Learning Book - pt_br](https://www.deeplearningbook.com.br/)\n",
    "\n",
    "[Computer Vision: Algorithms and Applications, 2nd ed.](https://szeliski.org/Book/)"
   ]
  },
  {
   "cell_type": "markdown",
   "metadata": {},
   "source": [
    "Qualquer dúvida, poste no fórum da disciplina.\n",
    "### Te vejo na mentoria!"
   ]
  }
 ],
 "metadata": {
  "kernelspec": {
   "display_name": "Python 3",
   "language": "python",
   "name": "python3"
  },
  "language_info": {
   "codemirror_mode": {
    "name": "ipython",
    "version": 3
   },
   "file_extension": ".py",
   "mimetype": "text/x-python",
   "name": "python",
   "nbconvert_exporter": "python",
   "pygments_lexer": "ipython3",
   "version": "3.8.10"
  },
  "rise": {
   "autolaunch": true,
   "enable_chalkboard": true,
   "progress": true,
   "scroll": true,
   "slideNumber": true
  }
 },
 "nbformat": 4,
 "nbformat_minor": 4
}
