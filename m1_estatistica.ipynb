{
 "cells": [
  {
   "cell_type": "markdown",
   "metadata": {},
   "source": [
    "[<center><img src=\"images/Logo_I2A2.webp\"></center>](https://www.i2a2.ca/)         \n",
    "Rev 15"
   ]
  },
  {
   "cell_type": "markdown",
   "metadata": {
    "slideshow": {
     "slide_type": "slide"
    }
   },
   "source": [
    "# Módulo 1 "
   ]
  },
  {
   "cell_type": "markdown",
   "metadata": {},
   "source": [
    "## Aula 2: Estatística\n",
    "\n",
    "**Objetivos**: Revisitar o conceito de estatística e suas aplicações em Inteligência Artificial."
   ]
  },
  {
   "cell_type": "markdown",
   "metadata": {},
   "source": [
    "Este material o auxiliará nas sessões de autoestudo, contudo, fique à vontade para consultar outras fontes de informações, mas nunca deixe de citá-las."
   ]
  },
  {
   "cell_type": "markdown",
   "metadata": {},
   "source": [
    "[<center><img src=\"images/ml_statistics.png\"></center>](https://viktortonkol.com/en/machine-learning-algorithms-overview/?cn-reloaded=1)         "
   ]
  },
  {
   "cell_type": "markdown",
   "metadata": {},
   "source": [
    "# Estatística Descritiva x Inferencial\n",
    "Sua primeira tarefa é entender os conceitos de **Estatística Descritiva e Estatística Inferencial**. Assista o vídeo abaixo e identifique o que cada uma destas duas categorias tratam:\n",
    "[![Introdução à Estatística: média, mediana e moda](https://img.youtube.com/vi/DW4s-gw9wu0/hqdefault.jpg)](https://youtu.be/DW4s-gw9wu0 \"Introdução à Estatística: média, mediana e moda\")"
   ]
  },
  {
   "cell_type": "markdown",
   "metadata": {},
   "source": [
    "# Tipo de variáveis\n",
    "\n",
    "Agora você deve identificar os tipos de variáveis e suas definições e exemplos. O vídeo abaixo pode te ajudar.\n",
    "[![Tipos de variaveis](https://img.youtube.com/vi/1zy6DTHQDzM/hqdefault.jpg)](https://youtu.be/1zy6DTHQDzM \"Tipos de variaveis\")"
   ]
  },
  {
   "cell_type": "markdown",
   "metadata": {},
   "source": [
    "# Qual o melhor gráfico para cada tipo de variável?      \n",
    "* O portal [Data-to-viz](https://www.data-to-viz.com/) possui uma árvore de decisão que pode nos ajudar a responder esta questão.        \n",
    "Ex.: qual tipo de gráfico você utilizaria para apresentar DUAS variáveis quantitativas contínuas, não ordenadas, com cerca de 800 pontos cada?  \n",
    "Explore o portal [Data-to-viz](https://www.data-to-viz.com/) e tente responder essa questão!  \n",
    "\n",
    "* Ainda no portal, tente identificar quais as diferenças na utilização de um gráfico de barras (barplot) e um histograma (histogram)?   \n",
    "\n",
    "* Acesse ainda no portal um tipo de gráfico qualquer e clique em \"Python gallery\" para ver exemplos de código em python.        \n",
    "\n",
    "* A visualização de dados é uma área fascinante, veja o vídeo de [Hans Rosling](https://www.publico.pt/2017/02/07/ciencia/noticia/morreu-hans-rosling-o-homem-que-fazia-os-numeros-cantar-1761223) 200 países, 200 anos, 4 minutos.   \n",
    "Que insights (sacada) você teve neste vídeo?\n",
    "[![200 países, 200 anos, 4 minutos](https://img.youtube.com/vi/fJ6y8ZJMoqM/hqdefault.jpg)](https://youtu.be/fJ6y8ZJMoqM \"200 países, 200 anos, 4 minutos\")\n",
    "\n",
    "# Mais sobre visualizações ...   \n",
    "* [Gráficos](https://youtu.be/0R-UQLRk4VI)        \n",
    "* [Tabelas](https://www.youtube.com/watch?v=gBOer0OnF4c&list=PLxI8Can9yAHeeWqe3m9HZFiBhT33Mfxew&index=8)\n",
    "* [Data Storytelling](http://datastorytelling.com.br/data-storytelling-e-planejar-analisar-e-comunicar-dados/)   \n"
   ]
  },
  {
   "cell_type": "markdown",
   "metadata": {},
   "source": [
    "## Análises Univariadas, Bivariadas e Multivariadas\n",
    "\n",
    "Pesquise livremente o que são cada uma destas análises, incluindo ainda os conceitos de:\n",
    "- Medidas de tendência central;\n",
    "- Medida de dispersão;\n",
    "- Formas de distribuição: curtose (kurtosis), assimetria (skewness);\n",
    "- Tabulação cruzada (cross-tabulations);\n",
    "- Tabelas de contingência (contingency tables);\n",
    "- Gráficos de dispersão (scatterplots).\n",
    "\n",
    "**Ah! não esqueça de citar as fontes consultadas.**\n",
    "\n",
    "Algumas sugestões: \n",
    "\n",
    "   - [Univesp](https://www.youtube.com/watch?v=efy2kjExwTU&list=PLxI8Can9yAHeeWqe3m9HZFiBhT33Mfxew&index=11)    \n",
    "    \n",
    "   - [khanacademy](https://pt.khanacademy.org/math/statistics-probability/displaying-describing-data/comparing-features-distributions/v/shapes-of-distributions)   \n",
    "   \n",
    "\n",
    "\n",
    "[<center><img src=\"images/estatisticaunivariada.jpg\"></center>](https://www.grupogen.com.br/e-book-manual-de-analise-de-dados)         "
   ]
  },
  {
   "cell_type": "markdown",
   "metadata": {},
   "source": [
    "# Estatística Inferencial\n",
    "\n",
    "Pesquise livremente por:\n",
    "  - Inferência Frequentista (clássica);\n",
    "  - Inferência Bayesiana.\n",
    "\n",
    "Sugestões:   \n",
    "   - [IBPAD](https://www.ibpad.com.br/blog/o-que-e-estatistica-bayesiana/)          \n",
    "   - [Storopoli](https://storopoli.io/Estatistica-Bayesiana/0-Estatistica-Bayesiana.html)\n"
   ]
  },
  {
   "cell_type": "markdown",
   "metadata": {},
   "source": [
    "* Assista o vídeo abaixo:   \n",
    "[![Teoria da Decisão Bayesiana na classificação de dados](https://img.youtube.com/vi/8zAKWEOdGsg/hqdefault.jpg)](https://youtu.be/8zAKWEOdGsg \"Teoria da Decisão Bayesiana na classificação de dados\")  \n",
    "\n",
    "* Leia o artigo [O que é o teorema de Bayes, regra essencial da informática criada para 'provar milagres'](https://www.bbc.com/portuguese/internacional-59701523?at_medium=custom7&at_campaign=64&at_custom2=facebook_page&at_custom1=%5Bpost+type%5D&at_custom3=BBC+Brasil&at_custom4=A92A8B88-A9F8-11EC-B86B-594D16F31EAE)\n",
    "\n",
    "* [![Bayes' Theorem (with Example!)](https://img.youtube.com/vi/akClB1J6b28/hqdefault.jpg)](https://www.youtube.com/watch?v=akClB1J6b28 \"Steve Brunton\")\n",
    "\n",
    "* Pesquise as ferramentas:     \n",
    "[PyStan](https://mc-stan.org/users/interfaces/pystan.html)      \n",
    "[PyMC3](https://docs.pymc.io/en/v3/)"
   ]
  },
  {
   "cell_type": "markdown",
   "metadata": {},
   "source": [
    "# Teste de hipóteses e valor-p\n",
    "\n",
    "* Assista o vídeo abaixo (não se preocupe com a utilização de python ainda):\n",
    "\n",
    "[![Teste de hipóteses e valor-p](https://img.youtube.com/vi/S3V5qJ1bxhk/hqdefault.jpg)](https://youtu.be/S3V5qJ1bxhk \"Teste de hipóteses e valor-p: \")\n",
    "\n",
    "Veja o artigo [Z- Statistics, T-Statistics, P-Statistics are Still Confusing you?](https://pub.towardsai.net/z-statistics-t-statistics-p-statistics-are-still-confusing-you-87557047e20a)"
   ]
  },
  {
   "cell_type": "markdown",
   "metadata": {},
   "source": [
    "# Pingouin\n",
    "* Explore o pacote estatístico [Pingouin](https://pingouin-stats.org/index.html), acompanhe o artigo [Análise de microdados do Enem: diferenças de rendimento entre alunos de escolas públicas e privadas](https://www.kaggle.com/stefanomozart/analise-enem)\n",
    "\n",
    "\n",
    "# Estatística x Machine Learning\n",
    "\n",
    "* Sua missão agora é compreender as conexões entre Estatística e Machine Learning.        \n",
    "Pesquise aqui:     \n",
    "    - [programmersought](https://www.programmersought.com/article/69513415524/)   \n",
    "    - [machinelearningmastery](https://machinelearningmastery.com/statistical-methods-in-an-applied-machine-learning-project/)\n",
    "\n",
    "\n",
    "* Assista o vídeo abaixo:   \n",
    "[![Estatística vs. Machine Learning](https://img.youtube.com/vi/ZXFCVS3n_n4/hqdefault.jpg)](https://youtu.be/ZXFCVS3n_n4 \"Estatística vs. Machine Learning\")     \n",
    "\n",
    "\n",
    "* Leia o artigo [Uma viagem de sete décadas na Inteligência Artificial](https://awaridados.substack.com/p/viagem-sete-decadas-inteligencia-artificial), em especial a parte **Estatística se torna Data Science, entra em campo e conduz o jogo**.\n",
    "\n",
    "* Segundo [Mussa, 2020](https://saintpaul.com.br/produto/inteligencia-artificial-mitos-e-verdades-1-edicao/) ...\n",
    "<center><img src=\"images/Estat_IA.jpg\"></center>        \n",
    "\n",
    "\n",
    "\n",
    "# Correlação e Causalidade\n",
    "\n",
    "* Assista ao vídeo abaixo e busque compreender as relações entre Correlação e Causalidade.  \n",
    "\n",
    "[![Correlação e Causalidade](https://img.youtube.com/vi/K4MXPV7jX8Q/hqdefault.jpg)](https://youtu.be/K4MXPV7jX8Q \"Correlação e Causalidade\")  \n",
    "\n",
    "* Leia o artigo [Correlação não implica necessariamente causalidade](http://comcept.org/cepticismo/correlacao-nao-implica-necessariamente-causalidade/)   \n",
    "\n",
    "* Assista o vídeo:\n",
    "[![Isto é matemática](https://img.youtube.com/vi/R3uvE-1yxgs/hqdefault.jpg)](https://youtu.be/R3uvE-1yxgs \"Correlações\")  \n",
    "\n",
    "\n",
    "# Quem ser um Cientista de Dados?\n",
    "- Veja estes 8 passos ...\n",
    "<center><img src=\"images/DataScienceEightSteps_Full.png\"></center>\n",
    "\n",
    "- Leia também o artigo [Cientista de Dados – Por Onde Começar em 8 Passos](https://blog.dsacademy.com.br/cientista-de-dados-por-onde-comecar-em-8-passos/) da DSA"
   ]
  },
  {
   "cell_type": "markdown",
   "metadata": {},
   "source": [
    "# Quer saber mais\n",
    "* Assista o documentário **O Prazer da Estatística** com o saudoso prof. Hans Rosling \n",
    "[![O Prazer da Estatística](https://img.youtube.com/vi/xLr68J2yDJ8/hqdefault.jpg)](https://youtu.be/xLr68J2yDJ8 \"O Prazer da Estatística\") \n",
    "\n",
    "* Explore a playlist de [Estatística](https://www.youtube.com/watch?v=cVIil-PyilQ&list=PLSc7xcwCGNh1nlUYd3NuFDqw3RjnsOowG) do prof. Francisco Rodrigues\n",
    "\n",
    "* Leia os artigos:\n",
    "    - [Inteligência Artificial no Contexto da Indústria 4.0](https://sol.sbc.org.br/index.php/wics/article/view/11044)   \n",
    "    - [An Introduction to Statisticsand Probability for Data Science](https://content.dataiku.com/data-scientist-statistics?utm_campaign=CONTENT+Nurturing+Workflows+June+2021&utm_medium=email&_hsmi=148868769&_hsenc=p2ANqtz--bIptJKbMDFN8sF4fvckLiH_PKmDO4ZwVypuJTXqdVuHbgWuw1ZvwrZN-9yVk-lgBiWYgXC0_otDogfrq0uCl8a7YQdQ&utm_content=131222482&utm_source=hs_email)\n",
    "\n",
    "* Explore o portal [Estatística para todos](https://sites.google.com/view/projetoestatsticapara/in%C3%ADcio) do prof. [Anibal Azevedo](https://www.youtube.com/watch?v=M8sC43_wa2I&list=PLH9knZH6lcgpoPdmY-AIBTVM9zLvC_JJI)   \n",
    "\n",
    "* Veja o vídeo [Introdução à estatística aplicada](https://eaulas.usp.br/portal/video?idItem=16694) do prof. Evandro Ribeiro\n",
    "\n",
    "* Explore a playlist de [Processos Estocásticos](https://www.youtube.com/watch?v=WOWi6dswgkY&list=PLSc7xcwCGNh0jSylDm0QrDJaFTC3vAbvc) do prof. Francisco Rodrigues\n",
    "\n",
    "* Explore a playlist de [Estatística](https://www.youtube.com/watch?v=rS8Luw6pTio&list=PLYDRySjwfgb_hcTTO77kK5kiVMxTXk3Nk) da prof. Fernanda Maciel\n",
    "\n",
    "* Veja a playlist do curso [Statistical Rethinking 2022](https://www.youtube.com/playlist?list=PLDcUM9US4XdMROZ57-OIRtIK0aOynbgZN) do prof. Richard McElreath\n",
    "[![Data Storytelling no Nubank](https://img.youtube.com/vi/cclUd_HoRlo/hqdefault.jpg)](https://youtu.be/cclUd_HoRlo \"Statistical Rethinking 2022\")    \n",
    "\n",
    "* Explore o portal [Portal da OBMEP - IMPA](https://portaldaobmep.impa.br/index.php/modulo/ver?modulo=99)\n",
    "\n",
    "\n",
    "* Assista ao vídeo ...\n",
    "\n",
    "[![Data Storytelling no Nubank](https://img.youtube.com/vi/ckhcT-RZeZY/hqdefault.jpg)](https://youtu.be/ckhcT-RZeZY \"Data Storytelling no Nubank\")    \n",
    "\n",
    "* Explore o canal [Fundamentals of Statistics Motivation](https://www.youtube.com/watch?v=pM9bbE7udVs&list=PLsugXK9b1w1kUHuAK2ChkQwqp4tT8jc66) \n",
    "\n",
    "* Leia o artigo [Melhorando a experiência de uso dos gráficos com visualização de dados\n",
    "](https://brasil.uxdesign.cc/melhorando-a-experiencia-de-uso-dos-graficos-com-visualizacao-de-dados-c8f20ff324cd)   \n",
    "\n",
    "\n",
    "# O Futuro do Trabalho: 10 habilidades que vão estar em alta até 2025\n",
    "\n",
    "Na aula passada falamos do relatório [Future of Jobs: The top 10 skills to be developed by 2025](http://www3.weforum.org/docs/WEF_Future_of_Jobs_2020.pdf) e do **pensamento analítico**, agora vamos tratar de **inovação**, uma vez que essa dupla foi a habilidade identificada, em nível mundial, mais em alta até 2025.  \n",
    "\n",
    "\n",
    "## Inovação\n",
    "\n",
    "* Pesquise no artigo [COMPETÊNCIAS RELEVANTES PARA O PROFISSIONAL DO FUTURO - COMPETÊNCIAS LISTADAS PELO RELATÓRIO “THE FUTURE OF JOB” DO FÓRUM ECONÔMICO MUNDIAL E A PREVISÃO DE FUTURO DE YUVAL HARARI](https://semanaacademica.com.br/artigo/competencias-relevantes-para-o-profissional-do-futuro-competencias-listadas-pelo-relatorio-do) e no e-book [O Guia Definitivo das Competências](https://conteudo.qulture.rocks/o-guia-definitivo-das-competencias?tipo=ebooks) por **inovação**.   \n",
    "\n",
    "* Assista ao bate papo dos prof. Jefferson Gomes e Celson Lima sobre inovação\n",
    "[![Inovação](https://img.youtube.com/vi/N0XVOmHXHks/hqdefault.jpg)](https://youtu.be/N0XVOmHXHks \"Inovação\")  \n",
    "\n",
    "\n",
    "* Escute o podcast **Inovação 4.0** [Inovação: a chave para o desenvolvimento](https://www.abdi.com.br/postagem/inovacao-a-chave-para-o-desenvolvimento) da **ABDI** "
   ]
  },
  {
   "cell_type": "markdown",
   "metadata": {},
   "source": [
    "# Gosta de livros ...    \n",
    "[Probabilidade e Estatística - Sonia Maria Barros Barbosa Correa](http://estpoli.pbworks.com/f/livro_probabilidade_estatistica_2a_ed.pdf)      \n",
    "\n",
    "[Matemática Estatística e Probabilidade - Jorge Luiz de Castro e Silva et al](https://educapes.capes.gov.br/bitstream/capes/554261/2/Livro%20Estatistica%20e%20Probabilidade%20.pdf)   \n",
    "\n",
    "[Introduction to Probability for Data Science - Stanley H. Chan](https://probability4datascience.com/)  \n",
    "\n",
    "[Aprendizado de Máquina: uma abordagem estatística - Rafael Izbicki](http://www.rizbicki.ufscar.br/ame/)  \n",
    "\n",
    "[An Introduction to Statisticsand Probability for Data Science - dataiku](https://content.dataiku.com/data-scientist-statistics?utm_campaign=CONTENT+Nurturing+Workflows+June+2021&utm_medium=email&_hsmi=148868769&_hsenc=p2ANqtz--bIptJKbMDFN8sF4fvckLiH_PKmDO4ZwVypuJTXqdVuHbgWuw1ZvwrZN-9yVk-lgBiWYgXC0_otDogfrq0uCl8a7YQdQ&utm_content=131222482&utm_source=hs_email)\n",
    "\n",
    "[An Introduction to Statistical Learning](https://www.statlearning.com/)"
   ]
  },
  {
   "cell_type": "markdown",
   "metadata": {},
   "source": [
    "Qualquer dúvida, poste no fórum da disciplina.\n",
    "### Te vejo na mentoria!"
   ]
  }
 ],
 "metadata": {
  "kernelspec": {
   "display_name": "Python 3 (ipykernel)",
   "language": "python",
   "name": "python3"
  },
  "language_info": {
   "codemirror_mode": {
    "name": "ipython",
    "version": 3
   },
   "file_extension": ".py",
   "mimetype": "text/x-python",
   "name": "python",
   "nbconvert_exporter": "python",
   "pygments_lexer": "ipython3",
   "version": "3.8.10"
  },
  "rise": {
   "autolaunch": true,
   "enable_chalkboard": true,
   "progress": true,
   "scroll": true,
   "slideNumber": true
  }
 },
 "nbformat": 4,
 "nbformat_minor": 4
}
