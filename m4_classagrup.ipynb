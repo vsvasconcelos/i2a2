{
 "cells": [
  {
   "cell_type": "markdown",
   "metadata": {
    "slideshow": {
     "slide_type": "slide"
    }
   },
   "source": [
    "[<center><img src=\"images/Logo_I2A2.webp\"></center>](https://www.i2a2.ca/)         \n",
    "Rev 9"
   ]
  },
  {
   "cell_type": "markdown",
   "metadata": {
    "slideshow": {
     "slide_type": "slide"
    }
   },
   "source": [
    "# Módulo 4"
   ]
  },
  {
   "cell_type": "markdown",
   "metadata": {
    "slideshow": {
     "slide_type": "slide"
    }
   },
   "source": [
    "# Aula 1 - Classificação e Agrupamento\n",
    "\n",
    "**Objetivo**: Apresentar os algoritmos de classificação e agrupamento"
   ]
  },
  {
   "cell_type": "markdown",
   "metadata": {
    "slideshow": {
     "slide_type": "slide"
    }
   },
   "source": [
    "Este material o auxiliará nas sessões de autoestudo, contudo, fique à vontade para consultar outras fontes de informações, mas nunca deixe de citá-las."
   ]
  },
  {
   "cell_type": "markdown",
   "metadata": {
    "slideshow": {
     "slide_type": "slide"
    }
   },
   "source": [
    "[<img src=\"https://btechmag.com/wp-content/uploads/2020/11/Clusteringclasification-Animales-NEW.gif\">](https://btechmag.com/machine-learning/machine-learning-techniques-every-aspiring-data-scientist-should-know/)\n"
   ]
  },
  {
   "cell_type": "markdown",
   "metadata": {
    "slideshow": {
     "slide_type": "slide"
    }
   },
   "source": [
    "# Escolhendo o algoritmo/modelo (estimador) correto\n",
    "\n",
    "Muitas vezes, a parte mais difícil de resolver um problema de aprendizado de máquina pode ser encontrar o estimador certo para o trabalho.     \n",
    "O fluxograma abaixo foi projetado para fornecer aos usuários um guia aproximado sobre como abordar problemas em relação a quais estimadores devem ser testados em seus dados.    \n",
    "Clique em qualquer estimador no gráfico abaixo para ver sua documentação."
   ]
  },
  {
   "cell_type": "markdown",
   "metadata": {
    "slideshow": {
     "slide_type": "subslide"
    }
   },
   "source": [
    "[<img src=\"images/ml_map.png\"/>](https://scikit-learn.org/stable/tutorial/machine_learning_map/index.html)"
   ]
  },
  {
   "cell_type": "markdown",
   "metadata": {
    "slideshow": {
     "slide_type": "slide"
    }
   },
   "source": [
    "# Relembrando ...\n",
    "* As variáveis podem ser classificadas em:\n",
    "\n",
    "    - Variáveis não métricas (qualitativas, categóricas): permitem apenas a análise de frequências, sem a possibilidade do cálculo de medidas de posição e de dispersão, exceto a moda; e\n",
    "    - Variáveis métricas (quantitativas): são representadas por valores que podem ser tratados com o intuito do cálculo de medidas de posição (ex. média) ou dispersão (ex. desvio padrão). Podem ser discretas (ex. número de filhos) ou contínuas (ex. salário). Ao contrário das variáveis qualitativas, as métricas suportam um número bem maior de representações gráficas, tais como: gráficos de dispersão, de linha, etc; bem como o cálculo de correlações entre variáveis deste tipo.\n",
    "    \n",
    "Fonte: [Fávaro et al. (2009)](https://scholar.google.com.br/scholar?hl=pt-BR&as_sdt=0,5&cluster=12103570380505974351)"
   ]
  },
  {
   "cell_type": "markdown",
   "metadata": {
    "slideshow": {
     "slide_type": "slide"
    }
   },
   "source": [
    "# Explore o fluxograma \n",
    "   - Em quantos grandes grupos os estimadores se dividem?\n",
    "   - Quais são esses grandes grupos?\n",
    "   - Qual a quantidade mínima de dados recomendada?\n",
    "   - Se para resolver o seu  problema de negócio é  necessário a predição de uma variável categórica, qual o critério em optar por estimadores do tipo classificação ou clustering (agrupamento)?\n",
    "   - Já se o problema envolve a predição de uma variável quantitativa, qual grupo de estimador utilizar?"
   ]
  },
  {
   "cell_type": "markdown",
   "metadata": {
    "slideshow": {
     "slide_type": "slide"
    }
   },
   "source": [
    "# Estimadores de Classificação        \n",
    "* Clique em cada um dos estimadores de classificação (caixas verdes) para a acessar suas documentações.\n",
    "    - Liste os tipos de classificadores;\n",
    "    - O que é um classificador binário e um multi classe?\n",
    "    - Acesse exemplos;\n",
    "    - Atente para a formulação matemática dos modelos. Lembra quando alguém perguntou: \"professora para que serve isto?\"."
   ]
  },
  {
   "cell_type": "markdown",
   "metadata": {
    "slideshow": {
     "slide_type": "slide"
    }
   },
   "source": [
    "## SVM - Support Vector Machines (Máquina de vetores de suporte)\n",
    "\n",
    "* Assista aos vídeos ...\n",
    "\n",
    "[![SVM](https://img.youtube.com/vi/ba7tMJZbGyA/hqdefault.jpg)](https://youtu.be/ba7tMJZbGyA \"SGD\") "
   ]
  },
  {
   "cell_type": "markdown",
   "metadata": {
    "slideshow": {
     "slide_type": "slide"
    }
   },
   "source": [
    "[![SVM](https://img.youtube.com/vi/6HyWgMMb7LM/hqdefault.jpg)](https://youtu.be/6HyWgMMb7LM \"Support Vector Machine\") \n",
    "\n",
    "* Explore o Github do [Prof. Santanchè](https://github.com/datasci4health/home)"
   ]
  },
  {
   "cell_type": "markdown",
   "metadata": {
    "slideshow": {
     "slide_type": "slide"
    }
   },
   "source": [
    "* Veja a documentação do SVM no [Scikit-learn](https://scikit-learn.org/stable/modules/svm.html#classification)\n",
    "\n",
    "* Leia o artigo: [Understanding the Mathematics behind Support Vector Machines](https://lav-mehta.medium.com/understanding-the-mathematics-behind-support-vector-machines-335c10a407e)"
   ]
  },
  {
   "cell_type": "markdown",
   "metadata": {
    "slideshow": {
     "slide_type": "slide"
    }
   },
   "source": [
    "## SGD - Stochastic Gradient Descent\n",
    "\n",
    "* Assista ao vídeo ... \n",
    "\n",
    "[![SGD](https://img.youtube.com/vi/NJ6SEJEmuGY/hqdefault.jpg)](https://youtu.be/NJ6SEJEmuGY \"SGD\") \n"
   ]
  },
  {
   "cell_type": "markdown",
   "metadata": {},
   "source": [
    "## KNN - K Nearest Neighbor\n",
    "\n",
    "* Assista ao vídeo ... \n",
    "\n",
    "[![KNN](https://img.youtube.com/vi/DeAuVrhKw58/hqdefault.jpg)](https://youtu.be/DeAuVrhKw58 \"KNN\") "
   ]
  },
  {
   "cell_type": "markdown",
   "metadata": {},
   "source": [
    "## Naive Bayes\n",
    "\n",
    "* Assista ao vídeo ... \n",
    "\n",
    "[![Naive Bayes](https://img.youtube.com/vi/8ZqsODxehO4/hqdefault.jpg)](https://youtu.be/8ZqsODxehO4 \"Naive Bayes\")"
   ]
  },
  {
   "cell_type": "markdown",
   "metadata": {},
   "source": [
    "## Ensemble - Comitê de Máquinas de Aprendizado\n",
    "\n",
    "* Assista ao vídeo ... \n",
    "\n",
    "[![Ensemble](https://img.youtube.com/vi/41yF29X8QTA/hqdefault.jpg)](https://youtu.be/41yF29X8QTA \"Ensemble\") "
   ]
  },
  {
   "cell_type": "markdown",
   "metadata": {},
   "source": [
    "## Kernel Approximation\n",
    "\n",
    "* Leia o artigo: [Kernel Functions for Machine Learning Applications](http://crsouza.com/2010/03/17/kernel-functions-for-machine-learning-applications/)"
   ]
  },
  {
   "cell_type": "markdown",
   "metadata": {},
   "source": [
    "# Estimadores de Agrupamento (Clustering)\n",
    "\n",
    "* Clique em cada um dos estimadores de agrupamento (caixas verdes) para a acessar suas documentações.\n",
    "    - Liste os tipos de agrupamentos;\n",
    "    - Acesse exemplos;\n",
    "    - Atente para a formulação matemática dos modelos."
   ]
  },
  {
   "cell_type": "markdown",
   "metadata": {},
   "source": [
    "## Kmeans \n",
    "* Assista aos vídeos ... \n",
    "\n",
    "[![kmeans1](https://img.youtube.com/vi/WqMnQuC19Rg/hqdefault.jpg)](https://youtu.be/WqMnQuC19Rg \"kmeans1\")\n",
    "\n",
    "[![kmeans](https://img.youtube.com/vi/5koTNJD6fjQ/hqdefault.jpg)](https://youtu.be/5koTNJD6fjQ \"kmeans\")"
   ]
  },
  {
   "cell_type": "markdown",
   "metadata": {},
   "source": [
    "## Spectral clustering\n",
    "\n",
    "* Assista ao vídeo ... \n",
    "\n",
    "[![spectralclustering](https://img.youtube.com/vi/4pSg0XbMn0U/hqdefault.jpg)](https://youtu.be/4pSg0XbMn0U \"spectralclustering\")"
   ]
  },
  {
   "cell_type": "markdown",
   "metadata": {},
   "source": [
    "## GMM - Gaussian mixture models\n",
    "\n",
    "* Assista ao vídeo ... \n",
    "\n",
    "[![gmm](https://img.youtube.com/vi/x75j6y9nvJU/hqdefault.jpg)](https://youtu.be/x75j6y9nvJU \"gmm\")"
   ]
  },
  {
   "cell_type": "markdown",
   "metadata": {},
   "source": [
    "## Minibatch kmeans\n",
    "\n",
    "* Leia o artigo: [ML | Mini Batch K-means clustering algorithm](https://www.geeksforgeeks.org/ml-mini-batch-k-means-clustering-algorithm/)"
   ]
  },
  {
   "cell_type": "markdown",
   "metadata": {},
   "source": [
    "## Meanshift\n",
    "\n",
    "* Leia o artigo: [How to perform Mean Shift clustering with Python in Scikit?](https://www.machinecurve.com/index.php/2020/04/23/how-to-perform-mean-shift-clustering-with-python-in-scikit/0)"
   ]
  },
  {
   "cell_type": "markdown",
   "metadata": {},
   "source": [
    "## VBGMM - Variational Bayesian Gaussian Mixture\n",
    "\n",
    "* Leia o artigo: [Variational Inference in Bayesian Multivariate Gaussian Mixture Model](https://towardsdatascience.com/variational-inference-in-bayesian-multivariate-gaussian-mixture-model-41c8cc4d82d7)"
   ]
  },
  {
   "cell_type": "markdown",
   "metadata": {},
   "source": [
    "# Introdução ao SKLearn\n",
    "\n",
    "[![MLxDL](https://img.youtube.com/vi/8735giisOXE/hqdefault.jpg)](https://youtu.be/8735giisOXE \"sklearn\") \n",
    "\n",
    "Leia os artigos:\n",
    "\n",
    "   * [Introdução ao Scikit-learn - Parte 1: uma visão geral](http://computacaointeligente.com.br/outros/intro-sklearn-part-1/)\n",
    "   * [Introdução ao Scikit-learn - Parte 2: criando o primeiro projeto](http://computacaointeligente.com.br/outros/intro-sklearn-part-2/)\n",
    "   * [Introdução ao Scikit-learn - Parte 3: avaliando a qualidade do modelo via cross-validation](http://computacaointeligente.com.br/outros/intro-sklearn-part-3/)\n",
    "   \n",
    "   * Explore o portal **Machine Learning in Python**\n",
    "   [<center><img src=\"images/sklearn.png\"></center>](https://scikit-learn.org/stable/)  "
   ]
  },
  {
   "cell_type": "markdown",
   "metadata": {},
   "source": [
    "# Exercício 1\n",
    "\n",
    "* Execute o notebook **Machine Learning**\n",
    "\n",
    "    - Opte, quando houver opção, pelo Bind e/ou Colab;   \n",
    "    - Obs.: No Binder, para sair do modo apresentação (rise) do notebook, click no **x** do lado superior esquerdo!\n",
    "\n",
    "[![Binder](https://mybinder.org/badge_logo.svg)](https://mybinder.org/v2/gh/storopoli/ciencia-de-dados/main?filepath=notebooks%2FAula_10_Machine_Learning.ipynb)\n",
    "<br>\n",
    "[![Open In Colab](https://colab.research.google.com/assets/colab-badge.svg)](https://colab.research.google.com/github/storopoli/ciencia-de-dados/blob/main/notebooks/Aula_10_Machine_Learning.ipynb)"
   ]
  },
  {
   "cell_type": "markdown",
   "metadata": {},
   "source": [
    "# Exercício 2\n",
    "\n",
    "* Execute o notebook **Análise de Agrupamentos (Clusterização)**   \n",
    "\n",
    "[![Binder](https://mybinder.org/badge_logo.svg)](https://mybinder.org/v2/gh/storopoli/ciencia-de-dados/main?filepath=notebooks%2FAula_17_Clusterizacao.ipynb)   \n",
    "<br>\n",
    "[![Open In Colab](https://colab.research.google.com/assets/colab-badge.svg)](https://colab.research.google.com/github/storopoli/ciencia-de-dados/blob/main/notebooks/Aula_17_Clusterizacao.ipynb)"
   ]
  },
  {
   "cell_type": "markdown",
   "metadata": {},
   "source": [
    "# Exercício 3\n",
    "\n",
    "* Execute o notebook **SVM (Máquina de Vetores de Suporte)**\n",
    "\n",
    "[![Binder](https://mybinder.org/badge_logo.svg)](https://mybinder.org/v2/gh/storopoli/ciencia-de-dados/main?filepath=notebooks%2FAula_13_Support_Vector_Machines.ipynb)\n",
    "<br>\n",
    "[![Open In Colab](https://colab.research.google.com/assets/colab-badge.svg)](https://colab.research.google.com/github/storopoli/ciencia-de-dados/blob/main/notebooks/Aula_13_Support_Vector_Machines.ipynb)"
   ]
  },
  {
   "cell_type": "markdown",
   "metadata": {},
   "source": [
    "# Exercício 4\n",
    "\n",
    "* Execute o notebook **Árvore de Decisão**\n",
    "\n",
    "[![Binder](https://mybinder.org/badge_logo.svg)](https://mybinder.org/v2/gh/storopoli/ciencia-de-dados/main?filepath=notebooks%2FAula_14_Arvores_de_Decisao.ipynb)\n",
    "<br>\n",
    "[![Open In Colab](https://colab.research.google.com/assets/colab-badge.svg)](https://colab.research.google.com/github/storopoli/ciencia-de-dados/blob/main/notebooks/Aula_14_Arvores_de_Decisao.ipynb)"
   ]
  },
  {
   "cell_type": "markdown",
   "metadata": {},
   "source": [
    "# Exercício 5\n",
    "\n",
    "* Execute o notebook **Floresta Aleatória (Random Forest)**\n",
    "\n",
    "[![Binder](https://mybinder.org/badge_logo.svg)](https://mybinder.org/v2/gh/storopoli/ciencia-de-dados/main?filepath=notebooks%2FAula_15_Florestas_Aleatorias.ipynb)\n",
    "<br>\n",
    "[![Open In Colab](https://colab.research.google.com/assets/colab-badge.svg)](https://colab.research.google.com/github/storopoli/ciencia-de-dados/blob/main/notebooks/Aula_15_Florestas_Aleatorias.ipynb)"
   ]
  },
  {
   "cell_type": "markdown",
   "metadata": {},
   "source": [
    "# Quer saber mais\n",
    "\n",
    "\n",
    "## AutoML\n",
    "[![AutoML](https://img.youtube.com/vi/Yh55o3QFAHw/hqdefault.jpg)](https://youtu.be/Yh55o3QFAHw \"AutoML\")\n",
    "\n",
    "[![AutoML](https://img.youtube.com/vi/88jD1nnkNfM/hqdefault.jpg)](https://youtu.be/88jD1nnkNfM \"AutoML\")\n",
    "\n",
    "* Execute o notebook **Binary Classification Tutorial Level Beginner**\n",
    "\n",
    "[![Binder](https://mybinder.org/badge_logo.svg)](https://mybinder.org/v2/gh/pycaret/pycaret/master?filepath=tutorials/Binary%20Classification%20Tutorial%20Level%20Beginner%20-%20%20CLF101.ipynb)\n",
    "<br>\n",
    "[![Open In Colab](https://colab.research.google.com/assets/colab-badge.svg)](https://colab.research.google.com/github/pycaret/pycaret/blob/master/tutorials/Binary%20Classification%20Tutorial%20Level%20Beginner%20-%20%20CLF101.ipynb)\n",
    "\n",
    "* Execute o notebook **Clustering Tutorial Level Beginner**\n",
    "\n",
    "[![Binder](https://mybinder.org/badge_logo.svg)](https://mybinder.org/v2/gh/pycaret/pycaret/master?filepath=tutorials/Clustering%20Tutorial%20Level%20Beginner%20-%20CLU101.ipynb)\n",
    "<br>\n",
    "[![Open In Colab](https://colab.research.google.com/assets/colab-badge.svg)](https://colab.research.google.com/github/pycaret/pycaret/blob/master/tutorials/Clustering%20Tutorial%20Level%20Beginner%20-%20CLU101.ipynb)\n",
    "\n",
    "\n",
    "Assista aos vídeos ...\n",
    "\n",
    "   * Classificação\n",
    "[![DSindustria](https://img.youtube.com/vi/EhXT_uWNuCg/hqdefault.jpg)](https://youtu.be/EhXT_uWNuCg \"DSindustria\")\n",
    "\n",
    "   * [notebook](https://www.kaggle.com/afrniomelo/epv-peq-aula-3-classifica-o)\n",
    "   \n",
    "   * Clusterização\n",
    "[![DSinduclust](https://img.youtube.com/vi/1XS8Sw8jeuI/hqdefault.jpg)](https://youtu.be/1XS8Sw8jeuI \"DSinduclust\")\n",
    "\n",
    "   * [notebook](https://www.kaggle.com/afrniomelo/epv-peq-aula-4-clusteriza-o)\n",
    "\n",
    "[![KNN](https://img.youtube.com/vi/4Dpf76AB9Js/hqdefault.jpg)](https://youtu.be/4Dpf76AB9Js \"KNN\")\n",
    "\n",
    "* Assista a playlist [Machine Learning | Python e scikit-learning](https://www.youtube.com/watch?v=BQFS7dxMNuM&list=PL5fQ3JoS0SZs2X_eN2QA555boD21alEUf) e explore também esse [GitHub](https://github.com/ronaldolagepessoa/machine-learning)\n",
    "\n",
    "* Assista a playlist [Data Science e Machine Learning na Indústria de Processos](https://www.youtube.com/watch?v=0iE3JsQpU_U&list=PLvr45Arc0UpzsRhzq3q4_KmZcm0utwvvB)\n",
    "\n",
    "* Leia o artigo [Desenvolvimento e análise de algoritmos aplicados na predição de acidentes em ambiente fabril](https://sol.sbc.org.br/index.php/latinoware/article/view/10329)  \n",
    "\n",
    "* Leia o artigo [Top 10 Machine Learning Algorithms Data Scientists should Master](https://www.analyticsinsight.net/top-10-machine-learning-algorithms-data-scientists-should-master/)\n",
    "\n",
    "* Explore o site [Drive Innovation & Performance into Your Scikit-learn* Machine-Learning Tasks](https://www.intel.com/content/www/us/en/developer/videos/drive-innovation-performance-scikit-learn-ml-tasks.html?cid=psm&source=facebook_soc_ih&campid=ww_1ai_satg&content=vid-idz_ai-seg&fbclid=IwAR0IdkF5lObL8b1Da4_IKL2YU4N9hWwa4oA_oO-TAZNhYCRna3P-wsQXA0M#gs.nyhyqb)\n",
    "\n",
    "* Explore a playlist do [Building Nubank](https://www.youtube.com/watch?v=qPYqeD2OUl4&list=PLfqo9_UMdHhYi6edz_uCRVDZASyp4Nj2e)\n",
    "\n",
    "* Explore o portal [Clustering in Machine Learning](https://developers.google.com/machine-learning/clustering)\n",
    "\n",
    "#### Assista ao curso: Disciplina de inteligência artificial da pós-graduação da Faculdade de Saúde Pública da USP ministrada pelo Prof. Alexandre Chiavegatto Filho.\n",
    "\n",
    "[![ML_saude](https://img.youtube.com/vi/0G3GN2su2Mc/hqdefault.jpg)](https://www.youtube.com/watch?v=0G3GN2su2Mc&list=PLpvV74h3lihLdYrlnhlx_phy4pFZeZsKx&index=1&t=9s \"Prof. Alexandre Chiavegatto Filho.\")\n",
    "\n",
    "# O Futuro do Trabalho\n",
    "\n",
    "* Nas aulas passadas exploramos o relatório [Future of Jobs: The top 10 skills to be developed by 2025](http://www3.weforum.org/docs/WEF_Future_of_Jobs_2020.pdf), do Fórum Econômico Mundial, detalhando cada uma das 10 principais habilidades que estarão em alta até 2025.   \n",
    "\n",
    "* Leia os artigos abaixo e identifique, na visão dos autores, quais as **soft skills** mais importantes na área de dados: \n",
    "\n",
    "    - [Soft Skills mais importantes para a área de dados](https://www.alura.com.br/artigos/soft-skills-mais-importantes-area-dados) e\n",
    "    - [These Soft Skills Can Make or Break Your Data Science Career](https://www.kdnuggets.com/2021/05/soft-skills-data-science-career.html).\n",
    "    \n",
    "## Quais são suas Capacidades (capabilities)?\n",
    "\n",
    "\n",
    "[Business capability](https://www.omg.org/news/member-news/OMG-Putting-Cap-To-Work.pdf) (ou simplesmente, capability)\n",
    "\n",
    "Uma capacidade de negócios (ou simplesmente, capacidade) descreve uma habilidade coletiva única que pode ser aplicada para alcançar um resultado específico. Um modelo de capabilities descreve o conjunto completo de recursos que a equipe precisa para executar seu modelo de negócios ou cumprir sua missão. Uma maneira fácil de entender o conceito é pensar nas capacidades como habilidades de nível organizacional embutidas em pessoas, processos e/ou tecnologias.\n",
    "\n",
    "* Assista ao vídeo do prof. José Finocchio Jr \n",
    "\n",
    "[![Finocchio](https://img.youtube.com/vi/zQOUbCdAd2Y/hqdefault.jpg)](https://youtu.be/zQOUbCdAd2Y \"Descoberta e Planejamento das Capacidades\")\n",
    "\n",
    "* Quer descobrir como estão suas habilidades de oratória, produtividade, inteligência emocional, negociação e liderança? Faça o [Check-up de Soft Skills](https://s.surveyanyplace.com/check-up-soft-skills) da Conquer. Após o check-up, você receberá os resultados da sua avaliação com dicas práticas de como melhorá-las.  \n",
    "\n",
    "* Explore o canal [Decision Trees and Ensemble Methods - Machine Learning University](https://www.youtube.com/playlist?list=PL8P_Z6C4GcuXrj9crYtU_XaYh3Jac4x0p)   \n",
    "\n",
    "* Explore o portal [Criar modelos de machine learning](https://docs.microsoft.com/pt-br/learn/paths/create-machine-learn-models/)  \n",
    "\n",
    "* Leia o artigo [A importância das Soft Skills, e por que nunca foram prioridade](https://mittechreview.com.br/a-importancia-das-soft-skills-e-porque-nunca-foram-prioridade/?share)"
   ]
  },
  {
   "cell_type": "markdown",
   "metadata": {},
   "source": [
    "# Gosta de livros\n",
    "\n",
    "[Mastering Machine Learning with scikit-learn](http://www.smallake.kr/wp-content/uploads/2017/03/Mastering-Machine-Learning-with-scikit-learn.pdf)\n",
    "\n",
    "[A Programmer's Guide to Data Mining](http://guidetodatamining.com/)  \n",
    "\n",
    "[Python Machine Learning Projects - Tagliaferri et. al](https://assets.digitalocean.com/books/python/machine-learning-projects-python.pdf)  \n",
    "\n",
    "[Approaching (Almost) Any Machine Learning Problem, by Abhishek Thakur](https://github.com/abhishekkrthakur/approachingalmost/blob/master/AAAMLP.pdf)"
   ]
  },
  {
   "cell_type": "markdown",
   "metadata": {},
   "source": [
    "Qualquer dúvida, poste no fórum da disciplina.\n",
    "### Te vejo na mentoria!"
   ]
  }
 ],
 "metadata": {
  "celltoolbar": "Slideshow",
  "kernelspec": {
   "display_name": "Python 3",
   "language": "python",
   "name": "python3"
  },
  "language_info": {
   "codemirror_mode": {
    "name": "ipython",
    "version": 3
   },
   "file_extension": ".py",
   "mimetype": "text/x-python",
   "name": "python",
   "nbconvert_exporter": "python",
   "pygments_lexer": "ipython3",
   "version": "3.8.10"
  },
  "rise": {
   "autolaunch": true,
   "enable_chalkboard": true,
   "progress": true,
   "scroll": true,
   "slideNumber": true
  }
 },
 "nbformat": 4,
 "nbformat_minor": 4
}
