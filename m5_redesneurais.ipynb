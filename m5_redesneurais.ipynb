{
 "cells": [
  {
   "cell_type": "markdown",
   "metadata": {},
   "source": [
    "[<center><img src=\"images/Logo_I2A2.webp\"></center>](https://www.i2a2.ca/)         \n",
    "Rev 6"
   ]
  },
  {
   "cell_type": "markdown",
   "metadata": {},
   "source": [
    "# Módulo 5"
   ]
  },
  {
   "cell_type": "markdown",
   "metadata": {
    "slideshow": {
     "slide_type": "slide"
    }
   },
   "source": [
    "# Aula 1 - Redes Neurais\n",
    "\n",
    "**Objetivo**: Apresentar as redes neurais e suas aplicações"
   ]
  },
  {
   "cell_type": "markdown",
   "metadata": {},
   "source": [
    "Este material o auxiliará nas sessões de autoestudo, contudo, fique à vontade para consultar outras fontes de informações, mas nunca deixe de citá-las."
   ]
  },
  {
   "cell_type": "markdown",
   "metadata": {},
   "source": [
    "<img src=\"images/backpropagation.gif\"/>"
   ]
  },
  {
   "cell_type": "markdown",
   "metadata": {},
   "source": [
    "# Redes Neurais\n",
    "\n",
    "* Assista aos vídeos:    \n",
    "\n",
    "\n",
    "[![redesneurais](https://img.youtube.com/vi/fEukSrpDPH0/hqdefault.jpg)](https://youtu.be/fEukSrpDPH0 \"redesneurais\") \n",
    "\n",
    "   - Mas o que é uma Rede Neural?\n",
    "\n",
    "[![3Blue1Brown](https://img.youtube.com/vi/aircAruvnKk/hqdefault.jpg)](https://youtu.be/aircAruvnKk \"Mas o que é uma Rede Neural?\")  \n",
    "\n",
    "   - Redes neurais e multilayer perceptron\n",
    "\n",
    "[![redesneurais](https://img.youtube.com/vi/0eQ6-6A5W6I/hqdefault.jpg)](https://youtu.be/0eQ6-6A5W6I \"redesneurais\") \n",
    "\n",
    "[![redesneurais](https://img.youtube.com/vi/XUN6kFiNZdU/hqdefault.jpg)](https://youtu.be/XUN6kFiNZdU \"redesneurais\") \n",
    "\n",
    "## Vamos brincar no playground\n",
    "\n",
    "   * Assista ao vídeo:\n",
    "[![redesneurais](https://img.youtube.com/vi/nmqLNOa32o0/hqdefault.jpg)](https://youtu.be/nmqLNOa32o0 \"redesneurais\") \n",
    "\n",
    "e comece a brincar no [TensorFlow Playground](https://playground.tensorflow.org)\n",
    "   \n",
    "   * Assista ao vídeo ...\n",
    "   [![redesneurais](https://img.youtube.com/vi/4P9tNTemHI4/hqdefault.jpg)](https://youtu.be/4P9tNTemHI4 \"redesneurais\") \n",
    "\n",
    "\n",
    "## Redes neurais artificiais aplicadas em sistemas de controle\n",
    "\n",
    "[![redesneurais](https://img.youtube.com/vi/cPpilfUiUqs/hqdefault.jpg)](https://youtu.be/cPpilfUiUqs \"redesneurais\")"
   ]
  },
  {
   "cell_type": "markdown",
   "metadata": {},
   "source": [
    "* Leia os capítulos (são curtinhos :) ) do livro [Deep Learning Book](https://www.deeplearningbook.com.br/): \n",
    "\n",
    "    * [Capítulo 2 \"Uma Breve História das Redes Neurais Artificiais\"](https://www.deeplearningbook.com.br/uma-breve-historia-das-redes-neurais-artificiais/); \n",
    "    \n",
    "    * [Capítulo 4 \"O Neurônio, Biológico e Matemático\"](https://www.deeplearningbook.com.br/o-neuronio-biologico-e-matematico/); \n",
    "    \n",
    "    * [Capítulo 6 \"O Perceptron – Parte 1\"](https://www.deeplearningbook.com.br/o-perceptron-parte-1/); \n",
    "    \n",
    "    * [Capítulo 7 \"O Perceptron – Parte 2\"](https://www.deeplearningbook.com.br/o-perceptron-parte-2/); \n",
    "    \n",
    "    * [Capítulo 8 \"Função de Ativação\"](https://www.deeplearningbook.com.br/funcao-de-ativacao/); \n",
    "    \n",
    "    * [Capítulo 9 \"A Arquitetura das Redes Neurais\"](https://www.deeplearningbook.com.br/a-arquitetura-das-redes-neurais/);   \n",
    "    \n",
    "    * [Capítulo 10 \"As 10 Principais Arquiteturas de Redes Neurais\"](https://www.deeplearningbook.com.br/as-10-principais-arquiteturas-de-redes-neurais/);\n",
    "    \n",
    "    * [Capítulo 15 \"Algoritmo Backpropagation\"](https://www.deeplearningbook.com.br/algoritmo-backpropagation-parte-2-treinamento-de-redes-neurais/);\n",
    "    \n",
    "    * [Capítulo 17 \"Cross-Entropy Cost Function\"](https://www.deeplearningbook.com.br/cross-entropy-cost-function/);\n",
    "    \n",
    "    * [Capítulo 27 \"Taxa de Aprendizagem\"](https://www.deeplearningbook.com.br/a-taxa-de-aprendizado-de-uma-rede-neural/);\n",
    "    \n",
    "    * [Capítulo 28 \"Épocas de Treinamento\"](https://www.deeplearningbook.com.br/usando-early-stopping-para-definir-o-numero-de-epocas-de-treinamento/);\n",
    "    \n",
    "    * [Capítulo 31 \"As Redes Neurais Artificiais Podem Computar Qualquer Função?\"](https://www.deeplearningbook.com.br/as-redes-neurais-artificiais-podem-computar-qualquer-funcao/);\n",
    "    \n",
    "    * [Capítulo 32 \"Como Uma Rede Neural Artificial Encontra a Aproximação de Uma Função\"](https://www.deeplearningbook.com.br/como-uma-rede-neural-artificial-encontra-a-aproximacao-de-uma-funcao/);   \n",
    "    \n",
    "* Da uma olha no [cap. 4 Multilayer Perceptrons](https://d2l.ai/chapter_multilayer-perceptrons/index.html) do livro [Dive into Deep Learning](https://d2l.ai/index.html)"
   ]
  },
  {
   "cell_type": "markdown",
   "metadata": {},
   "source": [
    "# Após os vídeos e leituras, você deve conhecer:\n",
    "\n",
    "   * Gradiente descendente;\n",
    "   * Funções de ativação;\n",
    "   * Neurônio individual;\n",
    "   * Função XOR e neurônios;\n",
    "   * Multilayer perceptron (MLP);\n",
    "   * Taxa de aprendizagem;\n",
    "   * Pesos;\n",
    "   * Bias;\n",
    "   * Backpropagation;\n",
    "   * Métricas de avaliação."
   ]
  },
  {
   "cell_type": "markdown",
   "metadata": {},
   "source": [
    "# Redes Neurais com o SKLearn\n",
    "\n",
    "* Explore a documentação do [scikit-learn](https://scikit-learn.org/stable/modules/neural_networks_supervised.html)\n"
   ]
  },
  {
   "cell_type": "markdown",
   "metadata": {},
   "source": [
    "# Tutoriais MLP com python no scikit-learn\n",
    "\n",
    "* Assista aos vídeos ...\n",
    "\n",
    "[![tutorialrna](https://img.youtube.com/vi/cO59qwb3Haw/hqdefault.jpg)](https://youtu.be/cO59qwb3Haw \"tutorialrna\") \n",
    "\n",
    "\n",
    "[![tutorialrna](https://img.youtube.com/vi/ik81nrs2p3Q/hqdefault.jpg)](https://youtu.be/ik81nrs2p3Q \"tutorialrna\") \n"
   ]
  },
  {
   "cell_type": "markdown",
   "metadata": {},
   "source": [
    "# Exercício 1\n",
    "\n",
    "* Execute o notebook **Redes Neurais com TensorFlow**\n",
    "\n",
    "[![Binder](https://mybinder.org/badge_logo.svg)](https://mybinder.org/v2/gh/storopoli/ciencia-de-dados/main?filepath=notebooks%2FAula_18_a_Redes_Neurais_com_TensorFlow.ipynb)\n",
    "<br>\n",
    "[![Open In Colab](https://colab.research.google.com/assets/colab-badge.svg)](https://colab.research.google.com/github/storopoli/ciencia-de-dados/blob/main/notebooks/Aula_18_a_Redes_Neurais_com_TensorFlow.ipynb)"
   ]
  },
  {
   "cell_type": "markdown",
   "metadata": {},
   "source": [
    "# Exercício 2\n",
    "\n",
    "* Execute o notebook **Redes Neurais com PyTorch**\n",
    "\n",
    "[![Binder](https://mybinder.org/badge_logo.svg)](https://mybinder.org/v2/gh/storopoli/ciencia-de-dados/main?filepath=notebooks%2FAula_18_b__Redes_Neurais_com_PyTorch.ipynb)\n",
    "<br>\n",
    "[![Open In Colab](https://colab.research.google.com/assets/colab-badge.svg)](https://colab.research.google.com/github/storopoli/ciencia-de-dados/blob/main/notebooks/Aula_18_b_Redes_Neurais_com_PyTorch.ipynb)"
   ]
  },
  {
   "cell_type": "markdown",
   "metadata": {},
   "source": [
    "# Quer saber mais\n",
    "\n",
    "\n",
    "Assista aos vídeos:\n",
    "\n",
    "   * Redes Neurais Artificiais, Perceptron Simples\n",
    "   \n",
    "[![redesneurais](https://img.youtube.com/vi/Z-NBjvlyBkA/hqdefault.jpg)](https://youtu.be/Z-NBjvlyBkA \"redesneurais Serafim Nascimento\")\n",
    "\n",
    "   * Descida de gradiente, como as redes neurais aprendem\n",
    "[![redesneurais](https://img.youtube.com/vi/IHZwWFHWa-w/hqdefault.jpg)](https://youtu.be/IHZwWFHWa-w \"Descida de gradiente, como as redes neurais aprendem\")\n",
    "\n",
    "   * What is backpropagation really doing? \n",
    "[![redesneurais](https://img.youtube.com/vi/Ilg3gGewQ5U/hqdefault.jpg)](https://youtu.be/Ilg3gGewQ5U \"What is backpropagation really doing?\")\n",
    "\n",
    "   * Playlist do curso Introdução às Redes Neurais Artificiais\n",
    "[![cursorna](https://img.youtube.com/vi/OQwxeFSJ_Q4/hqdefault.jpg)](https://www.youtube.com/watch?v=OQwxeFSJ_Q4&list=PLZj-vsMJRNhprMuIaE6HXmOkHh0NEEMtL\"cursorna\")\n",
    " \n",
    " \n",
    "   * Playlist do curso Aprendizado de Máquinas focado em Redes Neurais\n",
    "[![pcaorange](https://img.youtube.com/vi/Dc6rxNy-OPE/hqdefault.jpg)](https://www.youtube.com/watch?v=Dc6rxNy-OPE&list=PL-lVSjBozU-Hfs3bwwTIBaF3xEjkJvonQ \"pcaorange\")    \n",
    "\n",
    "\n",
    "   * Como utilizar Rede Neural Artificial no Orange  \n",
    "    \n",
    "[![orange](https://img.youtube.com/vi/orrXuRM42Sk/hqdefault.jpg)](https://youtu.be/orrXuRM42Sk \"orange\") \n",
    "\n",
    "[![orange](https://img.youtube.com/vi/jCYsplaLf1A/hqdefault.jpg)](https://youtu.be/jCYsplaLf1A \"orange\") \n",
    "\n",
    "   * Assista a aula **Perceptron e Adaline** do grupo Deep Learning Brasil   \n",
    "\n",
    "[![Perceptron e Adaline](https://img.youtube.com/vi/6yYUc6nU3Cw/hqdefault.jpg)](https://youtu.be/6yYUc6nU3Cw \"Perceptron e Adaline\") \n",
    "\n",
    "* Explore a Playlist do [curso de tensorflow](https://www.youtube.com/watch?v=E3G2Jq3IJDA&list=PLeFetwYAi-F-WR8oLyEFx4dGq8L24o6KM)\n",
    "\n",
    "* Explore a Playlist do curso [conding tensorflow](https://www.youtube.com/playlist?list=PLQY2H8rRoyvz8oumEhsqSG4bl7JH7_YSG)\n",
    "\n",
    "* Explore o github do [Workshop de Redes Neurais com Pytorch](https://github.com/turing-usp/Workshop-de-redes-neurais)\n",
    "\n",
    "* Leia o artigo  [An overview of gradient descent optimization algorithms](https://ruder.io/optimizing-gradient-descent/) de Sebastian Ruder   \n",
    "\n",
    "* Explore o material do curso [UC Berkeley CS188 Intro to AI -- Course Materials](http://ai.berkeley.edu/lecture_slides.html)   \n",
    "\n",
    "* Assista toda a disciplina  [5954032-1 Redes Neurais Artificiais do Prof. Renato Tinós da USP](https://eaulas.usp.br/portal/video.action?idItem=30074)   \n",
    "Obs.: Tem que fazer cadastro no e-Aulas da USP (Não necessita ser aluno da USP)"
   ]
  },
  {
   "cell_type": "markdown",
   "metadata": {},
   "source": [
    "# Gosta de livros ...    \n",
    "\n",
    "[Deep Learning Book - pt_br](https://www.deeplearningbook.com.br/)\n",
    "\n",
    "[Dive into Deep Learning](https://d2l.ai/index.html)"
   ]
  },
  {
   "cell_type": "markdown",
   "metadata": {},
   "source": [
    "Qualquer dúvida, poste no fórum da disciplina.\n",
    "### Te vejo na mentoria!"
   ]
  }
 ],
 "metadata": {
  "kernelspec": {
   "display_name": "Python 3",
   "language": "python",
   "name": "python3"
  },
  "language_info": {
   "codemirror_mode": {
    "name": "ipython",
    "version": 3
   },
   "file_extension": ".py",
   "mimetype": "text/x-python",
   "name": "python",
   "nbconvert_exporter": "python",
   "pygments_lexer": "ipython3",
   "version": "3.8.10"
  },
  "rise": {
   "autolaunch": true,
   "enable_chalkboard": true,
   "progress": true,
   "scroll": true,
   "slideNumber": true
  }
 },
 "nbformat": 4,
 "nbformat_minor": 4
}
