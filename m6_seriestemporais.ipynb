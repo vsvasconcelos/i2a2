{
 "cells": [
  {
   "cell_type": "markdown",
   "metadata": {},
   "source": [
    "[<center><img src=\"images/Logo_I2A2.webp\"></center>](https://www.i2a2.ca/)         \n",
    "Rev 6"
   ]
  },
  {
   "cell_type": "markdown",
   "metadata": {},
   "source": [
    "# Módulo 6"
   ]
  },
  {
   "cell_type": "markdown",
   "metadata": {
    "slideshow": {
     "slide_type": "slide"
    }
   },
   "source": [
    "# Aula 2 - parte 2: Séries Temporais\n",
    "\n",
    "**Objetivo**: Apresentar os conceitos de séries temporais"
   ]
  },
  {
   "cell_type": "markdown",
   "metadata": {},
   "source": [
    "Este material o auxiliará nas sessões de autoestudo, contudo, fique à vontade para consultar outras fontes de informações, mas nunca deixe de citá-las."
   ]
  },
  {
   "cell_type": "markdown",
   "metadata": {},
   "source": [
    "\n",
    "# Séries Temporais\n",
    "\n",
    "* O que são séries temporais?\n",
    "   - Veja aulas do Prof. Bruno Duarte Gomes\n",
    "[![Prof_Bruno](https://img.youtube.com/vi/6qMnlix6HRA/hqdefault.jpg)](https://youtu.be/6qMnlix6HRA \"Aula_1\") \n",
    "[![Prof_Bruno](https://img.youtube.com/vi/rYI4nlKfvUc/hqdefault.jpg)](https://youtu.be/rYI4nlKfvUc \"Aula_2\")\n",
    "\n",
    "   - Veja o vídeo do prof. Fernando Amaral\n",
    "[![serietemp](https://img.youtube.com/vi/0RbUk3pjSKY/hqdefault.jpg)](https://youtu.be/0RbUk3pjSKY \"serietemp\") \n",
    "\n",
    "\n",
    "   - Leia a [Introdução a séries temporal](https://sites.icmc.usp.br/ehlers/SME0808/st1.pdf) do prof. Ricardo Ehlers.\n",
    "   \n",
    "   - Assista ao vídeo **Séries temporais com Python**\n",
    "\n",
    "[![serietemp](https://img.youtube.com/vi/1m9u10eJ3Mk/hqdefault.jpg)](https://youtu.be/1m9u10eJ3Mk \"serietemp\") \n",
    "\n",
    "   - Veja a plalist do curso **Séries Temporais com python/pandas/statsmodels** ...\n",
    "[![serietemp](https://img.youtube.com/vi/JuG8hwVK5uQ/hqdefault.jpg)](https://www.youtube.com/watch?v=JuG8hwVK5uQ&list=PL5fQ3JoS0SZscDaHgXahtx632NMnq5RR- \"serietemp\") \n",
    "\n",
    "   - [Repositório oficial da playlist do curso](https://github.com/ronaldolagepessoa/timeseries) \n",
    "\n",
    "   - Leia o artigo [Time Series Forecasting: Data, Analysis, and Practice](https://neptune.ai/blog/time-series-forecasting)\n",
    "   \n",
    "   - Assista a live do Mario Filho\n",
    "\n",
    "[![mariofilho](https://img.youtube.com/vi/vFUKOJ-HwoA/hqdefault.jpg)](https://youtu.be/vFUKOJ-HwoA?t=354 \"mariofilho\") "
   ]
  },
  {
   "cell_type": "markdown",
   "metadata": {},
   "source": [
    "# Prophet\n",
    "\n",
    "* Já ouviu falar do [Prophet](https://facebook.github.io/prophet/docs/quick_start.html)?\n",
    "   \n",
    "[![prophet](https://img.youtube.com/vi/CW1PZwNG-wQ/hqdefault.jpg)](https://youtu.be/CW1PZwNG-wQ \"prophet\")  "
   ]
  },
  {
   "cell_type": "markdown",
   "metadata": {},
   "source": [
    "# XGBOOST\n",
    "\n",
    "[![Mario](https://img.youtube.com/vi/fG8H-0rb0mY/hqdefault.jpg)](https://youtu.be/fG8H-0rb0mY \"XGBoost\")  \n",
    "\n",
    "* Leia os artigos:\n",
    "    - [Usando XGBOOST para previsão de séries temporais em nível hora](https://rgodoy98.medium.com/tutorial-usando-xgboost-para-previs%C3%A3o-de-s%C3%A9ries-temporais-em-n%C3%ADvel-hora-93dc9c9c38c5)   \n",
    "    - [How to use XGBoost for time-series analysis?](https://analyticsindiamag.com/how-to-use-xgboost-for-time-series-analysis/)"
   ]
  },
  {
   "cell_type": "markdown",
   "metadata": {},
   "source": [
    "# Quer saber mais\n",
    "\n",
    "* Explore o site da disciplina [Séries Temporais](https://sites.icmc.usp.br/ehlers/SME0808/) do prof. Ricardo Ehlers\n",
    "\n",
    "* Explore a Playlist [Séries temporais](https://www.youtube.com/watch?v=2paTI2og9Ts&list=PLEdMfJzXzUR04ziqRP1bdF4YUWFnwAjO9) do prof. Danilo \n",
    "\n",
    "* Assista ao vídeo **Obtenção de Tendências em Séries Temporais utilizando Transformada Wavelet com Python** ...\n",
    "\n",
    "[![serietemp](https://img.youtube.com/vi/LNm_d6Te76U/hqdefault.jpg)](https://youtu.be/LNm_d6Te76U \"serietemp\") \n",
    "\n",
    "* Leia o artigo [Time series analysis in Python](https://medium.com/open-machine-learning-course/open-machine-learning-course-topic-9-time-series-analysis-in-python-a270cb05e0b3)\n",
    "\n",
    "* Veja o projeto [Análise e Previsão de Séries Temporais: Covid](https://www.kaggle.com/mauriciofigueiredo/an-lise-e-previs-o-de-s-ries-temporais-covid) no Kaggle\n",
    "\n",
    "* Assista ao vídeo **Séries temporais com Orange**\n",
    "\n",
    "[![orange](https://img.youtube.com/vi/LWANy9etiAs/hqdefault.jpg)](https://youtu.be/LWANy9etiAs \"orange\")\n",
    "\n",
    "* Faça o curso grátis [Time Series Forecasting](https://www.udacity.com/course/time-series-forecasting--ud980) da Udacity\n",
    "\n",
    "* Explore a [curadoria de conteudos](https://storage.googleapis.com/deepmind-media/research/New_AtHomeWithAI%20resources.pdf) da DeepMind  \n",
    "\n",
    "* Explore o github [ fpp3-python-readalong](https://github.com/zgana/fpp3-python-readalong) \n",
    "\n",
    "* Assista ao vídeo **Modelagem de Séries Temporais com Python por Wilson Freitas - PyData São Paulo** e explore também o [Github](https://github.com/wilsonfreitas/pydata-sp-2017-01)\n",
    "\n",
    "[![Modelagem de Séries Temporais com Python/statsmodels](https://img.youtube.com/vi/mo-ccIN4KOY/hqdefault.jpg)](https://youtu.be/mo-ccIN4KOY \"Modelagem de Séries Temporais com Python\")   \n",
    "\n",
    "* Veja os artigos:\n",
    "    - [An Introduction to Time Series Analysis with ARIMA](https://towardsdatascience.com/an-introduction-to-time-series-analysis-with-arima-a8b9c9a961fb)   \n",
    "\n",
    "    - [Time Series Analysis](https://medium.com/swlh/time-series-analysis-7006ea1c3326) \n",
    "    - [How can times series forecasting be done using random forest?](https://analyticsindiamag.com/how-can-times-series-forecasting-be-done-using-random-forest/) "
   ]
  },
  {
   "cell_type": "markdown",
   "metadata": {},
   "source": [
    "# Gosta de livros ...  \n",
    "\n",
    "\n",
    "[ANÁLISE DE SERIES TEMPORAIS - EHLERS](http://www.each.usp.br/rvicente/AnaliseDeSeriesTemporais.pdf)\n",
    "\n",
    "[Forecasting: Principles and Practice - Hyndman and Athanasopoulos](https://otexts.com/fpp2/)\n",
    "\n",
    "[Outra versão](https://otexts.com/fpp3/)"
   ]
  },
  {
   "cell_type": "markdown",
   "metadata": {},
   "source": [
    "Qualquer dúvida, poste no fórum da disciplina.\n",
    "### Te vejo na mentoria!"
   ]
  }
 ],
 "metadata": {
  "kernelspec": {
   "display_name": "Python 3",
   "language": "python",
   "name": "python3"
  },
  "language_info": {
   "codemirror_mode": {
    "name": "ipython",
    "version": 3
   },
   "file_extension": ".py",
   "mimetype": "text/x-python",
   "name": "python",
   "nbconvert_exporter": "python",
   "pygments_lexer": "ipython3",
   "version": "3.8.10"
  },
  "rise": {
   "autolaunch": true,
   "enable_chalkboard": true,
   "progress": true,
   "scroll": true,
   "slideNumber": true
  }
 },
 "nbformat": 4,
 "nbformat_minor": 4
}
