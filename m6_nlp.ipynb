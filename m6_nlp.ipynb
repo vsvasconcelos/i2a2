{
 "cells": [
  {
   "cell_type": "markdown",
   "metadata": {},
   "source": [
    "[<center><img src=\"images/Logo_I2A2.webp\"></center>](https://www.i2a2.ca/)         \n",
    "Rev 6"
   ]
  },
  {
   "cell_type": "markdown",
   "metadata": {},
   "source": [
    "# Módulo 6"
   ]
  },
  {
   "cell_type": "markdown",
   "metadata": {
    "slideshow": {
     "slide_type": "slide"
    }
   },
   "source": [
    "# Aula 1 - parte 1: NLP (Processamento de Língua Natural)\n",
    "\n",
    "**Objetivo**: Apresentar os conceitos de NLP"
   ]
  },
  {
   "cell_type": "markdown",
   "metadata": {},
   "source": [
    "Este material o auxiliará nas sessões de autoestudo, contudo, fique à vontade para consultar outras fontes de informações, mas nunca deixe de citá-las."
   ]
  },
  {
   "cell_type": "markdown",
   "metadata": {},
   "source": [
    "# Natural Language Processing\n",
    "\n",
    "## O que é NLP?\n",
    "\n",
    "    * Assista os vídeos abaixo ...\n",
    "   \n",
    "[![NLP](https://img.youtube.com/vi/HG74bUJIfvU/hqdefault.jpg)](https://youtu.be/HG74bUJIfvU \"NLP\")   \n",
    "\n",
    "[![NLP](https://img.youtube.com/vi/NBqDzewxJDo/hqdefault.jpg)](https://youtu.be/NBqDzewxJDo \"NLP\")   \n",
    "\n",
    "   \n",
    "   * Leia o [Guia Básico para Processamento de Linguagem Natural (NLP)](https://www.datageeks.com.br/processamento-de-linguagem-natural/)"
   ]
  },
  {
   "cell_type": "markdown",
   "metadata": {},
   "source": [
    "# Aplicações de NLP\n",
    "\n",
    "[![aplic1](https://img.youtube.com/vi/q5jePtbHq1k/hqdefault.jpg)](https://youtu.be/q5jePtbHq1k \"aplic1\")   \n",
    "\n",
    "[![aplic2](https://img.youtube.com/vi/DciaJ-E3WDA/hqdefault.jpg)](https://youtu.be/DciaJ-E3WDA \"aplic12\")\n",
    "\n",
    "   * Pesquise o site: [nlpprogress](http://nlpprogress.com/)\n"
   ]
  },
  {
   "cell_type": "markdown",
   "metadata": {},
   "source": [
    "# NLP Clássico\n",
    "# Ferramentas para NLP\n",
    "\n",
    "* Pesquise pelas ferramentas listadas abaixo, procure compreender o propósito de cada uma delas.\n",
    "\n",
    "    - [NLTK](https://www.nltk.org/);\n",
    "    - [Gensim](https://pypi.org/project/gensim/);\n",
    "    - [Spacy](https://spacy.io/);\n",
    "    - [Stanza](https://stanfordnlp.github.io/stanza/)"
   ]
  },
  {
   "cell_type": "markdown",
   "metadata": {},
   "source": [
    "# Pré-processamento de textos\n",
    "\n",
    "[![padronizacao](https://img.youtube.com/vi/KPJ3iCJ7qFc/hqdefault.jpg)](https://youtu.be/KPJ3iCJ7qFc \"padronizacao\") \n",
    "\n",
    "[![Tokenização](https://img.youtube.com/vi/DoBP320nJds/hqdefault.jpg)](https://youtu.be/DoBP320nJds \"Tokenização\") \n",
    "\n",
    "[![Lematização](https://img.youtube.com/vi/8XHIKCKlahM/hqdefault.jpg)](https://youtu.be/8XHIKCKlahM \"Lematização\") "
   ]
  },
  {
   "cell_type": "markdown",
   "metadata": {},
   "source": [
    "## Representação Vetorial de Textos\n",
    "\n",
    "[![bagofwords](https://img.youtube.com/vi/6v7Zjdpwj4c/hqdefault.jpg)](https://youtu.be/6v7Zjdpwj4c \"bagofwords\") \n",
    "\n",
    "[![bagofwords](https://img.youtube.com/vi/Q88_U0LCv6Y/hqdefault.jpg)](https://youtu.be/Q88_U0LCv6Y \"bagofwords\") \n",
    "\n",
    "[![bagofwords](https://img.youtube.com/vi/-0G-2_vpVAI/hqdefault.jpg)](https://youtu.be/-0G-2_vpVAI \"bagofwords\") \n",
    "\n",
    "* Explore o portal [Projector Tensorflow](https://projector.tensorflow.org/)\n",
    "\n",
    "[![bagofwords](https://img.youtube.com/vi/1mn4DW2f6y4/hqdefault.jpg)](https://youtu.be/1mn4DW2f6y4 \"bagofwords\") \n",
    "\n",
    "[![bagofwords](https://img.youtube.com/vi/DAooqHM0cOg/hqdefault.jpg)](https://youtu.be/DAooqHM0cOg \"bagofwords\") \n",
    "\n",
    "\n",
    "* Da uma olha no [cap. 8.2 - Text Preprocessing](https://d2l.ai/chapter_recurrent-neural-networks/text-preprocessing.html) do livro [Dive into Deep Learning](https://d2l.ai/index.html)"
   ]
  },
  {
   "cell_type": "markdown",
   "metadata": {},
   "source": [
    "### Tudo junto ...\n",
    "\n",
    "[![turing](https://img.youtube.com/vi/ivTIgsLUfc4/hqdefault.jpg)](https://youtu.be/ivTIgsLUfc4?t=140 \"turing\") \n",
    "\n",
    "   * [github](https://github.com/turing-usp/conceitos-basicos-NLP)\n",
    "   \n",
    "[![icmc](https://img.youtube.com/vi/TjPyYOE_Khs/hqdefault.jpg)](https://youtu.be/TjPyYOE_Khs \"icmc\") "
   ]
  },
  {
   "cell_type": "markdown",
   "metadata": {},
   "source": [
    "# Estado da Arte de NLP\n",
    "\n",
    "* Modelos de NLP x número de parâmetros\n",
    "\n",
    "[<center><img src=\"https://4.bp.blogspot.com/-v0xrp7eJRfM/Xr77DD85ObI/AAAAAAAADDY/KjIlWlFZExQA84VRDrMEMrB534euKAzlgCLcBGAsYHQ/s1600/NLP%2Bmodels.png\"></center>](https://blog.tensorflow.org/2020/05/how-hugging-face-achieved-2x-performance-boost-question-answering.html)         \n",
    "\n",
    "\n",
    "\n",
    "# Transformers\n",
    "\n",
    "[![Transformers](https://img.youtube.com/vi/8NOitdReamM/hqdefault.jpg)](https://youtu.be/8NOitdReamM \"Transformers\")  \n",
    "\n",
    "[![Transformers](https://img.youtube.com/vi/YhoIQVRIGyI/hqdefault.jpg)](https://youtu.be/YhoIQVRIGyI \"Transformers\") \n",
    "\n",
    "# Atenção é tudo que você precisa!\n",
    "[![Atenção](https://img.youtube.com/vi/EwyP7OVnmXE/hqdefault.jpg)](https://www.youtube.com/live/EwyP7OVnmXE?si=_ewN04Lc2wCPYyl7 \"Atenção\") \n",
    "\n",
    "\n",
    "* Leia os capítulos do livro [Deep Learning Book](https://www.deeplearningbook.com.br/): \n",
    "\n",
    "     * [Capítulo 85 \"Transformadores – O Estado da Arte em Processamento de Linguagem Natural\"](https://www.deeplearningbook.com.br/transformadores-o-estado-da-arte-em-processamento-de-linguagem-natural/);\n",
    "     * [Capítulo 86 \"Como Funcionam os Transformadores em Processamento de Linguagem Natural – Parte 1\"](https://www.deeplearningbook.com.br/como-funcionam-os-transformadores-em-processamento-de-linguagem-natural-parte-1/);\n",
    "     * [Capítulo 87 \"Como Funcionam os Transformadores em Processamento de Linguagem Natural – Parte 2\"](https://www.deeplearningbook.com.br/como-funcionam-os-transformadores-em-processamento-de-linguagem-natural-parte-2/);\n",
    "     * [Capítulo 88 \"Como Funcionam os Transformadores em Processamento de Linguagem Natural – Parte 3\"](https://www.deeplearningbook.com.br/como-funcionam-os-transformadores-em-processamento-de-linguagem-natural-parte-3/);\n",
    "     * [Capítulo 89 \"Como Funcionam os Transformadores em Processamento de Linguagem Natural – Parte 4\"](https://www.deeplearningbook.com.br/como-funcionam-os-transformadores-em-processamento-de-linguagem-natural-parte-4/)."
   ]
  },
  {
   "cell_type": "markdown",
   "metadata": {},
   "source": [
    "# Bidirectional Encoder Representations from Transformers (BERT)\n",
    "[![BERT](https://img.youtube.com/vi/OklmvRidSdE/hqdefault.jpg)](https://youtu.be/OklmvRidSdE \"BERT\")  \n",
    "\n",
    "[![BERT](https://img.youtube.com/vi/c_gbCDU4j8g/hqdefault.jpg)](https://youtu.be/c_gbCDU4j8g \"BERT\")  \n",
    "\n",
    "* Leia os capítulos do livro [Deep Learning Book](https://www.deeplearningbook.com.br/): \n",
    "    \n",
    "   * [Capítulo 76 \"O Que é BERT (Bidirectional Encoder Representations from Transformers)?\"](https://www.deeplearningbook.com.br/o-que-e-bert-bidirectional-encoder-representations-from-transformers/);\n",
    "    \n",
    "   * [Capítulo 77 \"Modelo BERT Para Processamento de Linguagem Natural\"](https://www.deeplearningbook.com.br/modelo-bert-para-processamento-de-linguagem-natural/);\n",
    "   \n",
    "   * [Capítulo 78 \"Modelo BERT – Previsão da Próxima Frase\"](https://www.deeplearningbook.com.br/modelo-bert-previsao-da-proxima-frase/);\n",
    "   \n",
    "\n",
    "* Da uma olhada no [cap. 14.8 - BERT](https://d2l.ai/chapter_natural-language-processing-pretraining/bert.html) do livro [Dive into Deep Learning](https://d2l.ai/index.html)\n",
    "\n"
   ]
  },
  {
   "cell_type": "markdown",
   "metadata": {},
   "source": [
    "# Generative Pre-trained Transformer 3 (GPT-3)\n",
    "\n",
    "* Leia o [Capítulo 79 \"Conhecendo o Modelo GPT-3 (Generative Pre-trained Transformer)\"](https://www.deeplearningbook.com.br/conhecendo-o-modelo-gpt-3-generative-pre-trained-transformer/)\n",
    "    do livro [Deep Learning Book](https://www.deeplearningbook.com.br/): \n",
    "\n",
    "\n",
    "  \n",
    "# Paradoxo do Pinóquio\n",
    "\n",
    "* Leia o artigo **Social UX: as contradições sociológicas no uso de IA** de Gustavo Meirelles \n",
    "[<center><img src=\"images/paradoxopinoquio.png\"></center>](https://www.mitsloanreview.com.br/post/social-ux-as-contradicoes-sociologicas-no-uso-de-ia)         \n",
    "\n"
   ]
  },
  {
   "cell_type": "markdown",
   "metadata": {},
   "source": [
    "# Quer saber mais\n",
    "\n",
    "* Assista as aulas da playlist do curso  **Processamento de Língua Natural** da UFMG\n",
    "\n",
    "[![NLP](https://img.youtube.com/vi/NBqDzewxJDo/hqdefault.jpg)](https://www.youtube.com/watch?v=NBqDzewxJDo&list=PLt2qoMeOJsQyAklWpREY5ivAUe3jrrR21&index=1 \"NLP\")\n",
    "\n",
    "* Assista as aulas da playlist do curso **Deep Learning para NLP** da UFG     \n",
    "[![NLP](https://img.youtube.com/vi/HG74bUJIfvU/hqdefault.jpg)](https://www.youtube.com/playlist?list=PL95sSdJCNga1gFpzogEjtR_aODts_kTde \"NLP\")\n",
    "\n",
    "* Assista as aulas do curso [Python para Processamento de Linguagem Natural](https://cursosextensao.usp.br/course/view.php?id=2721)do ICMC da USP\n",
    "\n",
    "* Explore o material [Speech and Language Processing](https://web.stanford.edu/~jurafsky/slp3/)\n",
    "\n",
    "* Veja [8 Best Free Courses to Learn AI (Artificial Intelligence) in 2022](https://www.mltut.com/best-free-courses-to-learn-ai/)  \n",
    "\n",
    "* Escute o podcast **Hipsters Ponto Tech** sobre [NLP](https://open.spotify.com/episode/3BUVo0z4Md6Nt116ayu3n1?si=TqGeDAvGRdq2SbHGjj1SoQ&utm_source=whatsapp&nd=1)\n",
    "\n",
    "* Explore a playlist [Natural Language Processing - Machine Learning University](https://www.youtube.com/watch?v=0FXKbEgz-uU&list=PL8P_Z6C4GcuWfAq8Pt6PBYlck4OprHXsw)\n"
   ]
  },
  {
   "cell_type": "markdown",
   "metadata": {},
   "source": [
    "# Gosta de livros ...  \n",
    "\n",
    "[Speech and Language Processing - Daniel Jurafsky](https://web.stanford.edu/~jurafsky/slp3/old_dec20/)\n",
    "\n",
    "[Deep Learning Book - pt_br](https://www.deeplearningbook.com.br/)\n",
    "\n",
    "[Dive into Deep Learning](https://d2l.ai/index.html)\n"
   ]
  },
  {
   "cell_type": "markdown",
   "metadata": {},
   "source": [
    "Qualquer dúvida, poste no fórum da disciplina.\n",
    "### Te vejo na mentoria!"
   ]
  }
 ],
 "metadata": {
  "kernelspec": {
   "display_name": "Python 3",
   "language": "python",
   "name": "python3"
  },
  "language_info": {
   "codemirror_mode": {
    "name": "ipython",
    "version": 3
   },
   "file_extension": ".py",
   "mimetype": "text/x-python",
   "name": "python",
   "nbconvert_exporter": "python",
   "pygments_lexer": "ipython3",
   "version": "3.8.10"
  },
  "rise": {
   "autolaunch": true,
   "enable_chalkboard": true,
   "progress": true,
   "scroll": true,
   "slideNumber": true
  }
 },
 "nbformat": 4,
 "nbformat_minor": 4
}
