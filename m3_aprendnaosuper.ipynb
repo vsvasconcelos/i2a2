{
 "cells": [
  {
   "cell_type": "markdown",
   "metadata": {},
   "source": [
    "[<center><img src=\"images/Logo_I2A2.webp\"></center>](https://www.i2a2.ca/)         \n",
    "Rev 5"
   ]
  },
  {
   "cell_type": "markdown",
   "metadata": {},
   "source": [
    "# Módulo 3"
   ]
  },
  {
   "cell_type": "markdown",
   "metadata": {
    "slideshow": {
     "slide_type": "slide"
    }
   },
   "source": [
    "# Aula 2 - Aprendizado Não Supervisionado  (Unsupervised Learning)\n",
    "\n",
    "\n",
    "**Objetivo**: Apresentar o aprendizado não supervisionado e suas aplicações"
   ]
  },
  {
   "cell_type": "markdown",
   "metadata": {},
   "source": [
    "Este material o auxiliará nas sessões de autoestudo, contudo, fique à vontade para consultar outras fontes de informações, mas nunca deixe de citá-las."
   ]
  },
  {
   "cell_type": "markdown",
   "metadata": {},
   "source": [
    "[<img src=\"https://btechmag.com/wp-content/uploads/2020/11/UNSupervised-Learning.gif\"/>](https://btechmag.com/machine-learning/machine-learning-techniques-every-aspiring-data-scientist-should-know/)"
   ]
  },
  {
   "cell_type": "markdown",
   "metadata": {},
   "source": [
    "# Tipos básicos de Aprendizagem de Máquina\n",
    "\n",
    "### Como as máquinas aprendem?\n",
    "\n",
    "Na aula passada falamos das 3 abordagens básicas de aprendizado de máquina, lembra?\n",
    "\n",
    "<img src=\"images/ML_modelos2.png\"/>"
   ]
  },
  {
   "cell_type": "markdown",
   "metadata": {},
   "source": [
    "Agora, veja na figura abaixo como cada um dos tipos de aprendizagem podem ser subclassificados e quais algoritmos estão associados a elas.    \n",
    "\n",
    "<center><img src=\"images/ML_tiposAprendizagem.jpg\"></center>      \n"
   ]
  },
  {
   "cell_type": "markdown",
   "metadata": {},
   "source": [
    "# Diferentes formas de aprendizado de máquina \n",
    "\n",
    "Na leitura do artigo [As diferentes formas de aprendizado de máquina](https://www.eldorado.org.br/blog/as-diferentes-formas-de-aprendizado-de-maquina/) da aula passada, você deve ter identificado a principal diferença entre o aprendizado supervisionado e o não supervisionado, certo?\n",
    "\n",
    "   * Qualquer coisa, revisite o [artigo](https://www.eldorado.org.br/blog/as-diferentes-formas-de-aprendizado-de-maquina/).     "
   ]
  },
  {
   "cell_type": "markdown",
   "metadata": {},
   "source": [
    "# Aprendizado Supervisionado (Supervised Learning)\n",
    "<img src=\"images/aprensuper.png\" />"
   ]
  },
  {
   "cell_type": "markdown",
   "metadata": {},
   "source": [
    "# Aprendizado Não supervisionado (Unsupervised)\n",
    "<img src=\"images/aprennaosuper.png\" />\n",
    "\n",
    "\n",
    "* Assista ao vídeo ...\n",
    "[![aprendizagem não supervisionado](https://img.youtube.com/vi/SqfOoVaN7CQ/hqdefault.jpg)](https://youtu.be/SqfOoVaN7CQ?t=72 \"aprendizagem não supervisionado\")"
   ]
  },
  {
   "cell_type": "markdown",
   "metadata": {},
   "source": [
    "# Exercício 1: Análise de Agrupamentos - Aplicação em Python\n",
    "\n",
    "\n",
    "* Assista ao vídeo ...\n",
    "[![Análise de Agrupamentos](https://img.youtube.com/vi/d_CJGaAbC7o/hqdefault.jpg)](https://youtu.be/d_CJGaAbC7o \"Análise de Agrupamentos\")\n",
    "\n",
    "e execute o notebook abaixo ...\n",
    "\n",
    "[![Binder](https://mybinder.org/badge_logo.svg)](https://mybinder.org/v2/gh/cibelerusso/AnaliseMultivariadaEAprendizadoNaoSupervisionado/master?filepath=Comandos%20em%20Python/10%20Agrupamentos.ipynb)\n",
    "\n",
    "\n",
    "#### Procure acompanhar o vídeo e vá executando simultaneamente o Jupyter Notebook"
   ]
  },
  {
   "cell_type": "markdown",
   "metadata": {},
   "source": [
    "## Quer saber mais?      \n",
    "* Veja as aulas da disciplina [SME0822 - Análise Multivariada e Aprendizado Não Supervisionado (2020)](https://edisciplinas.usp.br/course/view.php?id=78145#section-4) do Instituto de Ciências Matemáticas e de Computação da USP    \n",
    "\n",
    "* Explore a playlist [Ciência de Dados](https://www.youtube.com/watch?v=lm2IagDGDAU&list=PLSc7xcwCGNh1PJrPfLaH4MMjfDl48tmGM) do prof. Francisco Rodrigues    \n",
    "\n",
    "* Veja a documentação do [scikit-learning](https://scikit-learn.org/stable/unsupervised_learning.html)    \n",
    "\n",
    "* Veja exemplos de [utilização](https://scikit-learn.org/stable/auto_examples/index.html#clustering) no sklearn    \n",
    "\n",
    "* Explore o github [applied-ml](https://github.com/eugeneyan/applied-ml), nela há Documentos, artigos e blogs com curadoria sobre ciência de dados e aprendizado de máquina em produção.    \n",
    "\n",
    "* Assista ao vídeo Ciência de Dados e a Indústria 4.0      \n",
    "[![dsi40](https://img.youtube.com/vi/mHKgXOJZgAw/hqdefault.jpg)](https://youtu.be/mHKgXOJZgAw \"dsi40\")      \n",
    "\n",
    "# O Futuro do Trabalho: 10 habilidades que vão estar em alta até 2025     \n",
    "\n",
    "* Segundo o relatório [Future of Jobs: The top 10 skills to be developed by 2025](http://www3.weforum.org/docs/WEF_Future_of_Jobs_2020.pdf), do Fórum Econômico Mundial, **Programação** é a 8ª principal habilidade que estará em alta até 2025.     \n",
    "\n",
    "### Programação\n",
    "\n",
    "* Pesquise no artigo [COMPETÊNCIAS RELEVANTES PARA O PROFISSIONAL DO FUTURO - COMPETÊNCIAS LISTADAS PELO RELATÓRIO “THE FUTURE OF JOB” DO FÓRUM ECONÔMICO MUNDIAL E A PREVISÃO DE FUTURO DE YUVAL HARARI](https://semanaacademica.com.br/artigo/competencias-relevantes-para-o-profissional-do-futuro-competencias-listadas-pelo-relatorio-do) e no e-book [O Guia Definitivo das Competências](https://conteudo.qulture.rocks/o-guia-definitivo-das-competencias?tipo=ebooks) sobre **Programação**. \n",
    "\n",
    "#### Assista aos vídeos abaixo:   \n",
    "\n",
    "- Por que todos deveriam aprender a programar? \n",
    "\n",
    "[![Por que todos deveriam aprender a programar?](https://img.youtube.com/vi/mHW1Hsqlp6A/hqdefault.jpg)](https://youtu.be/mHW1Hsqlp6A \"Por que todos deveriam aprender a programar?\")\n",
    "\n",
    "- Pensamento Computacional\n",
    "\n",
    "[![pensamentocomp)](https://img.youtube.com/vi/KxppXrcfMBA/hqdefault.jpg)](https://youtu.be/KxppXrcfMBA \"pensamentocomp\")   \n",
    "\n",
    "[![PensamentoComp](https://img.youtube.com/vi/iDHArTzfAHI/hqdefault.jpg)](https://youtu.be/iDHArTzfAHI \"Pensamento Computacional\")\n",
    "\n",
    "\n",
    "- Computação: Ciência, Engenharia e Arte\n",
    "\n",
    "[![Computação: Ciência, Engenharia e Arte)](https://img.youtube.com/vi/vjmqQKIHmE4/hqdefault.jpg)](https://youtu.be/vjmqQKIHmE4 \"Computação: Ciência, Engenharia e Arte\")  \n",
    "\n",
    "- Pesquise por **Letramento digital**\n",
    "\n",
    "\n",
    "# Gosta de livros\n",
    "[Como implementar IA em sua empresa - Lauria](https://conteudo.i2ai.org/implementar-ia-em-sua-empresa)\n"
   ]
  },
  {
   "cell_type": "markdown",
   "metadata": {},
   "source": [
    "Qualquer dúvida, poste no fórum da disciplina.\n",
    "### Te vejo na mentoria!"
   ]
  }
 ],
 "metadata": {
  "kernelspec": {
   "display_name": "Python 3",
   "language": "python",
   "name": "python3"
  },
  "language_info": {
   "codemirror_mode": {
    "name": "ipython",
    "version": 3
   },
   "file_extension": ".py",
   "mimetype": "text/x-python",
   "name": "python",
   "nbconvert_exporter": "python",
   "pygments_lexer": "ipython3",
   "version": "3.8.10"
  },
  "rise": {
   "autolaunch": true,
   "enable_chalkboard": true,
   "progress": true,
   "scroll": true,
   "slideNumber": true
  }
 },
 "nbformat": 4,
 "nbformat_minor": 4
}
