{
 "cells": [
  {
   "cell_type": "markdown",
   "metadata": {},
   "source": [
    "[<center><img src=\"images/Logo_I2A2.webp\"></center>](https://www.i2a2.ca/)         \n",
    "Rev 8"
   ]
  },
  {
   "cell_type": "markdown",
   "metadata": {},
   "source": [
    "# Módulo 3"
   ]
  },
  {
   "cell_type": "markdown",
   "metadata": {
    "slideshow": {
     "slide_type": "slide"
    }
   },
   "source": [
    "# Aula 3 - parte 2: Python e Jupyter intermediário\n",
    "\n",
    "**Objetivo**: Avançar na utilização do python e jupyter notebook."
   ]
  },
  {
   "cell_type": "markdown",
   "metadata": {},
   "source": [
    "Este material o auxiliará nas sessões de autoestudo, contudo, fique à vontade para consultar outras fontes de informações, mas nunca deixe de citá-las."
   ]
  },
  {
   "cell_type": "markdown",
   "metadata": {},
   "source": [
    "<center><img src=\"images/pythoninstalado.jpeg\"></center>"
   ]
  },
  {
   "cell_type": "markdown",
   "metadata": {},
   "source": [
    "# Representação dos Algoritmos\n",
    "\n",
    "[![represalgo](https://img.youtube.com/vi/mnObRYYuqO8/hqdefault.jpg)](https://youtu.be/iDHArTzfAHI \"represalgo\")\n"
   ]
  },
  {
   "cell_type": "markdown",
   "metadata": {},
   "source": [
    "# Documentação do código\n",
    "\n",
    "\n",
    "[![documentação](https://img.youtube.com/vi/Kn-ekrQxvb8/hqdefault.jpg)](https://youtu.be/Kn-ekrQxvb8 \"documentação\")\n",
    "\n",
    "* Veja os guias de estilo:\n",
    "   - [Google](https://google.github.io/styleguide/pyguide.html?showone=Comments#Comments);  \n",
    "   - [PEP8](https://wiki.python.org.br/GuiaDeEstilo);  \n",
    "\n",
    "# Controle de versão\n",
    "\n",
    "* Veja a playlist [Projetos de Data Science e Machine Learning com Git e Github](https://www.youtube.com/playlist?list=PLrakQQfctUYX37CRv3fomYfKwDe0NLmsk)\n",
    "\n",
    "* Leia o artigo [15 Repositórios no Github para Cientistas de Dados](https://www.cienciaedados.com/15-repositorios-no-github-para-cientistas-de-dados/)\n",
    "\n",
    "* Explore o repositório [Versionamento de Código com Git e GitHub](https://github.com/elidianaandrade/dio-curso-git-github) da @ElidianaAndrade"
   ]
  },
  {
   "cell_type": "markdown",
   "metadata": {},
   "source": [
    "# Bibliotecas\n",
    "\n",
    "No módulo 2 já tivemos uma boa noção da utilização destas ferramentas, agora avançaremos.\n",
    "\n",
    "* Assista o vídeo abaixo ...\n",
    "\n",
    "\n",
    "[![numpy](https://img.youtube.com/vi/N0J4Cqn43t8/hqdefault.jpg)](https://youtu.be/N0J4Cqn43t8 \"numpy\")\n",
    "\n",
    "\n",
    "[![pandas](https://img.youtube.com/vi/zHlJY0xuu8M/hqdefault.jpg)](https://youtu.be/zHlJY0xuu8M \"pandas\")\n",
    "\n",
    "\n",
    "[![bibliotecas](https://img.youtube.com/vi/J4iwm0r2iwo/hqdefault.jpg)](https://youtu.be/J4iwm0r2iwo \"bibliotecas\")\n",
    "\n",
    "* Explore as bibliotecas de visualização de dados:\n",
    "\n",
    "   **Bokeh**\n",
    "\n",
    "[<center><img src=\"images/bokeh.png\"></center>](https://demo.bokeh.org/gapminder) \n",
    "\n",
    "   **Plotly**\n",
    "[![bibliotecas](https://img.youtube.com/vi/Oq7y7-bNQkY/hqdefault.jpg)](https://youtu.be/Oq7y7-bNQkY \"Plotly\")\n",
    "\n",
    "* Explore as possibilidades da biblioteca para análise de redes [NetworkX](https://networkx.org/documentation/stable/index.html)   \n",
    "\n",
    "\n",
    "\n"
   ]
  },
  {
   "cell_type": "markdown",
   "metadata": {},
   "source": [
    "# Tratamento de Erros/Exceções\n",
    "\n",
    "* Veja a playlist de tratamento de erros/exceções\n",
    "\n",
    "[![erros](https://img.youtube.com/vi/9qLiQMtWoIs/hqdefault.jpg)](https://www.youtube.com/watch?app=desktop&v=9qLiQMtWoIs&list=PLAgbpJQADBGLgmb3Tsb6baK1cWg6ufxDu \"Tratamento de Erros\")"
   ]
  },
  {
   "cell_type": "markdown",
   "metadata": {},
   "source": [
    "#  Universo Pythonico\n",
    "* Assista ao vídeo abaixo ...\n",
    "[![Universo Pythonico](https://img.youtube.com/vi/jbN96Lzf_P8/hqdefault.jpg)](https://youtu.be/jbN96Lzf_P8 \"Universo Pythonico\")\n",
    "\n",
    "\n",
    "   - Pesquise por\n",
    "      * O que é Pythonico?\n",
    "      * Objetos iteráveis;\n",
    "      * Objetos chamáveis (callable);\n",
    "      * Funções anônimas com lambda;\n",
    "      * Python Data Model."
   ]
  },
  {
   "cell_type": "markdown",
   "metadata": {},
   "source": [
    "# Padrões de Projeto (Design Patterns)  em Python\n",
    "Padrões de projeto são soluções típicas para problemas comuns em projeto de software. Eles são como plantas de obra pré fabricadas que você pode customizar para resolver um problema de projeto recorrente em seu código.\n",
    "\n",
    "* Explore o portal [Refactoring.Guru](https://refactoring.guru/pt-br/design-patterns/python)\n",
    "\n",
    "\n",
    "# Como organizar um projeto Python?\n",
    "\n",
    "[![Universo Pythonico](https://img.youtube.com/vi/O3bs4JtHrow/hqdefault.jpg)](https://youtu.be/O3bs4JtHrow \"Como organizar um projeto Python?\")"
   ]
  },
  {
   "cell_type": "markdown",
   "metadata": {},
   "source": [
    "# Jupyter Notebook x JupyterLab\n",
    "\n",
    "* Leia os artigos:\n",
    "    - [Conhecendo o JupyterLab](https://www.alura.com.br/artigos/conhecendo-jupyterlab?gclid=CjwKCAiA9aKQBhBREiwAyGP5lVF1SSJQBb1biEKkMfo9v2h6bAD6BFXccFDobB_S_GQn8LNNcN7zJRoCQgMQAvD_BwE)\n",
    "    - [Ciência de Dados com Reprodutibilidade usando\n",
    "Jupyter](https://sol.sbc.org.br/livros/index.php/sbc/catalog/download/67/292/544-1?inline=1)\n",
    "    - [Best extensions for JupyterLab!!](https://medium.com/dados-para-todos/best-extensions-for-jupyterlab-6edb9384fd1f)\n",
    "    - [Introdução à Kedro](https://medium.com/@laisbsc/introdu%C3%A7%C3%A3o-%C3%A0-kedro-4115327fa950)\n",
    "    \n",
    "Assista ao vídeo ...\n",
    "[![Universo Pythonico](https://img.youtube.com/vi/clBgxmDsSjI/hqdefault.jpg)](https://youtu.be/clBgxmDsSjI \"Kedro Nubank\")\n",
    "\n",
    "Leia os artigos:\n",
    "\n",
    "- [Pipelines de machine learning com Kedro](https://blog.indicium.tech/mlops-para-construir-modelos-como-produtos-parte-2-kedro/)\n",
    "\n",
    "- [Interactive Dashboard from Jupyter Notebook with Mercury framework](https://towardsdatascience.com/interactive-dashboard-from-jupyter-notebook-with-mercury-framework-e1269fdbe73c)"
   ]
  },
  {
   "cell_type": "markdown",
   "metadata": {},
   "source": [
    "# Curso de python intermediário - avançado\n",
    "\n",
    "* Playlist co curso [Python Intermediário / Avançado](https://www.youtube.com/watch?v=H4hVRzaxjl0&list=PLsMpSZTgkF5ANrrp31dmQoG0-hPoI-NoX )  \n",
    "\n",
    "* [Playlist Aprendizado de Máquina com Python e scikit-lear](https://www.youtube.com/watch?v=8735giisOXE&list=PLeFetwYAi-F9Z0N3ZSjPL2i24PO5iiXaY)\n",
    "\n",
    "* Aulas finais da playlist do curso [Introdução à Data Science com Python](https://www.youtube.com/watch?v=pjT_0nPiSqQ&list=PLFE-LjWAAP9SfEuLXf3qrpw4szKWjlYq9)do ICMC da USP"
   ]
  },
  {
   "cell_type": "markdown",
   "metadata": {},
   "source": [
    "# Scikit-learn course\n",
    "\n",
    "Explore este material ...\n",
    "\n",
    "   * [notebook](https://inria.github.io/scikit-learn-mooc/)\n",
    "   * [github](https://github.com/INRIA/scikit-learn-mooc)\n"
   ]
  },
  {
   "cell_type": "markdown",
   "metadata": {},
   "source": [
    "# Quer saber mais?\n",
    "* Veja o curso grátis [Python Fundamentos Para Análise de Dados 3.0](https://www.datascienceacademy.com.br/course/python-fundamentos) da DSA.\n",
    "\n",
    "* Veja a [PlayList](https://www.youtube.com/watch?v=8UfIDvWjKO0&list=PLLrlHSmC0Mw6LozInZxlkMrkiJ_eLLyrL) do prof. Thiago Ferreira.\n",
    "\n",
    "* Execute os [notebooks](https://github.com/storopoli/ciencia-de-dados) dos Professores Storopoli e Souza\n",
    "\n",
    "* Veja essas biblioteca:\n",
    "    - [Python library for reliability engineering and survival analysis](https://reliability.readthedocs.io/en/latest/)\n",
    "\n",
    "    - [NetworkX](https://networkx.org/documentation/stable/auto_examples/index.html)\n",
    "    \n",
    "    - [Pyomo](https://juniorssz.medium.com/modelando-um-problema-de-programa%C3%A7%C3%A3o-linear-e-resolvendo-com-python-e-pyomo-af92f0f441cc)    \n",
    "\n",
    "* Fundamentos Matemáticos para Computação\n",
    "\n",
    "    * [Árvores de decisão](https://www.youtube.com/watch?v=VnFP1IdWO0E);\n",
    "    * [Grafos e suas representações](https://www.youtube.com/watch?v=gLJaDI_fcTA)\n",
    "    \n",
    "* Mini Curso de controle de versão de código [Github](https://www.youtube.com/watch?v=0P2AaPHHI8Q&list=PLeFetwYAi-F_l3CKIbpklrr7_0xcxz2yc)\n",
    "\n",
    "* Explore a playlist [Jupyter Widgets](https://www.youtube.com/watch?v=f73YL6-TX0I&list=PLH9knZH6lcgpBuvi0349Db6-seYVo_4yX&index=1) do prof. Anibal Azevedo\n",
    "\n",
    "* [Análise de Dados no Colab](https://eaulas.usp.br/portal/embed-video?idItem=17418&autostart=false)\n",
    "\n",
    "* Explore o portal [Notes On Using - Data Science & Machine Learning](https://chrisalbon.com/) de Chris Albon   \n",
    "\n",
    "* Explore o portal [Springboard - Machine Learning in Python](https://www.springboard.com/learning-paths/machine-learning-python/learn/?referral=https://www.springboard.com/resources/learning-paths/machine-learning-python/)   \n",
    "\n",
    "* Leia o artigo [Top 20 Bibliotecas Python Para Data Science](https://blog.dsacademy.com.br/top-20-bibliotecas-python-para-data-science/)\n",
    "\n",
    "* Explore a playlist [Python e Pyomo na modelagem de problemas de otimização](https://www.youtube.com/playlist?list=PLB0Bkje224EHp-IPd9i_FADBXXQcft5L6)  \n",
    "\n",
    "* Explore o [canal do prof. Danilo](https://www.youtube.com/c/ProfDaniloDS/featured)   \n",
    "\n",
    "* Explore o portal [geeksforgeeks](https://www.geeksforgeeks.org/python-programming-language/?ref=shm)\n",
    "\n",
    "# O Futuro do Trabalho: 10 habilidades que vão estar em alta até 2025\n",
    "\n",
    "Segundo o relatório [Future of Jobs: The top 10 skills to be developed by 2025](http://www3.weforum.org/docs/WEF_Future_of_Jobs_2020.pdf), do Fórum Econômico Mundial, **Raciocínio Lógico** é a 10ª principal habilidade que estará em alta até 2025.   \n",
    "\n",
    "## Raciocínio Lógico\n",
    "\n",
    "* Pesquise no artigo [COMPETÊNCIAS RELEVANTES PARA O PROFISSIONAL DO FUTURO - COMPETÊNCIAS LISTADAS PELO RELATÓRIO “THE FUTURE OF JOB” DO FÓRUM ECONÔMICO MUNDIAL E A PREVISÃO DE FUTURO DE YUVAL HARARI](https://semanaacademica.com.br/artigo/competencias-relevantes-para-o-profissional-do-futuro-competencias-listadas-pelo-relatorio-do) e no e-book [O Guia Definitivo das Competências](https://conteudo.qulture.rocks/o-guia-definitivo-das-competencias?tipo=ebooks) sobre **Raciocínio Lógico**.\n",
    "\n",
    "### Para saber mais ...\n",
    "* Assista aos vídeos: \n",
    "\n",
    "   - [A importância da Lógica, do Pensamento Crítico e da Argumentação](https://www.coursera.org/lecture/pensamento-critico-argumentacao/a-importancia-da-logica-do-pensamento-critico-e-da-argumentacao-Bud1H)\n",
    "    \n",
    "   - Tipos de raciocínios\n",
    "    \n",
    "[![Tipos de Raciocínio](https://img.youtube.com/vi/eacc24q_NCk/hqdefault.jpg)](https://youtu.be/eacc24q_NCk \"Tipos de Raciocínio - Dedutivo, Indutivo e Abdutivo\")  \n",
    "\n",
    "   - Debates Competitivos: Uma Simulação para a Vida | Lea Veras | TEDxUFSCar\n",
    "\n",
    "[![Debates Competitivos](https://img.youtube.com/vi/w79UIPZV-Hc/hqdefault.jpg)](https://youtu.be/w79UIPZV-Hc \"Debates Competitivos\")  \n",
    "\n",
    "   - Argumentação matemática. \n",
    "\n",
    "[![Argumentação matemática](https://img.youtube.com/vi/bSkhk6Beb8M/hqdefault.jpg)](https://youtu.be/bSkhk6Beb8M \"Argumentação matemática\")\n",
    "\n",
    "   - Introdução à Ciência de Dados. Procure descobrir a relação entre **Ciência de Dados** e o **Método científico**\n",
    "\n",
    "[![Introdução à Ciência de Dados](https://img.youtube.com/vi/z6jbqkmshig/hqdefault.jpg)](https://youtu.be/z6jbqkmshig \"Introdução à Ciência de Dados\")\n",
    "\n",
    "   - Método científico\n",
    "\n",
    "[![Método científico](https://img.youtube.com/vi/betDzoVEZVA/hqdefault.jpg)](https://youtu.be/betDzoVEZVA \"Método científico\")\n",
    "\n",
    "# Gosta de livros \n",
    "[Pense em Python - Allen B. Downey](https://penseallen.github.io/PensePython2e/)\n",
    "\n",
    "[Scientific Visualization: Python + Matplotlib - Nicolas P. Rougier, ](https://github.com/rougier/scientific-visualization-book)\n",
    "\n",
    "[Free python books](https://github.com/pamoroso/free-python-books)\n",
    "\n",
    "[Python Data Science Handbook - Jake VanderPlas](https://jakevdp.github.io/PythonDataScienceHandbook/)\n",
    "\n",
    "[Jupyter Guide to Linear Algebra](https://bvanderlei.github.io/jupyter-guide-to-linear-algebra/intro.html)\n",
    "\n",
    "[Teaching and Learning with Jupyter](https://jupyter4edu.github.io/jupyter-edu-book/)\n",
    "\n",
    "[Python Programming for Data Science](https://www.tomasbeuzen.com/python-programming-for-data-science/README.html)\n",
    "\n",
    "[Books with Jupyter](https://executablebooks.org/en/latest/gallery.html)"
   ]
  },
  {
   "cell_type": "markdown",
   "metadata": {},
   "source": [
    "Qualquer dúvida, poste no fórum da disciplina.\n",
    "### Te vejo na mentoria!"
   ]
  }
 ],
 "metadata": {
  "kernelspec": {
   "display_name": "Python 3",
   "language": "python",
   "name": "python3"
  },
  "language_info": {
   "codemirror_mode": {
    "name": "ipython",
    "version": 3
   },
   "file_extension": ".py",
   "mimetype": "text/x-python",
   "name": "python",
   "nbconvert_exporter": "python",
   "pygments_lexer": "ipython3",
   "version": "3.8.10"
  },
  "rise": {
   "autolaunch": true,
   "enable_chalkboard": true,
   "progress": true,
   "scroll": true,
   "slideNumber": true
  }
 },
 "nbformat": 4,
 "nbformat_minor": 4
}
