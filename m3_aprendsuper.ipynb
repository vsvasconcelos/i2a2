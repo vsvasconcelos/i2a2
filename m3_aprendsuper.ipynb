{
 "cells": [
  {
   "cell_type": "markdown",
   "metadata": {},
   "source": [
    "[<center><img src=\"images/Logo_I2A2.webp\"></center>](https://www.i2a2.ca/)         \n",
    "Rev 5"
   ]
  },
  {
   "cell_type": "markdown",
   "metadata": {},
   "source": [
    "# Módulo 3"
   ]
  },
  {
   "cell_type": "markdown",
   "metadata": {
    "slideshow": {
     "slide_type": "slide"
    }
   },
   "source": [
    "# Aula 1 - Aprendizado Supervisionado  (Supervised Learning)\n",
    "\n",
    "\n",
    "**Objetivo**: Apresentar o aprendizado supervisionado e suas aplicações"
   ]
  },
  {
   "cell_type": "markdown",
   "metadata": {},
   "source": [
    "Este material o auxiliará nas sessões de autoestudo, contudo, fique à vontade para consultar outras fontes de informações, mas nunca deixe de citá-las."
   ]
  },
  {
   "cell_type": "markdown",
   "metadata": {},
   "source": [
    "<img src=\"https://miro.medium.com/max/1336/0*EEE6jqXUwJTiEdep.gif\"/>    "
   ]
  },
  {
   "cell_type": "markdown",
   "metadata": {},
   "source": [
    "#  O que é a Inteligência Artificial\n",
    "\n",
    "[![ClaudioP](https://img.youtube.com/vi/_YijkijxHbI/hqdefault.jpg)](https://youtu.be/_YijkijxHbI \"ClaudioP\")\n",
    "\n",
    "# Tipos básicos de Aprendizagem de Máquina\n",
    "\n",
    "### Como as máquinas aprendem?\n",
    "\n",
    "   Veja a figura abaixo e identifique as 3 abordagens básicas de aprendizado de máquina.\n",
    "\n",
    "<img src=\"images/ML_modelos.png\" />"
   ]
  },
  {
   "cell_type": "markdown",
   "metadata": {},
   "source": [
    "# As diferentes formas de aprendizado de máquina \n",
    "\n",
    "Leia o artigo [As diferentes formas de aprendizado de máquina](https://www.eldorado.org.br/blog/as-diferentes-formas-de-aprendizado-de-maquina/) e identifique:      \n",
    "   - Os conceitos de: Modelo, Treinamento e Inferência;         \n",
    "   - As Formas de aprendizado de máquina básicas;          \n",
    "   - As Variações das formas de aprendizado de máquina básicas;            \n",
    "   - As Formas adicionais de aprendizado de máquina.\n",
    "    \n",
    "* Assista ao vídeo ...\n",
    "\n",
    "[![formas aprendizagem](https://img.youtube.com/vi/pE7UiFjCif0/hqdefault.jpg)](https://youtu.be/pE7UiFjCif0 \"formas aprendizagem\")"
   ]
  },
  {
   "cell_type": "markdown",
   "metadata": {},
   "source": [
    "# Aprendizado Supervisionado (Supervised Learning)\n",
    "   - Nesta aula focaremos no **Aprendizado Supervisionado**\n",
    "   \n",
    "[<img src=\"https://btechmag.com/wp-content/uploads/2020/11/Gif-Supervised-Learning.gif\"/>](https://btechmag.com/machine-learning/machine-learning-techniques-every-aspiring-data-scientist-should-know/)\n",
    "   \n",
    "\n",
    "\n",
    "## Abordagem Tradicional (Programação) x Aprendizagem de Máquina\n",
    "\n",
    "   - Por que utilizar a Aprendizagem de Máquina e não a programação convencional?"
   ]
  },
  {
   "cell_type": "markdown",
   "metadata": {},
   "source": [
    "## Abordagem Tradicional (Programação)\n",
    "<img src=\"images/abordtradicional.png\"/>"
   ]
  },
  {
   "cell_type": "markdown",
   "metadata": {},
   "source": [
    "### Fluxo de desenvolvimento\n",
    "<img src=\"images/abordtradicional_fluxo.png\"/>"
   ]
  },
  {
   "cell_type": "markdown",
   "metadata": {},
   "source": [
    "### Como escrever as regras para identificar um cão (Chihuahua)?\n",
    "\n",
    "<img src=\"images/Chihuahua.png\"/>"
   ]
  },
  {
   "cell_type": "markdown",
   "metadata": {},
   "source": [
    "## Aprendizagem de Máquina\n",
    "<img src=\"images/abordML.png\"/>"
   ]
  },
  {
   "cell_type": "markdown",
   "metadata": {},
   "source": [
    "### Fluxo de desenvolvimento\n",
    "<img src=\"images/abordML_fluxo.png\"/>"
   ]
  },
  {
   "cell_type": "markdown",
   "metadata": {},
   "source": [
    "### Treinando um modelo identificador um cão (Chihuahua)?\n",
    "\n",
    "\n",
    "<img src=\"images/abordML_trein.png\"/>"
   ]
  },
  {
   "cell_type": "markdown",
   "metadata": {},
   "source": [
    "# Machine learning project life cycle\n",
    "\n",
    "* Pesquise pelo ciclo de vida dos projetos de machine learning.\n",
    "* Veja o capítulo 1 do livro (grátis) [Machine Learning Engineering - Andriy Burkov](http://www.mlebook.com/wiki/doku.php)\n",
    "\n",
    "<img src=\"images/ML_process_.png\"/>"
   ]
  },
  {
   "cell_type": "markdown",
   "metadata": {},
   "source": [
    "# Feature Engineering\n",
    "<img src=\"images/fe.png\" alt=\"jupyter\" style=\"width: 500px;\" align=\"central\"/>\n",
    "\n",
    "### Pesquise por Feature Engineering. \n",
    "Dica: capítulo 4 do livro (grátis) [Machine Learning Engineering - Andriy Burkov](http://www.mlebook.com/wiki/doku.php)"
   ]
  },
  {
   "cell_type": "markdown",
   "metadata": {},
   "source": [
    "# Treinamento um modelo de Machine Learning\n",
    "\n",
    "<img src=\"images/trainml.png\" alt=\"jupyter\" style=\"width: 500px;\" align=\"central\"/>\n",
    "\n",
    "### Pesquise:\n",
    "* O Processo de Treinamento de um modelo de Machine Learning;\n",
    "* O [Ajuste de Hiperparâmetros em Modelos de Machine Learning](https://medium.com/programacaodinamica/ajuste-de-hiperpar%C3%A2metros-em-modelos-de-machine-learning-946dec10f90b);\n",
    "* Overfitting;\n",
    "* Underfitting;\n",
    "* Conjuntos de dados (dataset) de Treinamento, validação e teste de modelos;\n",
    "* Cross Validation."
   ]
  },
  {
   "cell_type": "markdown",
   "metadata": {},
   "source": [
    "# Supervised Learning\n",
    "\n",
    "* Assista ao vídeo ...\n",
    "[![aprendizagem supervisionada](https://img.youtube.com/vi/7-pF2FwRYc8/hqdefault.jpg)](https://youtu.be/7-pF2FwRYc8?t=67 \"aprendizagem supervisionada\")"
   ]
  },
  {
   "cell_type": "markdown",
   "metadata": {},
   "source": [
    "# Exercício 1: Identificação de suspeitos de fraude utilizando Machine Learning\n",
    "\n",
    "\n",
    "## Acesse o [projeto](https://github.com/vsvasconcelos/ML/blob/master/README.md) e:\n",
    "\n",
    "### 1) Identifique o objetivo do projeto\n",
    "   * Qual o significado das métricas Precision e Recall?\n",
    "\n",
    "### 2) O que é o scikit-learning (sklearn)?\n",
    "    \n",
    "    \n",
    "### 3) Como os atributos do modelo foram selecionados?\n",
    "   * Foram criadas novas features?\n",
    "    \n",
    "### 4) Outliers foram removidos?\n",
    "   * Quais critérios foram utilizados para remoção?\n",
    "    \n",
    "### 5) Que tipo de algoritmo de machine learning foi utilizado?\n",
    "   * O projeto é do tipo Supervisionado ou Não Supervisionado?\n",
    "   * Como foi realizado o pré-processamento dos dados?\n",
    "   * Como foi implementado os conjuntos de treinamento e teste?\n",
    "   * Como foi justificado a divisão?\n",
    "   * Quais algoritmos foram implementados? Qual obteve o melhor resultado?\n",
    "   * O que é a funcionalidade pipeline do scikit-learning?\n",
    "   * Avalie a Interpretação e Discussão dos Resultados do projeto."
   ]
  },
  {
   "cell_type": "markdown",
   "metadata": {},
   "source": [
    "# Exercício 2: Categorização De Imagens Para Detecção De Pneumonia\n",
    "<img src=\"images/pneumonia.png\" alt=\"jupyter\" style=\"width: 500px;\" align=\"central\"/>\n",
    "\n",
    "A ideia deste projeto é utilizar uma plataforma de anotações de dados ([Appen](https://appen.com/solutions/platform-overview/)) para \"ensinar\" anotadores a determinar se as imagens de raio-x apresentadas possui ou não pneumonia, ou ainda se há dúvidas quanto a isso (incerto). \n",
    "\n",
    "* Veja o vídeo ...\n",
    "[![Appen](https://img.youtube.com/vi/h5076nFFyJE/hqdefault.jpg)](https://youtu.be/h5076nFFyJE \"Appen\")\n",
    "\n",
    "Um especialista no assunto apresenta imagens:\n",
    "* Com pneumonia; e\n",
    "* Saudáveis;\n",
    "\n",
    "E em seguida apresenta algumas imagens para os candidatos a anotadores responderem. Dependendo do nível de acerto neste teste, os anotadores estarão aptos a fazer a anotação de todo o dataset.\n",
    "\n",
    "## Acesse o [projeto](https://vsvasconcelos.github.io/appen.html)\n",
    "\n",
    "### 1) Siga os passos, veja as dicas de avaliação e responda o questionário. \n",
    "   * Achou fácil identificar uma pneumonia?\n",
    "\n",
    "### 2) Explore um pouco o portal da [Appen](https://appen.com/solutions/annotation-capabilities/)"
   ]
  },
  {
   "cell_type": "markdown",
   "metadata": {},
   "source": [
    "# Quer saber mais?\n",
    "\n",
    "* Veja a [PlayList Glossário AI](https://www.youtube.com/watch?v=FZa0S5FmVzs&list=PL_uE4fr8jUNx4NtGltMdydozOd_QD73Ud) do I2AI\n",
    "\n",
    "* Veja os capítulos  5 e 6 do livro (grátis) [Machine Learning Engineering - Andriy Burkov](http://www.mlebook.com/wiki/doku.php)\n",
    "\n",
    "* Assista ao vídeo sobre o scikit-learning (sklearn)...   \n",
    "\n",
    "[![sklearn](https://img.youtube.com/vi/39HBlzFV9vk/hqdefault.jpg)](https://youtu.be/39HBlzFV9vk \"sklearn\")\n",
    "\n",
    "   * Explore a playlist do curso Introdução à [Machine Learning](https://www.youtube.com/watch?v=_EhfAOSITJw&list=PLFE-LjWAAP9SnJykh2e9ucXh6c7CCDksu) do ICMC da USP\n",
    "\n",
    "   * Veja a documentação do [scikit-learning](https://scikit-learn.org/stable/supervised_learning.html#supervised-learning)\n",
    "\n",
    "   * Veja exemplos de [utilização](https://scikit-learn.org/stable/auto_examples/index.html#classification) no sklearn\n",
    "    \n",
    "   * Leia o artigo [Implementando um Modelo de Classificação no Scikit-Learn](https://tatianaesc.medium.com/implementando-um-modelo-de-classifica%C3%A7%C3%A3o-no-scikit-learn-6206d684b377)\n",
    "    \n",
    "   * Leia o artigo [Regressão Linear com Sklearn: Conceito e Aplicação](https://medium.com/@lamartine_sl/regress%C3%A3o-linear-com-sklearn-modelo-de-previs%C3%A3o-de-custos-com-plano-de-sa%C3%BAde-5e963e590f4c)\n",
    "   \n",
    "   * [Matriz de confusão](https://medium.com/@bernardolago/matriz-de-confus%C3%A3o-7c0e36468323)\n",
    "   \n",
    "   * Veja a [PlayList](https://www.youtube.com/watch?v=0Nafdcq4n7k&list=PL7OlISixQYm4v1fW1Mn9dsAoyoL8CnKuf) do prof. Alexandre Levada   \n",
    "   \n",
    "   * Explore o canal [Ciência de Dados na Veia](https://www.youtube.com/c/Ci%C3%AAnciadeDadosnaVeia/featured)\n",
    "\n",
    "   * Assista ao vídeo ...\n",
    "[![Machine Learning para diagnóstico e prognóstico no setor elétrico](https://img.youtube.com/vi/9Wq0Nm45YHU/hqdefault.jpg)](https://youtu.be/9Wq0Nm45YHU \"Machine Learning para diagnóstico e prognóstico no setor elétrico\")\n",
    "\n",
    "   * Explore o artigo [Welcome to the Basics of ML](https://www.mltut.com/machine-learning/)\n",
    "   \n",
    "   * Veja as aulas de IA do curso Empreendedorismo e Inovação Tecnológica nas Engenharias, do prof. Cláudio Pinheiro\n",
    "       - [Tipos de IA](https://youtu.be/rsdUhG9pAH4);\n",
    "       - [Técnicas de modelagem e Aprendizagem Profunda](https://youtu.be/QbARoetAPFk);\n",
    "       - [O futuro da Inteligência Artificial](https://youtu.be/JZblgY0UfWM)\n",
    "       \n",
    "* Assista ao vídeo Dark Matter of Intelligence and Self-Supervised Learning do prof. Yann LeCun \n",
    "[![Dark Matter of Intelligence and Self-Supervised Learning](https://img.youtube.com/vi/SGzMElJ11Cc/hqdefault.jpg)](https://youtu.be/SGzMElJ11Cc \"Dark Matter of Intelligence and Self-Supervised Learning\")  \n",
    "\n",
    "\n",
    "# O Futuro do Trabalho: 10 habilidades que vão estar em alta até 2025\n",
    "\n",
    "* Segundo o relatório [Future of Jobs: The top 10 skills to be developed by 2025](http://www3.weforum.org/docs/WEF_Future_of_Jobs_2020.pdf), do Fórum Econômico Mundial, **Uso, monitoramento e controle de tecnologias** é a 7ª principal habilidade que estará em alta até 2025.   \n",
    "\n",
    "## Uso, monitoramento e controle de tecnologias\n",
    "\n",
    "* Pesquise no artigo [COMPETÊNCIAS RELEVANTES PARA O PROFISSIONAL DO FUTURO - COMPETÊNCIAS LISTADAS PELO RELATÓRIO “THE FUTURE OF JOB” DO FÓRUM ECONÔMICO MUNDIAL E A PREVISÃO DE FUTURO DE YUVAL HARARI](https://semanaacademica.com.br/artigo/competencias-relevantes-para-o-profissional-do-futuro-competencias-listadas-pelo-relatorio-do) sobre **Uso, monitoramento e controle de tecnologias**. \n",
    "\n",
    "* A figura abaixo apresentas as 10 principais tecnologias que mais terão impacto nos negócios até 2022.[(KPMG, 2019)](https://assets.kpmg/content/dam/kpmg/br/pdf/2019/06/br-top-10-technologies-for-business-transformation.pdf)\n",
    "\n",
    "[<center><img src=\"images/top_10_ranking.png\"></center>](https://assets.kpmg/content/dam/kpmg/br/pdf/2019/06/br-top-10-technologies-for-business-transformation.pdf)         \n",
    "\n",
    "## Para saber mais ...\n",
    "* Assista aos vídeos: \n",
    "\n",
    "[![TECNOLOGIAS HABILITADORAS DA INDÚSTRIA 4.0](https://img.youtube.com/vi/_SGEQvLPp4Y/hqdefault.jpg)](https://youtu.be/_SGEQvLPp4Y \"TECNOLOGIAS HABILITADORAS DA INDÚSTRIA 4.0\")  \n",
    "\n",
    "[![Cloud Computing: o que é?](https://img.youtube.com/vi/QtVrpcSnsuI/hqdefault.jpg)](https://youtu.be/QtVrpcSnsuI \"Cloud Computing: o que é?\")  \n",
    "\n",
    "[![Blockchain](https://img.youtube.com/vi/Mp4AHzzp-Qo/hqdefault.jpg)](https://youtu.be/Mp4AHzzp-Qo \"Apresentação do tema Blockchain\")  \n",
    "\n",
    "[![Segurança da Informação](https://img.youtube.com/vi/13wFQ-71UMg/hqdefault.jpg)](https://youtu.be/13wFQ-71UMg \"Princípios e conceitos da Segurança da Informação\") \n",
    "\n",
    "[![IoT](https://img.youtube.com/vi/nX-d9U3d5Hw/hqdefault.jpg)](https://youtu.be/nX-d9U3d5Hw \"IoT\") \n",
    "\n",
    "[![Computação Quântica](https://img.youtube.com/vi/1EpLuvmmQWc/hqdefault.jpg)](https://youtu.be/1EpLuvmmQWc \"Computação Quântica\")   \n",
    "\n",
    "   - O Profissional do Futuro, por Michelle Schneider  \n",
    "[![O Profissional do Futuro](https://img.youtube.com/vi/9G5mS_OKT0A/hqdefault.jpg)](https://youtu.be/9G5mS_OKT0A \"O Profissional do Futuro\")   \n",
    "\n",
    "   - Veja o artigo [O sucesso no trabalho é determinando em 85% pelas soft skills](https://economia.estadao.com.br/blogs/radar-do-emprego/hard-e-soft-skills/)\n"
   ]
  },
  {
   "cell_type": "markdown",
   "metadata": {},
   "source": [
    "# Gosta de livros ...\n",
    "\n",
    "[Machine Learning for dummies - Hurwitz - Kirsch](https://www.ibm.com/downloads/cas/GB8ZMQZ3)            \n",
    "[Free and Open Machine Learning](https://nocomplexity.com/documents/fossml/abstract.html)"
   ]
  },
  {
   "cell_type": "markdown",
   "metadata": {},
   "source": [
    "Qualquer dúvida, poste no fórum da disciplina.\n",
    "### Te vejo na mentoria!"
   ]
  }
 ],
 "metadata": {
  "kernelspec": {
   "display_name": "Python 3",
   "language": "python",
   "name": "python3"
  },
  "language_info": {
   "codemirror_mode": {
    "name": "ipython",
    "version": 3
   },
   "file_extension": ".py",
   "mimetype": "text/x-python",
   "name": "python",
   "nbconvert_exporter": "python",
   "pygments_lexer": "ipython3",
   "version": "3.8.10"
  },
  "rise": {
   "autolaunch": true,
   "enable_chalkboard": true,
   "progress": true,
   "scroll": true,
   "slideNumber": true
  }
 },
 "nbformat": 4,
 "nbformat_minor": 4
}
