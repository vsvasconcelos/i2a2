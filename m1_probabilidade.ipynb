{
 "cells": [
  {
   "cell_type": "markdown",
   "metadata": {},
   "source": [
    "[<center><img src=\"images/Logo_I2A2.webp\"></center>](https://www.i2a2.ca/)      \n",
    "Rev 14"
   ]
  },
  {
   "cell_type": "markdown",
   "metadata": {
    "slideshow": {
     "slide_type": "slide"
    }
   },
   "source": [
    "# Módulo 1 "
   ]
  },
  {
   "cell_type": "markdown",
   "metadata": {},
   "source": [
    "## Aula 1: Probabilidade\n",
    "\n",
    "**Objetivos**: Revisitar o conceito de probabilidade e suas aplicações em Inteligência Artificial."
   ]
  },
  {
   "cell_type": "markdown",
   "metadata": {},
   "source": [
    "* Este material o auxiliará nas sessões de autoestudo, contudo, fique à vontade para consultar outras fontes de informações, mas nunca deixe de citá-las."
   ]
  },
  {
   "cell_type": "markdown",
   "metadata": {},
   "source": [
    "# Começando nossa Jornada de Aprendizagem\n",
    "\n",
    "Estamos começando nossa jornada de aprendizagem **\\0/**   \n",
    "Veja nossa trilha ...\n",
    "\n",
    "<center><img src=\"images/trilha_2.png\", width=700></center>  \n",
    "\n",
    "### Sucesso!"
   ]
  },
  {
   "cell_type": "markdown",
   "metadata": {},
   "source": [
    "# Por que estudar Inteligência Artificial?\n",
    "\n",
    "* No longo prazo, os **dois fatores mais relevantes** para os **ganhos de produtividade** das empresas brasileiras são a **tecnologia** e a **educação/qualificação da força de trabalho**. [(De Negri & Cavalcante, 2014)](https://www.ipea.gov.br/portal/images/stories/PDFs/livros/livros/livro_produtividade_no_brasil.pdf).    \n",
    "\n",
    "* Focando no **aspecto tecnológico**, no levantamento realizado pela consultoria KPMG, no qual foram entrevistados 740 líderes de empresas globais, buscou-se identificar quais seriam as tecnologias que mais terão impacto nos negócios até 2022; sendo que as três principais foram: **internet das coisas (IoT)**; **automação de processo robótico (RPA)**; e **inteligência artificial (IA), computação cognitiva e aprendizagem de máquina**.[(KPMG, 2019)](https://assets.kpmg/content/dam/kpmg/br/pdf/2019/06/br-top-10-technologies-for-business-transformation.pdf).  \n",
    "\n",
    "* Assim como a **energia elétrica** ocasionou no final do século XIX uma **mudança radical e abrupta nos sistemas econômicos e nas estruturas sociais** – o que ficou conhecido como a **2ª Revolução Industrial** –, a **IA tem hoje esse mesmo potencial**, como afirmou o professor de Stanford [Andrew Ng](https://www.gsb.stanford.edu/insights/andrew-ng-why-ai-new-electricity) em 2016: \"**[...] A Inteligência Artificial é a nova eletricidade\"**.   \n",
    "\n",
    "* Nesta linha, um estudo da consultoria [PWC](https://www.pwc.com.br/pt/estudos/servicos/consultoria-negocios/2017/sizing-the-prize.html) calculou que o **PIB global aumentará 14% até 2030 como resultado da adoção da IA**, valor bem parecido - **15% de aumento no PIB mundial até 2030** - ao estudo [modeling the impact of Ai on the word economy](https://www.mckinsey.com/~/media/McKinsey/Featured%20Insights/Artificial%20Intelligence/Notes%20from%20the%20frontier%20Modeling%20the%20impact%20of%20AI%20on%20the%20world%20economy/MGI-Notes-from-the-AI-frontier-Modeling-the-impact-of-AI-on-the-world-economy-September-2018.ashx) da consultoria McKinsey.\n",
    "\n",
    "* De uma forma mais sistêmica, em 2017, [Devin Wenig](https://www.layer0.co/post/artificial-intelligence-strategy)  , então presidente e CEO do eBay,  afirmou que: \"[...] **Se você não tiver uma estratégia de IA, morrerá no mundo que está por vir**\".\n",
    "\n",
    "* Falando em estratégia, você conhece a [EBIA (Estratégia Brasileira de Inteligência Artificial)](https://www.gov.br/mcti/pt-br/acompanhe-o-mcti/transformacaodigital/arquivosinteligenciaartificial/ia_estrategia_documento_referencia_4-979_2021.pdf)?   \n",
    "\n",
    "* Dê uma olhadela na EBIA, especialmente no **capítulo 7 - Aplicação nos setores produtivos** busque compreender qual será o impacto no seu setor de atuação.  \n",
    "\n",
    "* Veja também o relatório [APPLICATIONS FOR MACHINE EARNING IN ENGINEERING AND THE PHYSICAL SCIENCES](https://f.hubspotusercontent00.net/hubfs/4994459/Machine%20Learning/MACHINE_LEARNING_wp.pdf) e busque identificar onde a IA (Machine Learning) mais impactará na engenharia e ciência?\n",
    "\n",
    "* Leia o relatório [A revolução das máquinas inteligentes](https://www.abdi.com.br/postagem/a-revolucao-das-maquinas-inteligentes) da ABDI\n",
    "\n",
    "* Assista o vídeo **Desafios e Oportunidades de IA no Brasil** ...\n",
    "[![Era AIoT](https://img.youtube.com/vi/NCgCE506R1I/hqdefault.jpg)](https://youtu.be/NCgCE506R1I \"Desafios e Oportunidades de IA no Brasil\") \n",
    "\n",
    "# Desafio\n",
    "Qual a relação entre a IA e a Manufatura?       \n",
    "Assista o vídeo **Documentário Industria 4.0** e procure inter-relacionar os conceitos:\n",
    "- Industria 4.0;\n",
    "- Automação;\n",
    "- Manufatura;\n",
    "- Tecnologias da indústria 4.0;\n",
    "- Conectividade na indústria 4.0;\n",
    "- Big data.\n",
    "[![Documentário Industria 4.0](https://img.youtube.com/vi/QWWQr6TmWGQ/hqdefault.jpg)](https://youtu.be/QWWQr6TmWGQ \"Documentário Industria 4.0\")"
   ]
  },
  {
   "cell_type": "markdown",
   "metadata": {},
   "source": [
    "# Começando ...\n",
    "\n",
    "[<center><img src=\"images/meme.jpg\"></center>](https://datahackers.com.br/)      \n"
   ]
  },
  {
   "cell_type": "markdown",
   "metadata": {},
   "source": [
    "# Determinístico, aleatório, estocástico e caótico\n",
    "Sua primeira tarefa é entender os conceitos de **Determinístico, aleatório, estocástico e caótico**. Assista o vídeo abaixo e procure as definições destes conceitos e ainda busque exemplificar cada um deles no nosso dia a dia. \n",
    "[![Determinístico, aleatório, estocástico e caótico](https://img.youtube.com/vi/05OcAXuVPXo/hqdefault.jpg)](https://youtu.be/05OcAXuVPXo \"Determinístico, aleatório, estocástico e caótico\")"
   ]
  },
  {
   "cell_type": "markdown",
   "metadata": {},
   "source": [
    "# Probabilidade\n",
    "Com os conceitos acima internalizados, como podemos relacioná-los com o conceito de probabilidade?    \n",
    "Sua próxima tarefa é entender o conceito de **probabilidade**. Assista o vídeo **Introdução à Teoria das Probabilidade** do [Prof. Francisco Rodrigues](https://sites.icmc.usp.br/francisco/) e procure as definições para:\n",
    "- Probabilidade;\n",
    "- Espaço Amostral;\n",
    "- Evento\n",
    "[![Probabilidades - Aula 1](https://img.youtube.com/vi/7aHjkGFtbnM/hqdefault.jpg)](https://youtu.be/7aHjkGFtbnM \"Probabilidades - Aula 1\")"
   ]
  },
  {
   "cell_type": "markdown",
   "metadata": {},
   "source": [
    "* Outro vídeo interessante para entender o conceito de probabilidade é listado abaixo:    \n",
    "\n",
    "[![Probabilidade básica](https://img.youtube.com/vi/AWSkKdvJX4c/hqdefault.jpg)](https://youtu.be/AWSkKdvJX4c \"Probabilidade básica\")\n",
    "\n",
    "Este vídeo faz parte do canal da [khanacademy](https://pt.khanacademy.org/math/statistics-probability/probability-library), recomendamos a consulta."
   ]
  },
  {
   "cell_type": "markdown",
   "metadata": {},
   "source": [
    "Busque livremente pelas definições dos conceitos abaixo:\n",
    "- Experimento (Experiment);\n",
    "- Resultado (Outcome);\n",
    "- Pontos amostrais (Sample point).\n",
    "- Evento complementar (Complement).\n",
    "- Tipo de eventos.\n",
    "\n",
    "**Ah! não esqueça de citar as fontes consultadas.**"
   ]
  },
  {
   "cell_type": "markdown",
   "metadata": {},
   "source": [
    "# Teorema de Bayes\n",
    "\n",
    "* Assista aos vídeos:\n",
    "\n",
    "[![Teorema de Bayes](https://img.youtube.com/vi/sRfVDPJAkro/hqdefault.jpg)](https://youtu.be/sRfVDPJAkro \"Teorema de Bayes\")   \n",
    "\n",
    "[![Bayes theorem, the geometry of changing beliefs](https://img.youtube.com/vi/HZGCoVF3YvM/hqdefault.jpg)](https://youtu.be/HZGCoVF3YvM \"Bayes theorem, the geometry of changing beliefs\") "
   ]
  },
  {
   "cell_type": "markdown",
   "metadata": {},
   "source": [
    "# Amostras enviesadas \n",
    "* Assista ao vídeo\n",
    "[![Isto é Matemática -](https://img.youtube.com/vi/3g_LruYERf0/hqdefault.jpg)](https://youtu.be/3g_LruYERf0 \"Amostras Enviesadas\")"
   ]
  },
  {
   "cell_type": "markdown",
   "metadata": {},
   "source": [
    "# Probabiliadade x IA\n",
    "\n",
    "Ok, mas qual a relação da probabiliadade/matemática com a IA?    \n",
    "Leia os artigos:  \n",
    "- [A Matemática da Inteligência Artificial](https://blogs.oglobo.globo.com/ciencia-matematica/post/matematica-da-inteligencia-artificial.html) e\n",
    "- [Como os modelos estatísticos se aplicam no Machine Learning](https://www.aquare.la/como-os-modelos-estatisticos-se-aplicam-no-machine-learning/)"
   ]
  },
  {
   "cell_type": "markdown",
   "metadata": {},
   "source": [
    "O próximo passo é a escolha do canal da [khanacademy](https://pt.khanacademy.org/math/statistics-probability/probability-library) e/ou a [playlist](https://www.youtube.com/watch?v=HzOCwzzlGiA&list=PLSc7xcwCGNh3Ls-WARhH54WwiqB91Kyak&index=2) do Prof. Francisco Rodrigues para avançar no autoestudo de probabilidade. Outras fontes podem ser consultadas.     \n",
    "O Prof. Francisco preparou ainda o [Roteiro: Introdução à Teoria das Probabilidades](https://sites.icmc.usp.br/francisco/roteiro.html), recomendamos muito a consulta."
   ]
  },
  {
   "cell_type": "markdown",
   "metadata": {},
   "source": [
    "# Quer saber mais\n",
    "* Explore a playlist de [Probabilidades](https://www.youtube.com/watch?v=7aHjkGFtbnM&list=PLSc7xcwCGNh3Ls-WARhH54WwiqB91Kyak) do prof. Francisco Rodrigues\n",
    "\n",
    "## Leia os artigos:     \n",
    "- [Como a inteligência artificial e os dados podem criar valor para as empresas](https://www.mckinsey.com/industries/advanced-electronics/our-insights/artificial-intelligence-the-time-to-act-is-now/pt-br#) \n",
    "- [Inteligência artificial: A hora de agir é agora](https://www.mckinsey.com/industries/advanced-electronics/our-insights/artificial-intelligence-the-time-to-act-is-now/pt-br#)\n",
    "- [Roadmap of Mathematics for Machine Learning](https://medium.com/analytics-vidhya/roadmap-of-mathematics-for-machine-learning-48f23baa57)\n",
    "\n",
    "## Veja os vídeos:   \n",
    "[![prob](https://img.youtube.com/vi/LBemXHm_Ops/hqdefault.jpg)](https://youtu.be/LBemXHm_Ops \"prob\")\n",
    "\n",
    "* Veja a playlist Matemática e Inteligência Artificial\n",
    "\n",
    "[![mathIA](https://img.youtube.com/vi/SswAAOit9Iw/hqdefault.jpg)](https://www.youtube.com/watch?v=SswAAOit9Iw&list=PLEx1BRi5A-snYw9P1tmDaHz_L61IV_AvM \"mathIA\")  \n",
    "\n",
    "* **As 3 Áreas da Matemática Usadas em Data Science** do prof. Mario Filho\n",
    "\n",
    "[![prob](https://img.youtube.com/vi/niF_T21vdZ4/hqdefault.jpg)](https://youtu.be/niF_T21vdZ4 \"As 3 Áreas da Matemática Usadas em Data Science / Mario Filho\")  \n",
    "\n",
    "* **Artificial Intelligence is the New Electricity** do prof. Andrew Ng\n",
    "   \n",
    "[![Andrew Ng:](https://img.youtube.com/vi/21EiKfQYZXc/hqdefault.jpg)](https://youtu.be/21EiKfQYZXc \"Artificial Intelligence is the New Electricity\")\n",
    "\n",
    "* Explore o canal [Probability The Science of Uncertainty and Data Course overview](https://www.youtube.com/watch?v=P7gOlQvvDAs&list=PLsugXK9b1w1nX0c8PnrXUzTMerTq4Xbsp)  \n",
    "\n",
    "* Veja a entrevista do Prof. Anderson Soares ... \n",
    "\n",
    "[![Anderson Soares](https://img.youtube.com/vi/9BZI6LcuD3U/hqdefault.jpg)](https://youtu.be/9BZI6LcuD3U?si=yhFfZM8Ynite3oYv \"Anderson Soares - Provoca\") \n",
    "\n",
    "\n",
    "## Diferença entre ciência de dados e pesquisa operacional\n",
    "\n",
    "   * Existe diferença? \n",
    "   * Leia os artigos:   \n",
    "       - [Diferença entre ciência de dados e pesquisa operacional](https://acervolima.com/diferenca-entre-ciencia-de-dados-e-pesquisa-operacional/);\n",
    "       - [O que é pesquisa operacional?](https://www.sobrapo.org.br/o-que-e-pesquisa-operacional).\n",
    "   * Explore a playlist [Pesquisa Operacional e Data Science](https://www.youtube.com/watch?v=qCOpsuppByU&list=PLEx1BRi5A-sm9riRrWfqXwZdvuNI68pnR)  \n",
    "   \n",
    "   \n",
    "## Curiosidades\n",
    "\n",
    "\n",
    "   * [10 Best Certification Courses for Artificial Intelligence- Beginner to Advanced](https://www.mltut.com/best-certification-courses-for-artificial-intelligence/)\n",
    "   \n",
    "   * [Por que todo profissional precisa entender IA?](https://youtu.be/gMantXmXqfM)\n",
    "\n",
    "   * [Habilidades Requeridas para a Sociedade 5.0](https://sol.sbc.org.br/index.php/ctrle/article/view/11445) \n",
    "   \n",
    "\n",
    "# O Futuro do Trabalho: 10 habilidades que vão estar em alta até 2025\n",
    "\n",
    "Segundo o relatório [Future of Jobs: The top 10 skills to be developed by 2025](http://www3.weforum.org/docs/WEF_Future_of_Jobs_2020.pdf), do Fórum Econômico Mundial, as 10 principais habilidades que estarão em alta até 2025 serão: \n",
    "\n",
    "1. Pensamento analítico e inovação\n",
    "2. Aprendizagem ativa e estratégias de aprendizado\n",
    "3. Resolução de problemas\n",
    "4. Pensamento crítico\n",
    "5. Criatividade\n",
    "6. Liderança\n",
    "7. Uso, monitoramento e controle de tecnologias\n",
    "8. Programação\n",
    "9. Resiliência, tolerância ao estresse e flexibilidade\n",
    "10. Raciocínio lógico\n",
    "\n",
    "\n",
    "Na versão de 2025 do [The Future of Jobs Report 2025](https://www.weforum.org/publications/the-future-of-jobs-report-2025/in-full/3-skills-outlook/) é possível a visualização das habilidades essenciais (core skills) no Brasil.   \n",
    "<center><img src=\"images/CoreSkill_2025.png\", width=700></center>  \n",
    "\n",
    "## Pensamento Analítico\n",
    "\n",
    "Pesquise no artigo [COMPETÊNCIAS RELEVANTES PARA O PROFISSIONAL DO FUTURO - COMPETÊNCIAS LISTADAS PELO RELATÓRIO “THE FUTURE OF JOB” DO FÓRUM ECONÔMICO MUNDIAL E A PREVISÃO DE FUTURO DE YUVAL HARARI](https://www.researchgate.net/publication/354654840_COMPETENCIAS_RELEVANTES_PARA_O_PROFISSIONAL_DO_FUTURO_-_COMPETENCIAS_LISTADAS_PELO_RELATORIO_DO_FORUM_ECONOMICO_MUNDIAL_E_A_PREVISAO_DE_FUTURO_DE_YUVAL_HARARI) e no e-book [O Guia Definitivo das Competências](https://conteudo.qulture.rocks/o-guia-definitivo-das-competencias?tipo=ebooks) sobre **Pensamento Analítico** (Capacidade Analítica)     \n",
    "\n",
    "Leia os artigos: [O mito do Dado](https://mittechreview.com.br/o-mito-do-dado/) e [Entre Dados e Narrativas: o ponto de equilíbrio da Informação](https://www.linkedin.com/pulse/entre-dados-e-narrativas-o-ponto-de-equil%C3%ADbrio-da-ricardo-cappra-16ygc/), ambos do Ricardo Cappra, e procure compreender as relações entre *dados*, *informações* e *narrativas*.\n",
    "\n",
    "### Para saber mais ...\n",
    "* Assista aos vídeos: \n",
    "\n",
    "    - Como pensamento analítico transforma o mundo \n",
    "[![ Como pensamento analítico transforma o mundo](https://img.youtube.com/vi/Y8pRTaDlH_o/hqdefault.jpg)](https://youtu.be/Y8pRTaDlH_o \" Como pensamento analítico transforma o mundo\")      \n",
    "\n",
    "    - Destravando o seu pensamento analítico: aprender fazendo e como usar em qualquer carreira. Prof. Lucas Rossi (LivUp)  \n",
    "[![Destravando o seu pensamento analítico](https://img.youtube.com/vi/Gj_hSzOiz4U/hqdefault.jpg)](https://youtu.be/Gj_hSzOiz4U?t=900 \"Destravando o seu pensamento analítico\")  \n",
    "\n",
    "* Leia o artigo: [Como desenvolver o pensamento analítico com 9 dicas](https://ead.pucgoias.edu.br/blog/pensamento-analitico)"
   ]
  },
  {
   "cell_type": "markdown",
   "metadata": {},
   "source": [
    "# Qual o seu caminho/trilha?\n",
    "* Analista de dados\n",
    "* Cientista de dados\n",
    "* Engenheiro de dados\n",
    "* Engenheiro de machine learning\n",
    "\n",
    "- Clique na figura abaixo e veja as trilhas possíveis ...\n",
    "[<center><img src=\"images/aiexpert.png\"></center>](https://i.am.ai/roadmap/#fundamentals)\n"
   ]
  },
  {
   "cell_type": "markdown",
   "metadata": {},
   "source": [
    "# Gosta de livros\n",
    "[Probabilidade e Estatística - Sonia Maria Barros Barbosa Correa](http://estpoli.pbworks.com/f/livro_probabilidade_estatistica_2a_ed.pdf)     \n",
    "\n",
    "[Matemática Estatística e Probabilidade - Jorge Luiz de Castro e Silva et al](https://educapes.capes.gov.br/bitstream/capes/554261/2/Livro%20Estatistica%20e%20Probabilidade%20.pdf)  \n",
    "\n",
    "[Introduction to Probability for Data Science - Stanley H. Chan](https://probability4datascience.com/)    \n",
    "\n",
    "[Probabilistic Machine Learning - a book series by Kevin Murphy](https://probml.github.io/pml-book/)\n",
    "\n",
    "[Tópicos em Matemática para Cientistas de Dados - Wagner Bonat](http://www.leg.ufpr.br/~wagner/TMCD/)"
   ]
  },
  {
   "cell_type": "markdown",
   "metadata": {},
   "source": [
    "Qualquer dúvida, poste no fórum da disciplina.\n",
    "### Te vejo na mentoria!"
   ]
  }
 ],
 "metadata": {
  "kernelspec": {
   "display_name": "Python 3",
   "language": "python",
   "name": "python3"
  },
  "language_info": {
   "codemirror_mode": {
    "name": "ipython",
    "version": 3
   },
   "file_extension": ".py",
   "mimetype": "text/x-python",
   "name": "python",
   "nbconvert_exporter": "python",
   "pygments_lexer": "ipython3",
   "version": "3.8.10"
  },
  "rise": {
   "autolaunch": true,
   "enable_chalkboard": true,
   "progress": true,
   "scroll": true,
   "slideNumber": true
  }
 },
 "nbformat": 4,
 "nbformat_minor": 4
}
