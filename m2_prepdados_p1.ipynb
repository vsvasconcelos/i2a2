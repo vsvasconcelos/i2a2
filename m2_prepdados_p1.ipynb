{
 "cells": [
  {
   "cell_type": "markdown",
   "metadata": {},
   "source": [
    "[<center><img src=\"images/Logo_I2A2.webp\"></center>](https://www.i2a2.ca/)      \n",
    "\n",
    "Rev 10"
   ]
  },
  {
   "cell_type": "markdown",
   "metadata": {},
   "source": [
    "# Módulo 2"
   ]
  },
  {
   "cell_type": "markdown",
   "metadata": {
    "slideshow": {
     "slide_type": "slide"
    }
   },
   "source": [
    "# Aula 2 - Preparação dos dados - parte 1\n",
    "\n",
    "\n",
    "**Objetivo**: Apresentar o processo de preparação dos dados"
   ]
  },
  {
   "cell_type": "markdown",
   "metadata": {},
   "source": [
    "Este material o auxiliará nas sessões de autoestudo, contudo, fique à vontade para consultar outras fontes de informações, mas nunca deixe de citá-las."
   ]
  },
  {
   "cell_type": "markdown",
   "metadata": {},
   "source": [
    "# Dados x Informações x Conhecimento x Inteligência\n",
    "\n",
    "Sua primeira tarefa é entender as relações entre os conceitos: **Dados, Informações, Conhecimento e Inteligência**.            \n",
    "Sugestões de consulta:     \n",
    "[![Dados, informação, conhecimento](https://img.youtube.com/vi/o8XD5yhmlLQ/hqdefault.jpg)](https://youtu.be/o8XD5yhmlLQ \"Dados, informação, conhecimento\")  \n",
    "\n",
    "* Leia o artigo: [From Data to Wisdom - Ackoff](https://www.systems-thinking.org/dikw/dikw.htm)"
   ]
  },
  {
   "cell_type": "markdown",
   "metadata": {},
   "source": [
    "# Tipos de dados\n",
    "\n",
    "Na aula de estatística você assistiu ao vídeo abaixo que trata dos tipos de variáveis ...\n",
    "[![Tipos de variaveis](https://img.youtube.com/vi/1zy6DTHQDzM/hqdefault.jpg)](https://youtu.be/1zy6DTHQDzM \"Tipos de variaveis\")\n",
    "\n",
    "Veja agora artigo de Jeff Hale [7 Data Types: A Better Way to Think about Data Types for Machine Learning](https://towardsdatascience.com/7-data-types-a-better-way-to-think-about-data-types-for-machine-learning-939fae99a689) que detalha **11 tipos de dados**, procure compreender cada um deles.\n",
    "\n",
    "Veja o vídeo abaixo sobre **dados temporais**\n",
    "[![seriestemporais](https://img.youtube.com/vi/Spg1XND1lpE/hqdefault.jpg)](https://youtu.be/Spg1XND1lpE \"seriestemporais\")\n",
    "\n",
    "Veja o vídeo abaixo sobre **IoT e Dados**\n",
    "[![iotdados](https://img.youtube.com/vi/bx_hcKTqUss/hqdefault.jpg)](https://youtu.be/bx_hcKTqUss \"iotdados\")\n"
   ]
  },
  {
   "cell_type": "markdown",
   "metadata": {},
   "source": [
    "# Big Data e Estruturação dos Dados\n",
    "\n",
    "* Leia o artigo: [Os desafios da era do Big Data e do analytics na indústria de manufatura](https://cio.com.br/tendencias/os-desafios-da-era-do-big-data-e-do-analytics-na-industria-de-manufatura/)\n",
    "\n",
    "### Pesquise livremente pelos conceitos abaixo e suas relações:\n",
    "* Big Data;\n",
    "* [Small Data](https://lxp.triggo.ai/article/O-que-e-Small-Data);\n",
    "* Dado estruturados;\n",
    "* Dados não estruturados;\n",
    "* Dados semiestruturados;\n",
    "* Datalake x lakehouse \n",
    "\n",
    "#### Data Lake\n",
    "\n",
    "* Atente para a animação abaixo ...\n",
    "\n",
    "  <img src=\"images/semantix.gif\"/>  \n",
    "  \n",
    "  Fonte: https://www.semantix.com.br/"
   ]
  },
  {
   "cell_type": "markdown",
   "metadata": {},
   "source": [
    "# Produto de Dados (Data Product)\n",
    "\n",
    "Você sabe o que é um produto de dados?\n",
    "Leia os artigos [Produtos de dados na era do big data](https://blog.dsbrigade.com/produto-de-dados/) e [Qual a diferença entre um Produto de Dados e um Produto de Tecnologia?](https://www.lewagon.com/pt-BR/blog/produto-de-dados-e-produto-de-tecnologia) e compreenda essa conceitos.\n",
    "\n",
    "* Assista ao vídeo **como transformar dados em produto**   \n",
    "\n",
    "[![como transformar dados em produto](https://img.youtube.com/vi/ntN1OBy8df4/hqdefault.jpg)](https://youtu.be/ntN1OBy8df4 \"como transformar dados em produto\") \n",
    "\n",
    "* Leia o artigo [Produtos de Machine Learning](https://medium.com/itau-data/produtos-de-machine-learning-9df731408a89)  \n"
   ]
  },
  {
   "cell_type": "markdown",
   "metadata": {},
   "source": [
    "# Privacidade de dados, ética e Machine Learning\n",
    "\n",
    "   * Os dados são o combustível para os produtos de dados, contudo, temos que ter algo em mente quando trabalhamos com dados ...\n",
    "[<center><img src=\"images/ResponsibleIA.PNG\"></center>](https://www.i2a2.ca/)  \n",
    "\n",
    "   * Ética e machine learning\n",
    "\n",
    "[![etica](https://img.youtube.com/vi/LkaAk5z12fU/hqdefault.jpg)](https://youtu.be/LkaAk5z12fU \"etica\") \n",
    "\n",
    "   * [Proteção de dados e Inteligência Artificial: desafio da LGPD](https://neuralmind.ai/2021/02/10/protecao-de-dados-e-inteligencia-artificial-o-desafio-da-lgpd/)\n",
    "\n",
    "\n",
    "   * IA Explicável XAI\n",
    "\n",
    "[![XAI](https://img.youtube.com/vi/7P2P4zNIeBU/hqdefault.jpg)](https://youtu.be/7P2P4zNIeBU \"XAI\") \n",
    "\n",
    "   * Data for Good\n",
    "   \n",
    "[![sgb](https://img.youtube.com/vi/cu7MEnf21MY/hqdefault.jpg)](https://youtu.be/cu7MEnf21MY \"sgb\") \n",
    "\n",
    "   * Alfabetização em dados é o novo inglês. Qual o seu nível de fluência?    \n",
    "   Prof.: Altay Souza (Unifesp)\n",
    "   \n",
    "[![sgb](https://img.youtube.com/vi/Z5-oy0178J0/hqdefault.jpg)](https://youtu.be/Z5-oy0178J0?t=741 \"sgb\") \n",
    "\n",
    "\n",
    "   * Vieses Cognitivos\n",
    "   \n",
    "   [Uma introdução (e alguns conselhos) sobre vieses cognitivos](https://awaridados.substack.com/p/introducao-conselhos-vieses-cognitivos?token=eyJ1c2VyX2lkIjoxMjU3MjYxMiwicG9zdF9pZCI6NDExNzU5ODEsIl8iOiJEMlpOSSIsImlhdCI6MTYzMTY0MzI2NCwiZXhwIjoxNjMxNjQ2ODY0LCJpc3MiOiJwdWItMzM4MzA4Iiwic3ViIjoicG9zdC1yZWFjdGlvbiJ9._UZsYhDYF0usklYVePqGE5SC9fMREiI0TgYZ_IBT60A)  \n",
    "  \n",
    "  [<center><img src=\"   https://upload.wikimedia.org/wikipedia/commons/6/65/Cognitive_bias_codex_en.svg\n",
    "\"></center>](   https://upload.wikimedia.org/wikipedia/commons/6/65/Cognitive_bias_codex_en.svg\n",
    ")      \n",
    "\n",
    "   \n",
    "\n",
    "# Para Pensar ...\n",
    "* Leia o artigo [Por que estudar filosofia é fundamental no mundo Digital?](https://mittechreview.com.br/por-que-estudar-filosofia-e-fundamental-no-mundo-digital/)"
   ]
  },
  {
   "cell_type": "markdown",
   "metadata": {},
   "source": [
    "# O Processo de ciência de dados\n",
    "\n",
    "Já ouviu falar do **Processo de ciência de dados**?    \n",
    "\n",
    "Veja na figura abaixo - adaptada do livro [Doing Data Science: Straight Talk from the Frontline - O'Neil & Schutt](https://books.google.com.br/books?id=vcVKAQAAQBAJ&hl=pt-PT) - uma possível representação deste processo.\n",
    "\n",
    "[<img src=\"images/cvml.png\" alt=\"jupyter\" style=\"width: 500px;\" align=\"central\"/>](https://books.google.com.br/books?id=ycNKAQAAQBAJ&pg=PA17&hl=pt-PT&source=gbs_toc_r&cad=4#v=onepage&q&f=false)   \n",
    "\n",
    "#### Atente para os seguintes detalhes da figura:\n",
    "* Da onde os dados brutos são coletados?\n",
    "* Depois desta coleta, qual o próximo passo?\n",
    "* Antes da Análise Exploratória de Dados, o que deve ser realizado?\n",
    "* Qual a entrada do Produto de Dados?\n",
    "\n",
    "* Assista ao vídeo ...\n",
    "\n",
    "[![KDD DS](https://img.youtube.com/vi/pNT304aI4uU/hqdefault.jpg)](https://youtu.be/pNT304aI4uU \"KDD DS\") \n",
    "\n",
    "Assista ao vídeo **CRISP-DM: a melhor metodologia para projetos de Data Science** e procure entender todas as fases desta metodologia e as relações com o **Processo de ciência de dados** apresentado acima.\n",
    "\n",
    "[![CRISP](https://img.youtube.com/vi/mhPATD8S6D0/hqdefault.jpg)](https://youtu.be/mhPATD8S6D0 \"CRISP\") \n",
    "\n",
    "* Veja também o **CRISP-ML(Q)** - The ML Lifecycle Process\n",
    "[<img src=\"images/crisp-ml-process.jpg\" alt=\"jupyter\" style=\"width: 500px;\" align=\"central\"/>](https://ml-ops.org/content/crisp-ml)     \n",
    "\n",
    "* E a adaptação do **CRISP-DM** para Data Science (**CRISP-DS**) proposta por Duan Cleypaul\n",
    "[<img src=\"images/crisp_ds.png\" alt=\"jupyter\" style=\"width: 500px;\" align=\"central\"/>](https://blog.magrathealabs.com/crisp-ds-cyclic-methodology-for-data-science-projects-10c7d00fbc85) "
   ]
  },
  {
   "cell_type": "markdown",
   "metadata": {},
   "source": [
    "# Modelos de Machine Learning\n",
    "\n",
    "Pesquise sobre:\n",
    "* Modelos de Machine Learning (ML);\n",
    "* Redes Neurais;\n",
    "* Deep Learning (DL);\n",
    "* Conjuntos de dados (dataset) de Treinamento, validação e teste de modelos de ML/DL;\n",
    "* Quais as razões para o `boom`do deep learning? Veja [Deep Learning e a Tempestade Perfeita](https://www.deeplearningbook.com.br/deep-learning-a-tempestade-perfeita/)\n",
    "* Qual a relação entre a **quantidade de dados** x **sucesso dos modelos de deep learning**?"
   ]
  },
  {
   "cell_type": "markdown",
   "metadata": {},
   "source": [
    "# Qualidade dos Dados"
   ]
  },
  {
   "cell_type": "markdown",
   "metadata": {},
   "source": [
    "`O Data Management Body of Knowledge (DMBOK) define Qualidade de Dados (DQ) como o planejamento, implementação e controle de atividades que aplicam técnicas de gerenciamento de qualidade aos dados, a fim de garantir que seja adequado ao consumo e atenda às necessidades dos dados consumidores`"
   ]
  },
  {
   "cell_type": "markdown",
   "metadata": {},
   "source": [
    "Leia mais sobre **qualidade dos dados** em:\n",
    "* [4 métricas fundamentais para a qualidade de dados em analytics](https://www.aquare.la/4-metricas-fundamentais-para-qualidade-de-dados-em-analytics/)     \n",
    "* [Gestão da Qualidade dos Dados](https://abracd.org/gestao-da-qualidade-dos-dados/) "
   ]
  },
  {
   "cell_type": "markdown",
   "metadata": {},
   "source": [
    "### Um resumão ...\n",
    "<img src=\"images/qualidadeDados.jpg\" alt=\"jupyter\" style=\"width: 500px;\" align=\"central\"/>"
   ]
  },
  {
   "cell_type": "markdown",
   "metadata": {},
   "source": [
    "# Benefícios e aplicações de uma metodologia de qualidade de dados\n",
    "\n",
    "* Com base nos materiais  pesquisados e sua vivência, liste quais os benefícios e aplicações de uma metodologia de qualidade de dados;\n",
    "* Quais são os erros mais comuns?"
   ]
  },
  {
   "cell_type": "markdown",
   "metadata": {},
   "source": [
    "# DataOps - MLOps\n",
    "\n",
    "* Já ouviu falar disto?\n",
    "* Leia os artigos:\n",
    "    - [DataOps: Fundamental for Industrial Transformation](https://www.isa.org/intech-home/2021/february-2021/features/dataops-fundamental-for-industrial-transformation);\n",
    "    - [What is MLOps, and Who is it For?](https://blog.isa.org/what-is-mlops-and-who-is-it-for)\n",
    "* Veja o video [How to use an Industrial DataOps solution to accelerate analytics](https://youtu.be/kZN2o929rSQ)\n",
    "\n",
    "* Veja [A Complete MLOps Toolbox](https://medium.com/rappibank/a-complete-mlops-toolbox-9c37f8ef5500)\n",
    "\n",
    "* Leia o artigo Monitorando Modelos de Aprendizado de Máquina em Produção do Toni Esteves ...\n",
    "\n",
    "[<center><img src=\"images/mlops.png\"></center>](http://estevestoni.medium.com/monitorando-modelos-de-aprendizado-de-m%C3%A1quina-em-produ%C3%A7%C3%A3o-9d4f83a3dbfa)  \n",
    "\n",
    "[![Nubank](https://img.youtube.com/vi/Z42UL_4AQvI/hqdefault.jpg)](https://youtu.be/Z42UL_4AQvI \"O que é MLOps?\") \n",
    "\n",
    "* Leia o artigo [MLOps: Machine Learning Como Disciplina de Engenharia](https://blog.dsacademy.com.br/mlops-machine-learning-como-disciplina-de-engenharia-parte-1/) - dividido em 3 partes - da DSA  \n",
    "\n",
    "* Explore o github [microsoft/MLOps](https://github.com/microsoft/MLOps)   \n",
    "\n",
    "* Explore o artigo [MLOps-Dockers and Kubernetes Essentials for a Data Scientist](https://medium.com/analytics-vidhya/mlops-dockers-and-kubernetes-essentials-for-a-data-scientist-8bc7b5866957)   "
   ]
  },
  {
   "cell_type": "markdown",
   "metadata": {},
   "source": [
    "# Quer saber mais ...\n",
    "* Veja os relatórios:\n",
    "\n",
    "    - Da Experian [2020 Global data management research - The data-driven organization, a transformation in progress](https://s3-sa-east-1.amazonaws.com/serasaexperian-site-institucional-wp-content/wp-content/uploads/20200529133321/2020-Global-data-management-research.pdf)\n",
    "    \n",
    "    - Do Cappra Institute [Maturidade analítica das organizações brasileiras](https://www.cappra.institute/ima)\n",
    "    \n",
    "    - Assista aos vídeos ...\n",
    "    \n",
    "[![processamento1](https://img.youtube.com/vi/pbksL5cpeSk/hqdefault.jpg)](https://youtu.be/pbksL5cpeSk \"processamento1\") \n",
    "\n",
    "\n",
    "[![processamento2](https://img.youtube.com/vi/8VwLb7M-5-g/hqdefault.jpg)](https://youtu.be/8VwLb7M-5-g \"processamento2\") \n",
    "\n",
    "\n",
    "[![Claudio](https://img.youtube.com/vi/FpwnULY_d-0/hqdefault.jpg)](https://youtu.be/FpwnULY_d-0 \"Claudio\") \n",
    "\n",
    "[![Claudio](https://img.youtube.com/vi/oS45-QJ_hE8/hqdefault.jpg)](https://youtu.be/oS45-QJ_hE8 \"Claudio\") \n",
    "\n",
    "[![Claudio](https://img.youtube.com/vi/Yf0xmAUUo9Y/hqdefault.jpg)](https://youtu.be/Yf0xmAUUo9Y \"Claudio\") \n",
    "\n",
    "* Baixe o material [A REVOLUÇÃO DOS DADOS:ENTENDA OS PRINCIPAIS CONCEITOS POR TRÁS DO BIG DATA](https://materiais.ilegra.com/revolucao-dados)\n",
    "\n",
    "* Leia o artigo [Why Andrew Ng favours data-centric systems over model-centric systems](https://analyticsindiamag.com/why-andrew-ng-favours-data-centric-systems-over-model-centric-systems/)    \n",
    "\n",
    "* Explore o github [Docker, deploy de modelos e Ciência dos Dados](https://github.com/KattsonBastos/docker-model-deployment)   \n",
    "\n",
    "* Leia o artigo **Docker, deploy de modelos e Ciência dos Dados** [Parte 0/3](https://medium.com/@kattsonbastos/docker-deploy-de-modelos-e-ci%C3%AAncia-dos-dados-parte-0-3-do-ciclo-de-vida-de-desenvolvimento-de-9b40f7733002), [Parte 1/3](https://medium.com/@kattsonbastos/docker-deploy-de-modelos-e-ci%C3%AAncia-dos-dados-parte-1-3-servindo-nosso-modelo-com-python-e-flask-f3b0c6b32056), [Parte 2/3](https://medium.com/@kattsonbastos/docker-deploy-de-modelos-e-ci%C3%AAncia-dos-dados-parte-2-3-o-que-s%C3%A3o-containers-e-como-2aa64666c557)\n",
    "\n",
    "* Explore os projetos:\n",
    "\n",
    "    - [BENTOML](https://github.com/bentoml/BentoML);\n",
    "    - [TensorFlow Extended (TFX)](https://www.tensorflow.org/tfx?hl=pt-br);\n",
    "    - [Kuberflow](https://www.kubeflow.org/);\n",
    "    \n",
    "* Explore o portal [Identificar princípios e práticas para o uso responsável da IA](https://docs.microsoft.com/pt-br/learn/paths/responsible-ai-business-principles/?wt.mc_id=msftsource_issue24link2_email_gdc&?ocid=eml_pg272287_gdc_comm_az&mkt_tok=MTU3LUdRRS0zODIAAAF822QtVZFW9nFMl2MYt9sJsov7ulVKPALmS5PEoZc81LUr8sFAZBj52rFNrKN0vjubAKfyDFBi6VveSAe7eceXqby5IYqqL-X8wPAQxwEHZraI7zIFq8JlPl8)  \n",
    "\n",
    "- Leia o artigo [Towards CRISP-ML(Q): A Machine Learning Process Model with Quality Assurance Methodology](https://arxiv.org/abs/2003.05155)  \n",
    "\n",
    "* Explore a Playlist do [Itau Data Science Meetup ](https://www.youtube.com/playlist?list=PL34w81iXr8CtgkVTr-ij7Tthv5Y0Qe6jJ)\n",
    "\n",
    "# O Futuro do Trabalho: 10 habilidades que vão estar em alta até 2025\n",
    "\n",
    "Segundo o relatório [Future of Jobs: The top 10 skills to be developed by 2025](http://www3.weforum.org/docs/WEF_Future_of_Jobs_2020.pdf), do Fórum Econômico Mundial, **Criatividade** é a 5ª principal habilidade que estará em alta até 2025. \n",
    "\n",
    "# Criatividade\n",
    "\n",
    "* Pesquise no artigo [COMPETÊNCIAS RELEVANTES PARA O PROFISSIONAL DO FUTURO - COMPETÊNCIAS LISTADAS PELO RELATÓRIO “THE FUTURE OF JOB” DO FÓRUM ECONÔMICO MUNDIAL E A PREVISÃO DE FUTURO DE YUVAL HARARI](https://semanaacademica.com.br/artigo/competencias-relevantes-para-o-profissional-do-futuro-competencias-listadas-pelo-relatorio-do) e no e-book [O Guia Definitivo das Competências](https://conteudo.qulture.rocks/o-guia-definitivo-das-competencias?tipo=ebooks) sobre **criatividade**.\n",
    "\n",
    "* Qual a relação entre **criatividade** e **inovação**?\n",
    "\n",
    "   - Assista aos vídeos ...\n",
    "\n",
    "[![Criatividade](https://img.youtube.com/vi/OVza8jdMXXo/hqdefault.jpg)](https://youtu.be/OVza8jdMXXo?t=40 \"Criatividade | Nerdologia Ensina 10\")   \n",
    "\n",
    "[![Criatividade](https://img.youtube.com/vi/4B4qo7ebBTY/hqdefault.jpg)](https://youtu.be/4B4qo7ebBTY \"O que é criatividade - Prof. Ilíada de Castro\")   \n",
    "\n",
    "* Em que quadrantes você quer estar?\n",
    "\n",
    "   - Assista ao TED Talks [How AI can save our humanity](https://www.ted.com/talks/kai_fu_lee_how_ai_can_save_our_humanity) com Kai-Fu Lee e veja como a **criatividade** pode nos salvar!\n",
    "\n",
    "[<center><img src=\"images/IA_vaiTirarEmpregos.png\"></center>](https://www.ted.com/talks/kai_fu_lee_how_ai_can_save_our_humanity) \n",
    "\n",
    "# Gosta de livros\n",
    "[Engenharia MLOps - Crie, teste e gerencie rapidamente ciclos de vida de Machine Learning prontos para produção em grande escala - Emmanuel Raj](https://clouddamcdnprodep.azureedge.net/gdc/gdcuW4G8i/original?ocid=eml_pg301568_gdc_comm_az&mkt_tok=MTU3LUdRRS0zODIAAAGCNjBU5tU_URrR9bszwQ1Gf8ULf3vXiYcSeo5SGyzo8-YxKnwLmdiwRBMta-WkS5XZgN0jbyTX1NfEM6JXO1t1LZZfatg30gLaIxpU2-PhqkUvL42dWmNPeZ0)"
   ]
  },
  {
   "cell_type": "markdown",
   "metadata": {},
   "source": [
    "Qualquer dúvida, poste no fórum da disciplina.\n",
    "### Te vejo na mentoria!"
   ]
  }
 ],
 "metadata": {
  "kernelspec": {
   "display_name": "Python 3 (ipykernel)",
   "language": "python",
   "name": "python3"
  },
  "language_info": {
   "codemirror_mode": {
    "name": "ipython",
    "version": 3
   },
   "file_extension": ".py",
   "mimetype": "text/x-python",
   "name": "python",
   "nbconvert_exporter": "python",
   "pygments_lexer": "ipython3",
   "version": "3.8.10"
  },
  "rise": {
   "autolaunch": true,
   "enable_chalkboard": true,
   "progress": true,
   "scroll": true,
   "slideNumber": true
  }
 },
 "nbformat": 4,
 "nbformat_minor": 4
}
