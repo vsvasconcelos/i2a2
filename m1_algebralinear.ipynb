{
 "cells": [
  {
   "cell_type": "markdown",
   "metadata": {},
   "source": [
    "[<center><img src=\"images/Logo_I2A2.webp\"></center>](https://www.i2a2.ca/)         \n",
    "Rev 11"
   ]
  },
  {
   "cell_type": "markdown",
   "metadata": {
    "slideshow": {
     "slide_type": "slide"
    }
   },
   "source": [
    "# Módulo 1 "
   ]
  },
  {
   "cell_type": "markdown",
   "metadata": {},
   "source": [
    "## Aula 3: Álgebra linear\n",
    "\n",
    "**Objetivos**: Revisitar os conceitos de álgebra linear e suas aplicações em Inteligência Artificial."
   ]
  },
  {
   "cell_type": "markdown",
   "metadata": {},
   "source": [
    "Este material o auxiliará nas sessões de autoestudo, contudo, fique à vontade para consultar outras fontes de informações, mas nunca deixe de citá-las."
   ]
  },
  {
   "cell_type": "markdown",
   "metadata": {},
   "source": [
    "<img src=\"https://cdn.dicionariopopular.com/imagens/nazareconfusamatematica.gif\"/>"
   ]
  },
  {
   "cell_type": "markdown",
   "metadata": {},
   "source": [
    "# O que é um vetor?\n",
    "* Sua primeira tarefa é entender o conceito de **vetor**.       \n",
    "\n",
    "    * Assista o vídeo abaixo ...\n",
    "[![Introdução aos vetores para a álgebra linear.](https://img.youtube.com/vi/Y0ZyUhi0khY/hqdefault.jpg)](https://youtu.be/Y0ZyUhi0khY \"Introdução aos vetores para a álgebra linear.\")"
   ]
  },
  {
   "cell_type": "markdown",
   "metadata": {},
   "source": [
    "   * Aproveite para explorar o [khanacademy](https://pt.khanacademy.org/math/linear-algebra/vectors-and-spaces) sobre Álgebra linear."
   ]
  },
  {
   "cell_type": "markdown",
   "metadata": {},
   "source": [
    "# Medidas de Distância - similaridade e dissimilaridade\n",
    "\n",
    "Pesquise livremente por:\n",
    "- Distância euclidiana;\n",
    "- Distância manhattan;\n",
    "- Similaridade cosseno.\n",
    "\n",
    "**Ah! não esqueça de citar as fontes consultadas.**\n"
   ]
  },
  {
   "cell_type": "markdown",
   "metadata": {},
   "source": [
    "# Matriz\n",
    "\n",
    "* Lembra das aulas de matrizes?        \n",
    "\n",
    "   * Veja o vídeo abaixo para refrescar alguns conceitos:\n",
    "[![Matrizes e Determinantes](https://img.youtube.com/vi/r1o7RryS8WM/hqdefault.jpg)](https://youtu.be/r1o7RryS8WM \"Matrizes e Determinantes\")    \n",
    "\n",
    "\n",
    "   * Fundamentos Matemáticos para Computação - Matrizes \n",
    "[![FundMat](https://img.youtube.com/vi/CqWPZH-MvaU/hqdefault.jpg)](https://youtu.be/CqWPZH-MvaU \"FundMat\")"
   ]
  },
  {
   "cell_type": "markdown",
   "metadata": {},
   "source": [
    "# Vetores, Matrizes e NLP\n",
    "\n",
    "Já ouviu falar em [Processamento de Língua Natural](https://www.youtube.com/watch?v=NBqDzewxJDo&list=PLt2qoMeOJsQyAklWpREY5ivAUe3jrrR21&index=1)? \n",
    "\n",
    "Tem ideia de como vetores e matrizes são utilizadas em NLP? \n",
    "\n",
    "Veja os vídeos abaixo e tente compreender isto:\n",
    "[![Representação Vetorial de Textos](https://img.youtube.com/vi/6v7Zjdpwj4c/hqdefault.jpg)](https://youtu.be/6v7Zjdpwj4c \"Representação Vetorial de Textos\")\n",
    "\n",
    "[![Word2Vec](https://img.youtube.com/vi/1mn4DW2f6y4/hqdefault.jpg)](https://youtu.be/1mn4DW2f6y4 \"Word2Vec\")\n",
    "\n",
    "\n",
    "* Assista o vídeo abaixo, não se preocupe ainda com os detalhes, depois explore este [site](https://projector.tensorflow.org/)\n",
    "\n",
    "[![Word2Vec](https://img.youtube.com/vi/-0G-2_vpVAI/hqdefault.jpg)](https://youtu.be/-0G-2_vpVAI \"Word2Vec\")\n"
   ]
  },
  {
   "cell_type": "markdown",
   "metadata": {},
   "source": [
    "# Matrizes e Redução da dimensionalidade\n",
    "\n",
    "Já ouviu falar na **maldição da dimensionalidade**?     \n",
    "\n",
    "Assista o vídeo abaixo para compreender isto!\n",
    "\n",
    "[<center><img src=\"images/dimencionalidade.png\"></center>](https://eaulas.usp.br/portal/embed-video?idItem=9667&autostart=false)\n",
    "\n",
    "Assista agora o vídeo [Análise de Componentes Principais](https://eaulas.usp.br/portal/embed-video?idItem=9660&autostart=false) e entenda o que é o **PCA**."
   ]
  },
  {
   "cell_type": "markdown",
   "metadata": {},
   "source": [
    "# Autovetores e Autovalores \n",
    "\n",
    "Assista aos vídeos abaixo ...\n",
    "[![Word2Vec](https://img.youtube.com/vi/PFDu9oVAE-g/hqdefault.jpg)](https://youtu.be/PFDu9oVAE-g \"Autovetores e autovalores | A essência da Álgebra Linear, capítulo 10\")\n",
    "\n",
    "[The applications of eigenvectors and eigenvalues | That thing you heard in Endgame has other uses](https://youtu.be/i8FukKfMKCI)"
   ]
  },
  {
   "cell_type": "markdown",
   "metadata": {},
   "source": [
    "# O que são Tensores?\n",
    "\n",
    "Assista aos vídeos abaixo ...\n",
    "[![tensores](https://img.youtube.com/vi/f5liqUk0ZTw/hqdefault.jpg)](https://youtu.be/f5liqUk0ZTw \"What's a Tensor?\")\n",
    "\n",
    "[![tensores](https://img.youtube.com/vi/bXKTeKtxmsI/hqdefault.jpg)](https://youtu.be/bXKTeKtxmsI \"O que é um tensor? \")\n"
   ]
  },
  {
   "cell_type": "markdown",
   "metadata": {},
   "source": [
    "# Desafios\n",
    "\n",
    "Você sabe o que é um [jupyter notebook](https://www.fschuch.com/blog/2021/01/22/jupyter-notebook-como-uma-poderosa-ferramenta-educacional/)?     \n",
    "\n",
    "No módulo 2, entraremos em detalhes sobre essa poderosa ferramenta; aqui a ideia é você simplesmente utilizar estes notebooks em um ambiente de nuvem (cloud) sem se preocupar com os detalhes de instalação.\n",
    "\n",
    "Abaixo temos 3 notebooks com aplicações de álgebra linear, eles serão executados no ambiente de nuvem Binder. Após você clicar no botão, o sistema Binder alocará um ambiente jupyter notebook na nuvem para você - isto demora alguns minutos.\n",
    "\n",
    "\n",
    "* Veja no vídeo abaixo o que faz o Jupyter Notebook?\n",
    "[![Jupyter Notebook](https://img.youtube.com/vi/CFJaCB_K5bo/hqdefault.jpg)](https://youtu.be/CFJaCB_K5bo \"o que faz o Jupyter Notebook?\")   \n",
    "\n",
    "* Veja agora como utilizar o Jupyter Notebook\n",
    "[![Jupyter Notebook](https://img.youtube.com/vi/dPb4acFiaYs/hqdefault.jpg)](https://youtu.be/dPb4acFiaYs?t=173 \"COMO UTILIZAR O JUPYTER NOTEBOOK?\")   \n",
    "\n",
    "\n",
    "- Ambiente 1: Álgebra Linear com Python: uma breve introdução. Adaptado de https://github.com/ronissonlucas\n",
    "\n",
    "\n",
    "Clique no botão abaixo para executar este notebook no myBinder\n",
    "\n",
    "[![Binder](https://mybinder.org/badge_logo.svg)](https://mybinder.org/v2/gh/vsvasconcelos/i2a2/main?filepath=Algebra_Linear.ipynb)\n",
    "\n",
    "- Ambiente 2: Algebra Linear e NumPy. Adaptado de https://github.com/storopoli\n",
    "\n",
    "Clique no botão abaixo para executar este notebook no myBinder\n",
    "[![Binder](https://mybinder.org/badge_logo.svg)](https://mybinder.org/v2/gh/storopoli/ciencia-de-dados/main?filepath=notebooks%2FAula_6_Numpy_Algebra_Linear.ipynb)\n",
    "\n",
    "- Ambiente 3: Linear Algebra with Python. Adaptado de https://github.com/datasciencescoop\n",
    "\n",
    "Clique no botão abaixo para executar este notebook no myBinder\n",
    "[![Binder](https://mybinder.org/badge_logo.svg)](https://mybinder.org/v2/gh/datasciencescoop/Linear-Algebra/master?filepath=Linear%20Algebra.ipynb)"
   ]
  },
  {
   "cell_type": "markdown",
   "metadata": {},
   "source": [
    "# Quer saber mais?\n",
    "Veja outros vídeos sobre PCA no portal [e-Aulas da USP](https://eaulas.usp.br/portal/video.action?idItem=9663)\n",
    "\n",
    "[![ICMC](https://img.youtube.com/vi/rUxde40GDdw/hqdefault.jpg)](https://youtu.be/rUxde40GDdw \"ICMC\")\n",
    "\n",
    "Assista ao **Essence of linear algebra** ...\n",
    "\n",
    "[<center><img src=\"images/landscape_sddefault.png\"></center>](https://www.youtube.com/playlist?list=PLZHQObOWTQDPD3MizzM2xVFitgF8hE_ab)\n",
    "\n",
    "Assista a playlist [Álgebra Linear - Prof. Fernanda Simon](https://youtube.com/playlist?list=PLxI8Can9yAHdUtWDKtTA9AmuICNyX9EIr)\n",
    "\n",
    "Assista a playlist [Geometria Analítica e Álgebra Linear](https://youtube.com/playlist?list=PLRkSiZvBNNy77c4QrtTJQ73wVgx9Ds0jq)   \n",
    "\n",
    "Faça o curso grátis **Eigenvectors and Eigenvalues** da [Udacity](https://www.udacity.com/course/eigenvectors-and-eigenvalues--ud104)\n",
    "\n",
    "Explore o material do curso [Mathematical Tools for Data Science](https://cds.nyu.edu/math-tools/)\n",
    "\n",
    "Explore a playlist **Math for Machine Learning**    \n",
    "\n",
    "[![Math for Machine Learning](https://img.youtube.com/vi/uZeDTwWcnuY/hqdefault.jpg)](https://www.youtube.com/watch?v=uZeDTwWcnuY&list=PLD80i8An1OEGZ2tYimemzwC3xqkU0jKUg \"Math for Machine Learning\")\n",
    "\n",
    "Explore a playlist [Cálculo Numérico para todos](https://www.youtube.com/playlist?list=PLH9knZH6lcgrCjPt7ouHphjuYvuzBfa3U) do prof. [Anibal Azevedo](https://sites.google.com/view/projetoclculonumricoparatodos/in%C3%ADcio)\n",
    "\n",
    "Explore a playlist [MIT A 2020 Vision of Linear Algebra, Spring 2020](https://www.youtube.com/watch?v=YrHlHbtiSM0&list=PLUl4u3cNGP61iQEFiWLE21EJCxwmWvvek) do prof. Gilbert Strang\n",
    "\n",
    "Explore a playlist [MIT 18.06SC Linear Algebra, Fall 2011](https://www.youtube.com/watch?v=PL221E2BBF13BECF6C&list=PL221E2BBF13BECF6C) do prof. Gilbert Strang\n",
    "\n",
    "Leia o artigo [Data Compression via Dimensionality Reduction: 3 Main Methods](https://www.kdnuggets.com/2020/12/data-compression-dimensionality-reduction.html)  \n",
    "\n",
    "[What is an Eigenvector?](https://youtu.be/ue3yoeZvt8E)\n",
    "\n",
    "Explore a playlist [MAT3457 - Álgebra Linear 1](https://www.youtube.com/watch?v=-JcQJFNVjaA) do Prof. Dr. Claudio Possani, do IME-USP\n",
    "\n",
    "# O Futuro do Trabalho: 10 habilidades que vão estar em alta até 2025\n",
    "\n",
    "Segundo o relatório [Future of Jobs: The top 10 skills to be developed by 2025](http://www3.weforum.org/docs/WEF_Future_of_Jobs_2020.pdf), do Fórum Econômico Mundial, **aprendizagem ativa e estratégias de aprendizado** é a 2ª principal habilidade que estará em alta até 2025.   \n",
    "\n",
    "## Aprendizagem ativa e estratégias de aprendizado\n",
    "\n",
    "* Pesquise no artigo [COMPETÊNCIAS RELEVANTES PARA O PROFISSIONAL DO FUTURO - COMPETÊNCIAS LISTADAS PELO RELATÓRIO “THE FUTURE OF JOB” DO FÓRUM ECONÔMICO MUNDIAL E A PREVISÃO DE FUTURO DE YUVAL HARARI](https://semanaacademica.com.br/artigo/competencias-relevantes-para-o-profissional-do-futuro-competencias-listadas-pelo-relatorio-do) sobre **aprendizagem ativa e estratégias de aprendizado**. \n",
    "\n",
    "\n",
    "* Pesquise sobre:\n",
    "\n",
    "    - Lifelong learning;\n",
    "    - Aprendizagem baseada em problemas (Problem Based Learning - PBL);\n",
    "    - Sala de aula invertida;\n",
    "    - Método do caso x Estudo de Caso.\n",
    "\n",
    "\n",
    "# Para saber mais\n",
    "* Assista aos vídeos: \n",
    "\n",
    "    - Mentalidade de Desenvolvimento Contínuo - Leandro Karnal - PUC-RS\n",
    "[![Lifelong learning](https://img.youtube.com/vi/DbFleplwqho/hqdefault.jpg)](https://youtu.be/DbFleplwqho \"Lifelong learning PUC-RS\")   \n",
    "\n",
    "    - Eu sou um presentista | Conrado Schlochauer | TEDxPinheiros \n",
    "[![Lifelong learning](https://img.youtube.com/vi/_wfpqGBTad8/hqdefault.jpg)](https://youtu.be/_wfpqGBTad8 \"Lifelong learning Conrado Schlochauer \") \n",
    "\n",
    "\n",
    "   - Aprendizagem Baseada em Problemas - USP-Lest \n",
    "[![PBL USP-Lest](https://img.youtube.com/vi/YhB44GtyNhI/hqdefault.jpg)](https://youtu.be/YhB44GtyNhI \"PBL USP-Lest\")   \n",
    "\n",
    "   - Neuroplasticidade com a Doutora Lara Boyd \n",
    "[![PBL USP-Lest](https://img.youtube.com/vi/7BQtaFQqDTg/hqdefault.jpg)](https://youtu.be/7BQtaFQqDTg \"Neuroplasticidade\")\n",
    "\n",
    "* Leia a série de artigos [Mathematics for Deep Learning](https://medium.com/@hevansviniciuspereira/mathematics-for-deep-learning-part-1-738baced16b0)\n",
    "\n",
    "* [Playlist de IA da Univesp](https://www.youtube.com/playlist?list=PLxI8Can9yAHfY4b6dAzpH5_Z-gz4wM-Jq)\n",
    "\n",
    "\n",
    "\n",
    "\n",
    "\n",
    "\n",
    "\n",
    "\n",
    "# Gosta de livros   \n",
    "\n",
    "[Introduction to Applied Linear Algebra – Vectors, Matrices, and Least Squares - Stephen Boyd and Lieven Vandenberghe](https://web.stanford.edu/~boyd/vmls/)\n",
    "\n",
    "[Encyclopedia of Distances - Michel Marie Deza e Elena Deza](https://mineracaodedados.files.wordpress.com/2012/06/encyclopedia-of-distances-michel-marie-deza-elena-deza.pdf)\n",
    "\n",
    "[Cap. 18 - Mathematics for Deep Learning](https://d2l.ai/chapter_appendix-mathematics-for-deep-learning/index.html) do livro [Dive into Deep Learning](https://d2l.ai/index.html)"
   ]
  },
  {
   "cell_type": "markdown",
   "metadata": {},
   "source": [
    "Qualquer dúvida, poste no fórum da disciplina.\n",
    "### Te vejo na mentoria!"
   ]
  }
 ],
 "metadata": {
  "kernelspec": {
   "display_name": "Python 3",
   "language": "python",
   "name": "python3"
  },
  "language_info": {
   "codemirror_mode": {
    "name": "ipython",
    "version": 3
   },
   "file_extension": ".py",
   "mimetype": "text/x-python",
   "name": "python",
   "nbconvert_exporter": "python",
   "pygments_lexer": "ipython3",
   "version": "3.8.10"
  },
  "rise": {
   "autolaunch": true,
   "enable_chalkboard": true,
   "progress": true,
   "scroll": true,
   "slideNumber": true
  }
 },
 "nbformat": 4,
 "nbformat_minor": 4
}
