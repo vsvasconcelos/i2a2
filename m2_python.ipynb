{
 "cells": [
  {
   "cell_type": "markdown",
   "metadata": {
    "slideshow": {
     "slide_type": "slide"
    }
   },
   "source": [
    "[<center><img src=\"images/Logo_I2A2.webp\"></center>](https://www.i2a2.academy/)         \n",
    "**Rev 10**"
   ]
  },
  {
   "cell_type": "markdown",
   "metadata": {
    "slideshow": {
     "slide_type": "skip"
    }
   },
   "source": [
    "# Módulo 2"
   ]
  },
  {
   "cell_type": "markdown",
   "metadata": {
    "slideshow": {
     "slide_type": "slide"
    }
   },
   "source": [
    "## Aula 1 - Parte 1: Visão geral de Python\n",
    "\n",
    "**Objetivos**: Apresentar uma visão geral da linguagem Python."
   ]
  },
  {
   "cell_type": "markdown",
   "metadata": {
    "slideshow": {
     "slide_type": "subslide"
    }
   },
   "source": [
    "Este material o auxiliará nas sessões de autoestudo, contudo, fique à vontade para consultar outras fontes de informações, mas nunca deixe de citá-las."
   ]
  },
  {
   "cell_type": "markdown",
   "metadata": {
    "slideshow": {
     "slide_type": "slide"
    }
   },
   "source": [
    "[<center><img src=\"images/excel-meme-dr-evil.webp\"></center>](https://www.r-bloggers.com/2021/05/macros-in-the-shell-integrating-that-spreadsheet-from-finance-into-a-data-pipeline/)         "
   ]
  },
  {
   "cell_type": "markdown",
   "metadata": {
    "slideshow": {
     "slide_type": "subslide"
    }
   },
   "source": [
    "## Python\n",
    "\n",
    "A linguagem de programação python é desde outubro de 2021 a [mais popular](https://www.tiobe.com/tiobe-index/) no mundo das linguagens de programação"
   ]
  },
  {
   "cell_type": "markdown",
   "metadata": {
    "slideshow": {
     "slide_type": "slide"
    }
   },
   "source": [
    "<center><img src=\"images/pythonSuperaJava.png\"></center>"
   ]
  },
  {
   "cell_type": "markdown",
   "metadata": {
    "slideshow": {
     "slide_type": "slide"
    }
   },
   "source": [
    "## Python no Excel :)\n",
    "[<center><img src=\"images/python_excell.png\" width=\"50%\"></center>](https://vimeo.com/856872267)         "
   ]
  },
  {
   "cell_type": "markdown",
   "metadata": {
    "jp-MarkdownHeadingCollapsed": true,
    "slideshow": {
     "slide_type": "subslide"
    }
   },
   "source": [
    "## [Introdução ao python no excel](https://support.microsoft.com/pt-br/office/introdu%C3%A7%C3%A3o-ao-python-no-excel-55643c2e-ff56-4168-b1ce-9428c8308545)"
   ]
  },
  {
   "cell_type": "markdown",
   "metadata": {
    "slideshow": {
     "slide_type": "slide"
    }
   },
   "source": [
    "# Visão geral da linguagem python\n",
    "\n",
    "[![Visao Geral Python](https://img.youtube.com/vi/BusHZHlRS2k/hqdefault.jpg)](https://youtu.be/BusHZHlRS2k \"Visao Geral Python\")   \n",
    "- Criada 1991 pelo Holandes Guido van Rossum  \n",
    "- [Perguntas Frequentes Sobre Python](https://wiki.python.org.br/PerguntasFrequentes/SobrePython)"
   ]
  },
  {
   "cell_type": "markdown",
   "metadata": {
    "slideshow": {
     "slide_type": "slide"
    }
   },
   "source": [
    "# Preparando o seu Ambiente\n",
    "\n",
    "[![ambiente](https://img.youtube.com/vi/ln4gqk6dS8E/hqdefault.jpg)](https://youtu.be/ln4gqk6dS8E \"ambiente\")"
   ]
  },
  {
   "cell_type": "markdown",
   "metadata": {
    "slideshow": {
     "slide_type": "subslide"
    }
   },
   "source": [
    "## Instando o python"
   ]
  },
  {
   "cell_type": "markdown",
   "metadata": {
    "slideshow": {
     "slide_type": "slide"
    }
   },
   "source": [
    "[<center><img src=\"images/python.png\" width=\"60%\"></center>](https://www.python.org/)   "
   ]
  },
  {
   "cell_type": "markdown",
   "metadata": {
    "slideshow": {
     "slide_type": "slide"
    }
   },
   "source": [
    "## Instalando o Anaconda"
   ]
  },
  {
   "cell_type": "markdown",
   "metadata": {
    "slideshow": {
     "slide_type": "slide"
    }
   },
   "source": [
    "[<center><img src=\"images/Anaconda.png\" width=\"60%\"></center>](https://www.anaconda.com/download)   "
   ]
  },
  {
   "cell_type": "markdown",
   "metadata": {
    "slideshow": {
     "slide_type": "slide"
    }
   },
   "source": [
    "## Gerenciando Pacotes"
   ]
  },
  {
   "cell_type": "markdown",
   "metadata": {
    "slideshow": {
     "slide_type": "slide"
    }
   },
   "source": [
    "<center><img src=\"images/condapip.png\" width=\"50%\"></center>"
   ]
  },
  {
   "cell_type": "markdown",
   "metadata": {
    "slideshow": {
     "slide_type": "slide"
    }
   },
   "source": [
    "## Resumindo"
   ]
  },
  {
   "cell_type": "markdown",
   "metadata": {
    "slideshow": {
     "slide_type": "subslide"
    }
   },
   "source": [
    "<center><img src=\"images/condapip2.png\" width=\"60%\"></center>   \n",
    "- IDE (Integrated Development Environment)"
   ]
  },
  {
   "cell_type": "markdown",
   "metadata": {
    "slideshow": {
     "slide_type": "slide"
    }
   },
   "source": [
    "# Ambientes Virtuais"
   ]
  },
  {
   "cell_type": "markdown",
   "metadata": {
    "slideshow": {
     "slide_type": "slide"
    }
   },
   "source": [
    "[![ambientevirtual](https://img.youtube.com/vi/ciFdSA8b2qw/hqdefault.jpg)](https://youtu.be/ciFdSA8b2qw \"Ambiente Virtual\")   \n",
    "- Utilizado para controle de dependências e isolamento de projetos"
   ]
  },
  {
   "cell_type": "markdown",
   "metadata": {
    "slideshow": {
     "slide_type": "slide"
    }
   },
   "source": [
    "## Instalação\n",
    "        > sudo apt install virtualenv | pip install virtualenv (Linux)\n",
    "        > pip install virtualenv (Windows)"
   ]
  },
  {
   "cell_type": "markdown",
   "metadata": {
    "slideshow": {
     "slide_type": "slide"
    }
   },
   "source": [
    "## Criação\n",
    "        > virtualenv nome_da_virtualenv  \n",
    "    \n",
    "**Dica:** O mais comum é criar a virtualenv na raiz do projeto no qual ela irá pertencer."
   ]
  },
  {
   "cell_type": "markdown",
   "metadata": {
    "slideshow": {
     "slide_type": "slide"
    }
   },
   "source": [
    "## Ativação\n",
    "        > source nome_da_virtualenv/bin/activate (Linux)\n",
    "        > nome_da_virtualenv/Scripts/Activate (Windows)  \n",
    "**Dica:** Necessário estar na pasta raiz no qual o ambiente foi criado;     \n",
    "**Detalhe:** Quando o ambiente é ativado, no prompt de comando do console aparece entre parentes o nome do ambiente, ex.: (nome_da_virtualenv)"
   ]
  },
  {
   "cell_type": "markdown",
   "metadata": {
    "slideshow": {
     "slide_type": "slide"
    }
   },
   "source": [
    "## Desativação\n",
    "        > deactivate\n",
    "**Dica:** Necessário estar na pasta raiz no qual o ambiente foi criado"
   ]
  },
  {
   "cell_type": "markdown",
   "metadata": {
    "slideshow": {
     "slide_type": "slide"
    }
   },
   "source": [
    "# Mão na massa"
   ]
  },
  {
   "cell_type": "markdown",
   "metadata": {
    "slideshow": {
     "slide_type": "slide"
    }
   },
   "source": [
    "Na próxima aula entraremos em detalhes sobre o **Jupyter Notebook**, a ideia aqui é você simplesmente utilizar este notebook em um ambiente de nuvem (Binder) sem se preocupar com os detalhes de instalação - da mesma forma que você fez nos desafios da aula 3 do módulo 1.\n",
    "\n",
    "Após você clicar no botão abaixo, o sistema Binder alocará um ambiente jupyter notebook na nuvem para você - isto demora alguns minutos.\n",
    "\n",
    "[![Binder](https://mybinder.org/badge_logo.svg)](https://mybinder.org/v2/gh/vsvasconcelos/i2a2/main?filepath=m2_python.ipynb)"
   ]
  },
  {
   "cell_type": "markdown",
   "metadata": {
    "slideshow": {
     "slide_type": "slide"
    }
   },
   "source": [
    "# Variáveis\n",
    "\n",
    "   - São elementos que armazenan uma informação para uso posterior\n",
    "\n",
    "[Pense em Python](https://penseallen.github.io/PensePython2e/02-vars-expr-instr.html)   \n",
    "Assista o vídeo abaixo e vá executando as células deste notebook conforme a sequência do vídeo:"
   ]
  },
  {
   "cell_type": "markdown",
   "metadata": {
    "slideshow": {
     "slide_type": "slide"
    }
   },
   "source": [
    "[![valores e tipos de valores](https://img.youtube.com/vi/UZ7_oudJ150/hqdefault.jpg)](https://youtu.be/UZ7_oudJ150 \"valores e tipos de valores\")"
   ]
  },
  {
   "cell_type": "code",
   "execution_count": null,
   "metadata": {
    "slideshow": {
     "slide_type": "subslide"
    }
   },
   "outputs": [],
   "source": [
    "type(10)"
   ]
  },
  {
   "cell_type": "code",
   "execution_count": null,
   "metadata": {
    "slideshow": {
     "slide_type": "subslide"
    }
   },
   "outputs": [],
   "source": [
    "type(\"tudo bem\")"
   ]
  },
  {
   "cell_type": "code",
   "execution_count": null,
   "metadata": {
    "slideshow": {
     "slide_type": "subslide"
    }
   },
   "outputs": [],
   "source": [
    "10/3"
   ]
  },
  {
   "cell_type": "code",
   "execution_count": null,
   "metadata": {
    "slideshow": {
     "slide_type": "subslide"
    }
   },
   "outputs": [],
   "source": [
    "type(5/2)"
   ]
  },
  {
   "cell_type": "code",
   "execution_count": null,
   "metadata": {
    "slideshow": {
     "slide_type": "subslide"
    }
   },
   "outputs": [],
   "source": [
    "10//3"
   ]
  },
  {
   "cell_type": "code",
   "execution_count": null,
   "metadata": {
    "slideshow": {
     "slide_type": "subslide"
    }
   },
   "outputs": [],
   "source": [
    "10%3"
   ]
  },
  {
   "cell_type": "code",
   "execution_count": null,
   "metadata": {
    "slideshow": {
     "slide_type": "subslide"
    }
   },
   "outputs": [],
   "source": [
    "peso=93\n",
    "altura=1.79\n",
    "IMC=peso/(altura**2)\n",
    "IMC"
   ]
  },
  {
   "cell_type": "code",
   "execution_count": null,
   "metadata": {
    "slideshow": {
     "slide_type": "subslide"
    }
   },
   "outputs": [],
   "source": [
    "type(IMC)"
   ]
  },
  {
   "cell_type": "code",
   "execution_count": null,
   "metadata": {
    "slideshow": {
     "slide_type": "subslide"
    }
   },
   "outputs": [],
   "source": [
    "IMCInteiro=int(IMC)\n",
    "IMCInteiro"
   ]
  },
  {
   "cell_type": "code",
   "execution_count": null,
   "metadata": {
    "slideshow": {
     "slide_type": "subslide"
    }
   },
   "outputs": [],
   "source": [
    "type(IMCInteiro)"
   ]
  },
  {
   "cell_type": "code",
   "execution_count": null,
   "metadata": {
    "slideshow": {
     "slide_type": "subslide"
    }
   },
   "outputs": [],
   "source": [
    "texto=\"Bom dia, tudo bem?\""
   ]
  },
  {
   "cell_type": "code",
   "execution_count": null,
   "metadata": {
    "slideshow": {
     "slide_type": "subslide"
    }
   },
   "outputs": [],
   "source": [
    "len(texto)"
   ]
  },
  {
   "cell_type": "code",
   "execution_count": null,
   "metadata": {
    "slideshow": {
     "slide_type": "subslide"
    }
   },
   "outputs": [],
   "source": [
    "len(IMC)"
   ]
  },
  {
   "cell_type": "markdown",
   "metadata": {
    "slideshow": {
     "slide_type": "subslide"
    }
   },
   "source": [
    "Deu erro, certo?    \n",
    "Tente identificar qual problema temos aqui?"
   ]
  },
  {
   "cell_type": "code",
   "execution_count": null,
   "metadata": {
    "slideshow": {
     "slide_type": "subslide"
    }
   },
   "outputs": [],
   "source": [
    "len(str(IMC))"
   ]
  },
  {
   "cell_type": "markdown",
   "metadata": {
    "slideshow": {
     "slide_type": "slide"
    }
   },
   "source": [
    "Além dos tipos de variáveis apresentadas no vídeo, pesquise quais outros existem na linguagem Python?     \n",
    "## [Documentação Python](https://docs.python.org/pt-br/3/)"
   ]
  },
  {
   "cell_type": "markdown",
   "metadata": {
    "slideshow": {
     "slide_type": "slide"
    }
   },
   "source": [
    "# Tipos booleanos\n",
    "[![tipos booleanos e precedência de operadores](https://img.youtube.com/vi/sgfmuFRZuWs/hqdefault.jpg)](https://youtu.be/sgfmuFRZuWs \"tipos booleanos e precedência de operadores\")   "
   ]
  },
  {
   "cell_type": "code",
   "execution_count": null,
   "metadata": {
    "slideshow": {
     "slide_type": "subslide"
    }
   },
   "outputs": [],
   "source": [
    "5 > 3"
   ]
  },
  {
   "cell_type": "code",
   "execution_count": null,
   "metadata": {
    "slideshow": {
     "slide_type": "subslide"
    }
   },
   "outputs": [],
   "source": [
    "18 == 9 * 2"
   ]
  },
  {
   "cell_type": "code",
   "execution_count": null,
   "metadata": {
    "slideshow": {
     "slide_type": "subslide"
    }
   },
   "outputs": [],
   "source": [
    "x = 12312\n",
    "x < 0"
   ]
  },
  {
   "cell_type": "code",
   "execution_count": null,
   "metadata": {
    "slideshow": {
     "slide_type": "subslide"
    }
   },
   "outputs": [],
   "source": [
    "type(False)"
   ]
  },
  {
   "cell_type": "code",
   "execution_count": null,
   "metadata": {
    "slideshow": {
     "slide_type": "subslide"
    }
   },
   "outputs": [],
   "source": [
    "type(x > 0)"
   ]
  },
  {
   "cell_type": "code",
   "execution_count": null,
   "metadata": {
    "slideshow": {
     "slide_type": "slide"
    }
   },
   "outputs": [],
   "source": [
    "x"
   ]
  },
  {
   "cell_type": "code",
   "execution_count": null,
   "metadata": {
    "slideshow": {
     "slide_type": "subslide"
    }
   },
   "outputs": [],
   "source": [
    "x > 0 and x **2 > 100"
   ]
  },
  {
   "cell_type": "code",
   "execution_count": null,
   "metadata": {
    "slideshow": {
     "slide_type": "subslide"
    }
   },
   "outputs": [],
   "source": [
    "x < 0 and x == 12312"
   ]
  },
  {
   "cell_type": "code",
   "execution_count": null,
   "metadata": {
    "slideshow": {
     "slide_type": "subslide"
    }
   },
   "outputs": [],
   "source": [
    "x < 0 or x == 12312"
   ]
  },
  {
   "cell_type": "code",
   "execution_count": null,
   "metadata": {
    "slideshow": {
     "slide_type": "subslide"
    }
   },
   "outputs": [],
   "source": [
    "x > 0"
   ]
  },
  {
   "cell_type": "code",
   "execution_count": null,
   "metadata": {
    "slideshow": {
     "slide_type": "subslide"
    }
   },
   "outputs": [],
   "source": [
    "not x > 0"
   ]
  },
  {
   "cell_type": "code",
   "execution_count": null,
   "metadata": {
    "slideshow": {
     "slide_type": "subslide"
    }
   },
   "outputs": [],
   "source": [
    "not False"
   ]
  },
  {
   "cell_type": "code",
   "execution_count": null,
   "metadata": {
    "slideshow": {
     "slide_type": "subslide"
    }
   },
   "outputs": [],
   "source": [
    "fizerSol = True\n",
    "forFeriado = False\n",
    "vouParaPraia = fizerSol and forFeriado\n",
    "vouParaPraia"
   ]
  },
  {
   "cell_type": "code",
   "execution_count": null,
   "metadata": {
    "slideshow": {
     "slide_type": "subslide"
    }
   },
   "outputs": [],
   "source": [
    "paitrocinio = False\n",
    "rolarPromocao = True\n",
    "vouAoShow = paitrocinio or rolarPromocao\n",
    "vouAoShow"
   ]
  },
  {
   "cell_type": "code",
   "execution_count": null,
   "metadata": {
    "slideshow": {
     "slide_type": "subslide"
    }
   },
   "outputs": [],
   "source": [
    "y = 50\n",
    "x > 0 and not y == 50 or x + y == 150"
   ]
  },
  {
   "cell_type": "markdown",
   "metadata": {
    "slideshow": {
     "slide_type": "slide"
    }
   },
   "source": [
    "# Operadores\n",
    "\n",
    "## Operadores Aritméticos\n",
    "\n",
    "* Soma `x + y`\n",
    "* Subtração `x - y`\n",
    "* Multiplicação `x * y`\n",
    "* Divisão `x / y`\n",
    "* Divisão desconsiderando a parte fracionária `x // y`\n",
    "* Resto de uma divisão `x % y`\n",
    "* Absoluto `abs(x)`\n",
    "* Converter para Inteiro `int(x)`\n",
    "* Converter para Real `float(x)`\n",
    "* Potência `x ** y`"
   ]
  },
  {
   "cell_type": "markdown",
   "metadata": {
    "slideshow": {
     "slide_type": "slide"
    }
   },
   "source": [
    "## Operadores Relacionais\n",
    "\n",
    "* Igual a: `x == y`\n",
    "* Maior que: `x > y`\n",
    "* Menor que: `x < y`\n",
    "* Maior ou igual a: `x >= y`\n",
    "* Menor ou igual a: `x <= y`\n",
    "* Diferente de: `x != y`"
   ]
  },
  {
   "cell_type": "markdown",
   "metadata": {
    "slideshow": {
     "slide_type": "slide"
    }
   },
   "source": [
    "# Precedência de Operadores\n",
    "\n",
    "[Pense em Python](https://penseallen.github.io/PensePython2e/02-vars-expr-instr.html)  "
   ]
  },
  {
   "cell_type": "markdown",
   "metadata": {
    "slideshow": {
     "slide_type": "subslide"
    }
   },
   "source": [
    "## Os Parênteses têm a precedência mais alta"
   ]
  },
  {
   "cell_type": "code",
   "execution_count": null,
   "metadata": {
    "slideshow": {
     "slide_type": "subslide"
    }
   },
   "outputs": [],
   "source": [
    "2 * (3-1)"
   ]
  },
  {
   "cell_type": "code",
   "execution_count": null,
   "metadata": {
    "slideshow": {
     "slide_type": "slide"
    }
   },
   "outputs": [],
   "source": [
    "(1+1)**(5-2)"
   ]
  },
  {
   "cell_type": "markdown",
   "metadata": {
    "slideshow": {
     "slide_type": "slide"
    }
   },
   "source": [
    "## A Exponenciação tem a próxima precedência mais alta"
   ]
  },
  {
   "cell_type": "code",
   "execution_count": null,
   "metadata": {
    "slideshow": {
     "slide_type": "subslide"
    }
   },
   "outputs": [],
   "source": [
    "1 + 2**3"
   ]
  },
  {
   "cell_type": "code",
   "execution_count": null,
   "metadata": {
    "slideshow": {
     "slide_type": "subslide"
    }
   },
   "outputs": [],
   "source": [
    "2 * 3**2"
   ]
  },
  {
   "cell_type": "markdown",
   "metadata": {
    "slideshow": {
     "slide_type": "slide"
    }
   },
   "source": [
    "## A Multiplicação e a Divisão têm precedência mais alta que a Adição e a Subtração"
   ]
  },
  {
   "cell_type": "code",
   "execution_count": null,
   "metadata": {
    "slideshow": {
     "slide_type": "subslide"
    }
   },
   "outputs": [],
   "source": [
    "2 * 3 - 1"
   ]
  },
  {
   "cell_type": "code",
   "execution_count": null,
   "metadata": {
    "slideshow": {
     "slide_type": "subslide"
    }
   },
   "outputs": [],
   "source": [
    "6 + 4 / 2"
   ]
  },
  {
   "cell_type": "markdown",
   "metadata": {
    "slideshow": {
     "slide_type": "slide"
    }
   },
   "source": [
    "## Os operadores com a mesma precedência são avaliados da esquerda para a direita"
   ]
  },
  {
   "cell_type": "code",
   "execution_count": null,
   "metadata": {
    "slideshow": {
     "slide_type": "subslide"
    }
   },
   "outputs": [],
   "source": [
    "2/2*2"
   ]
  },
  {
   "cell_type": "code",
   "execution_count": null,
   "metadata": {
    "slideshow": {
     "slide_type": "subslide"
    }
   },
   "outputs": [],
   "source": [
    "2/(2*2)"
   ]
  },
  {
   "cell_type": "markdown",
   "metadata": {
    "slideshow": {
     "slide_type": "slide"
    }
   },
   "source": [
    "# Lista e vetores\n",
    "\n",
    "Listas são estrutura de dados compostas por uma sequência de elementos (itens).   \n",
    "Os tipos podem ser de tipos varíados.  \n",
    "Podemos adicionar, remover ou alterar itens na lista de forma dinâmica.\n",
    "\n",
    "Em Python, uma lista é representada por uma sequência de itens, separados por vírgula e dentro de colchetes `[]`. Uma lista vazia é representada por colchetes sem nenhuma informação presente entre os colchetes."
   ]
  },
  {
   "cell_type": "markdown",
   "metadata": {
    "slideshow": {
     "slide_type": "slide"
    }
   },
   "source": [
    "[Pense em Python](https://penseallen.github.io/PensePython2e/10-listas.html)\n",
    "\n",
    "Assista o vídeo abaixo e executando as células deste notebook conforme a sequência do vídeo:\n",
    "\n",
    "[![Coleções (listas, vetores)](https://img.youtube.com/vi/krVca97F13I/hqdefault.jpg)](https://youtu.be/krVca97F13I \"Coleções (listas, vetores)\")"
   ]
  },
  {
   "cell_type": "code",
   "execution_count": null,
   "metadata": {
    "slideshow": {
     "slide_type": "subslide"
    }
   },
   "outputs": [],
   "source": [
    "lista_vazia = []"
   ]
  },
  {
   "cell_type": "code",
   "execution_count": null,
   "metadata": {
    "slideshow": {
     "slide_type": "subslide"
    }
   },
   "outputs": [],
   "source": [
    "lista_num = [1, 2, 3, 4, 5, 6]"
   ]
  },
  {
   "cell_type": "code",
   "execution_count": null,
   "metadata": {
    "slideshow": {
     "slide_type": "subslide"
    }
   },
   "outputs": [],
   "source": [
    "lista_mista = [1, 2, 'SANTOS', 4, 'com', 6, 'Você', True, None]  "
   ]
  },
  {
   "cell_type": "code",
   "execution_count": null,
   "metadata": {
    "slideshow": {
     "slide_type": "subslide"
    }
   },
   "outputs": [],
   "source": [
    "lista_mista[2]"
   ]
  },
  {
   "cell_type": "code",
   "execution_count": null,
   "metadata": {
    "slideshow": {
     "slide_type": "subslide"
    }
   },
   "outputs": [],
   "source": [
    "lista_mista[2]='Palmeiras'"
   ]
  },
  {
   "cell_type": "code",
   "execution_count": null,
   "metadata": {
    "slideshow": {
     "slide_type": "subslide"
    }
   },
   "outputs": [],
   "source": [
    "lista_mista[2]"
   ]
  },
  {
   "cell_type": "code",
   "execution_count": null,
   "metadata": {
    "slideshow": {
     "slide_type": "subslide"
    }
   },
   "outputs": [],
   "source": [
    "type(lista_mista)"
   ]
  },
  {
   "cell_type": "code",
   "execution_count": null,
   "metadata": {
    "slideshow": {
     "slide_type": "subslide"
    }
   },
   "outputs": [],
   "source": [
    "type(lista_mista[0])"
   ]
  },
  {
   "cell_type": "code",
   "execution_count": null,
   "metadata": {
    "slideshow": {
     "slide_type": "subslide"
    }
   },
   "outputs": [],
   "source": [
    "type(lista_mista[2])"
   ]
  },
  {
   "cell_type": "code",
   "execution_count": null,
   "metadata": {
    "slideshow": {
     "slide_type": "subslide"
    }
   },
   "outputs": [],
   "source": [
    "type(lista_mista[7])"
   ]
  },
  {
   "cell_type": "markdown",
   "metadata": {
    "slideshow": {
     "slide_type": "slide"
    }
   },
   "source": [
    "# Manipulação de listas\n",
    "\n",
    "[![Manipulação de listas)](https://img.youtube.com/vi/LrXapVI66so/hqdefault.jpg)](https://youtu.be/LrXapVI66so \"Coleções (Manipulação de listas)\")"
   ]
  },
  {
   "cell_type": "code",
   "execution_count": null,
   "metadata": {
    "slideshow": {
     "slide_type": "subslide"
    }
   },
   "outputs": [],
   "source": [
    "lista_mista"
   ]
  },
  {
   "cell_type": "code",
   "execution_count": null,
   "metadata": {
    "slideshow": {
     "slide_type": "subslide"
    }
   },
   "outputs": [],
   "source": [
    "# Fatiar\n",
    "lista_mista[1:3]"
   ]
  },
  {
   "cell_type": "code",
   "execution_count": null,
   "metadata": {
    "slideshow": {
     "slide_type": "subslide"
    }
   },
   "outputs": [],
   "source": [
    "# Comprimento \n",
    "len(lista_mista)"
   ]
  },
  {
   "cell_type": "code",
   "execution_count": null,
   "metadata": {
    "slideshow": {
     "slide_type": "subslide"
    }
   },
   "outputs": [],
   "source": [
    "# Adicionar elementos\n",
    "lista_mista.append('SP')"
   ]
  },
  {
   "cell_type": "code",
   "execution_count": null,
   "metadata": {
    "slideshow": {
     "slide_type": "subslide"
    }
   },
   "outputs": [],
   "source": [
    "len(lista_mista)"
   ]
  },
  {
   "cell_type": "markdown",
   "metadata": {
    "slideshow": {
     "slide_type": "slide"
    }
   },
   "source": [
    "# Matrizes\n",
    "\n",
    "\n",
    "[![Matrizes)](https://img.youtube.com/vi/c9yjwWNiNQw/hqdefault.jpg)](https://youtu.be/c9yjwWNiNQw \"Matrizes\")"
   ]
  },
  {
   "cell_type": "markdown",
   "metadata": {
    "slideshow": {
     "slide_type": "slide"
    }
   },
   "source": [
    "## Notação\n",
    "\n",
    "### Vetor\n",
    "Vetor $\\mathbf{v} \\in \\mathbb{R}^{m \\times n}$     "
   ]
  },
  {
   "cell_type": "markdown",
   "metadata": {
    "slideshow": {
     "slide_type": "slide"
    }
   },
   "source": [
    "Ex.: Vetor Coluna $\\mathbf{v} \\in \\mathbb{R}^{3 \\times 1}$\n",
    "$$\\mathbf{v} = \\left[\\begin{array}{l}{1} \\\\ {2} \\\\ {3}\\end{array}\\right]$$"
   ]
  },
  {
   "cell_type": "code",
   "execution_count": null,
   "metadata": {
    "slideshow": {
     "slide_type": "slide"
    }
   },
   "outputs": [],
   "source": [
    "# Importando a biblioteca numpy\n",
    "import numpy as np\n",
    "v = np.array([[1],[2],[3]])\n",
    "print(v)"
   ]
  },
  {
   "cell_type": "code",
   "execution_count": null,
   "metadata": {
    "slideshow": {
     "slide_type": "subslide"
    }
   },
   "outputs": [],
   "source": [
    "# Verificando as dimensões do vetor v\n",
    "v.shape"
   ]
  },
  {
   "cell_type": "markdown",
   "metadata": {
    "slideshow": {
     "slide_type": "slide"
    }
   },
   "source": [
    "**Desafio:** Como seria o código para criação do vetor Linha?"
   ]
  },
  {
   "cell_type": "markdown",
   "metadata": {
    "slideshow": {
     "slide_type": "slide"
    }
   },
   "source": [
    "### Matriz\n",
    "\n",
    "Matriz $\\mathbf{A} \\in \\mathbb{R}^{m \\times n}$"
   ]
  },
  {
   "cell_type": "markdown",
   "metadata": {
    "slideshow": {
     "slide_type": "slide"
    }
   },
   "source": [
    "Ex.: Matriz $\\mathbf{A} \\in \\mathbb{R}^{3 \\times 3}$\n",
    "$$\\mathbf{A} = \\left[\\begin{array}{lll}{1} & {2} & {3} \\\\ {4} & {5} & {6} \\\\ {7} & {8} & {9}\\end{array}\\right]$$"
   ]
  },
  {
   "cell_type": "code",
   "execution_count": null,
   "metadata": {
    "slideshow": {
     "slide_type": "slide"
    }
   },
   "outputs": [],
   "source": [
    "A = np.array([[1,2,3],\n",
    "              [4,5,6],\n",
    "              [7,8,9]])\n",
    "print(A) "
   ]
  },
  {
   "cell_type": "code",
   "execution_count": null,
   "metadata": {
    "slideshow": {
     "slide_type": "subslide"
    }
   },
   "outputs": [],
   "source": [
    "# Verificando as dimensões da matriz A\n",
    "A.shape"
   ]
  },
  {
   "cell_type": "markdown",
   "metadata": {
    "slideshow": {
     "slide_type": "slide"
    }
   },
   "source": [
    "**Desafio:** Crie um código em python para criação de uma matriz com 2 linhas e 4 colunas."
   ]
  },
  {
   "cell_type": "markdown",
   "metadata": {
    "slideshow": {
     "slide_type": "slide"
    }
   },
   "source": [
    "## Tuplas (`tuple`)\n",
    "Uma tupla é uma coleção de objetos Python separados por vírgulas. De alguma maneira, uma tupla é semelhante a uma lista em termos de indexação e repetição, mas uma tupla é **imutável**, diferentemente de listas que são **mutáveis**.\n",
    "\n",
    "* Fatiar (`[1:3]`)\n",
    "* Buscar elementos (`[0]`)\n",
    "* Comprimento (`len(tuple)`)\n",
    "\n",
    "[Pense em Python](https://penseallen.github.io/PensePython2e/12-tuplas.html)"
   ]
  },
  {
   "cell_type": "code",
   "execution_count": null,
   "metadata": {
    "slideshow": {
     "slide_type": "subslide"
    }
   },
   "outputs": [],
   "source": [
    "tupla_vazia = ()\n",
    "tupla_num = (1, 2, 3, 4, 5, 6)\n",
    "tupla_mista = (1, 2, 'SANTOS', 4, 'com', 6, 'Você', True, None)"
   ]
  },
  {
   "cell_type": "code",
   "execution_count": null,
   "metadata": {
    "slideshow": {
     "slide_type": "subslide"
    }
   },
   "outputs": [],
   "source": [
    "tupla_mista[2]"
   ]
  },
  {
   "cell_type": "code",
   "execution_count": null,
   "metadata": {
    "slideshow": {
     "slide_type": "subslide"
    }
   },
   "outputs": [],
   "source": [
    "tupla_mista[2]='Palmeiras'"
   ]
  },
  {
   "cell_type": "markdown",
   "metadata": {
    "slideshow": {
     "slide_type": "slide"
    }
   },
   "source": [
    "## Dicionários (`dictionary`)\n",
    "\n",
    "O dicionário em Python é uma coleção não ordenada de valores de dados, usada para armazenar valores de dados como um mapa, que, diferentemente de outros tipos de dados que mantêm apenas um valor único como elemento, o Dictionary mantém um **par chave: valor**. O valor da chave é fornecido no dicionário para torná-lo mais otimizado.\n",
    "\n",
    "* Chave(`key`)\n",
    "* Valor(`value`)    \n",
    "\n",
    "[Pense em Python](https://penseallen.github.io/PensePython2e/11-dicionarios.html)"
   ]
  },
  {
   "cell_type": "markdown",
   "metadata": {
    "slideshow": {
     "slide_type": "slide"
    }
   },
   "source": [
    "   - Assista o vídeo do Prof. Alexandre Levada\n",
    "\n",
    "[![dicionarios)](https://img.youtube.com/vi/kX8o3BtnKds/hqdefault.jpg)](https://youtu.be/kX8o3BtnKds \"dicionarios\")"
   ]
  },
  {
   "cell_type": "code",
   "execution_count": null,
   "metadata": {
    "slideshow": {
     "slide_type": "slide"
    }
   },
   "outputs": [],
   "source": [
    "dict_vazio = {}\n",
    "dicionario = {\n",
    "    1: 'SANTOS',\n",
    "    2: 'com você',\n",
    "    3: 'é 10', \n",
    "    4: 'você está',\n",
    "    5: 'aprendendo Python',\n",
    "    6: 'bem rápido',\n",
    "    'nome da chave': 'valor da chave'\n",
    "}"
   ]
  },
  {
   "cell_type": "code",
   "execution_count": null,
   "metadata": {},
   "outputs": [],
   "source": [
    "dicionario[1]"
   ]
  },
  {
   "cell_type": "code",
   "execution_count": null,
   "metadata": {},
   "outputs": [],
   "source": [
    "outraFormaCriarDicionario = dict()"
   ]
  },
  {
   "cell_type": "code",
   "execution_count": null,
   "metadata": {},
   "outputs": [],
   "source": [
    "type(outraFormaCriarDicionario)"
   ]
  },
  {
   "cell_type": "code",
   "execution_count": null,
   "metadata": {},
   "outputs": [],
   "source": [
    "dicionario.get(6)"
   ]
  },
  {
   "cell_type": "markdown",
   "metadata": {},
   "source": [
    "Pesquise por [Dict Comprehensions!](https://pythonacademy.com.br/blog/dict-comprehensions-no-python)"
   ]
  },
  {
   "cell_type": "markdown",
   "metadata": {
    "slideshow": {
     "slide_type": "slide"
    }
   },
   "source": [
    "# Desvios Condicionais `if` `else` `efif`\n",
    "\n",
    "Uma sequência de testes de seleção, os quais serão executados ou não de acordo com o resultado das condições e de acordo com o encadeamento dos testes.   \n",
    "[Pense em Python](https://penseallen.github.io/PensePython2e/05-cond-recur.html)\n",
    "\n",
    "[![Condicionais)](https://img.youtube.com/vi/ngeVlLJ250s/hqdefault.jpg)](https://youtu.be/ngeVlLJ250s \"Condicionais\")\n"
   ]
  },
  {
   "cell_type": "code",
   "execution_count": null,
   "metadata": {
    "slideshow": {
     "slide_type": "subslide"
    }
   },
   "outputs": [],
   "source": [
    "temperatura = 90\n",
    "if temperatura > 100:\n",
    "    aguaferve = True\n",
    "else: aguaferve = False\n",
    "\n",
    "aguaferve"
   ]
  },
  {
   "cell_type": "markdown",
   "metadata": {
    "slideshow": {
     "slide_type": "slide"
    }
   },
   "source": [
    "# Estrutura de Repetição `while`\n",
    "\n",
    "A estrutura de repetição `while` a condição de repetição é verificada antes de entrar no laço de repetição, isto é, se o resultado for verdadeiro, o bloco de instrução será executado. Enquanto o valor da condição for verdadeiro, as ações dos comandos são executadas. No momento em que a condição se torna falsa, o processamento da rotina é desviado para fora do laço. Se a condição for falsa logo de início, os comandos não são executados nenhuma vez.   \n",
    "\n",
    "[Pense em Python](https://penseallen.github.io/PensePython2e/07-iteracao.html)\n",
    "\n",
    "[![while)](https://img.youtube.com/vi/TllYO06DpUk/hqdefault.jpg)](https://youtu.be/TllYO06DpUk \"while\")"
   ]
  },
  {
   "cell_type": "code",
   "execution_count": null,
   "metadata": {
    "slideshow": {
     "slide_type": "slide"
    }
   },
   "outputs": [],
   "source": [
    "i = 0\n",
    "while i <= 5:\n",
    "    print(2 ** i)\n",
    "    i+=1"
   ]
  },
  {
   "cell_type": "markdown",
   "metadata": {
    "slideshow": {
     "slide_type": "slide"
    }
   },
   "source": [
    "## Estrutura de Repetição `for`\n",
    "\n",
    "Com a estrutura de repetição `for` podemos executar um determinado conjunto de instruções certo número de vezes. Além disso, este tipo de estrutura prevê uma condição e limites fixos.\n",
    "\n",
    "A estrutura for é utilizada quando precisamos repetir um conjunto de comandos um número pré-definido de vezes.\n",
    "\n",
    "[![for)](https://img.youtube.com/vi/ctmPwp52b7w/hqdefault.jpg)](https://youtu.be/ctmPwp52b7w \"for\")"
   ]
  },
  {
   "cell_type": "code",
   "execution_count": null,
   "metadata": {
    "slideshow": {
     "slide_type": "slide"
    }
   },
   "outputs": [],
   "source": [
    "fruits = [\"apple\", \"banana\", \"cherry\"]\n",
    "for x in fruits:\n",
    "  print(x)"
   ]
  },
  {
   "cell_type": "code",
   "execution_count": null,
   "metadata": {
    "slideshow": {
     "slide_type": "slide"
    }
   },
   "outputs": [],
   "source": [
    "for x in \"banana\":\n",
    "  print(x)"
   ]
  },
  {
   "cell_type": "code",
   "execution_count": null,
   "metadata": {
    "slideshow": {
     "slide_type": "slide"
    }
   },
   "outputs": [],
   "source": [
    "for x in range(6):\n",
    "  print(x)"
   ]
  },
  {
   "cell_type": "code",
   "execution_count": null,
   "metadata": {
    "slideshow": {
     "slide_type": "slide"
    }
   },
   "outputs": [],
   "source": [
    "for x in range(2, 6):\n",
    "  print(x)"
   ]
  },
  {
   "cell_type": "markdown",
   "metadata": {
    "slideshow": {
     "slide_type": "slide"
    }
   },
   "source": [
    "### `for` em dicionários\n",
    "\n",
    "```python\n",
    "for key,value in dicionario.items():\n",
    "    print(key, value)\n",
    "```"
   ]
  },
  {
   "cell_type": "markdown",
   "metadata": {
    "slideshow": {
     "slide_type": "slide"
    }
   },
   "source": [
    "## Funções em Python (`function`)\n",
    "\n",
    "[Pense em Python](https://penseallen.github.io/PensePython2e/06-funcoes-result.html)\n",
    "\n",
    "[![funções)](https://img.youtube.com/vi/AMUxtcJ8yfc/hqdefault.jpg)](https://youtu.be/AMUxtcJ8yfc \"funções\")\n"
   ]
  },
  {
   "cell_type": "code",
   "execution_count": null,
   "metadata": {
    "slideshow": {
     "slide_type": "slide"
    }
   },
   "outputs": [],
   "source": [
    "# Definindo a função soma\n",
    "def soma (x, y):\n",
    "    \"\"\"\n",
    "    Calcula a soma de dois números\n",
    "    \n",
    "    Args:\n",
    "        x: primeiro número\n",
    "        y: segundo número\n",
    "\n",
    "    Returns:\n",
    "        Soma do primeiro com o segundo número\n",
    "    \"\"\"\n",
    "    return x + y"
   ]
  },
  {
   "cell_type": "code",
   "execution_count": null,
   "metadata": {
    "slideshow": {
     "slide_type": "slide"
    }
   },
   "outputs": [],
   "source": [
    "# Utilizando a função soma\n",
    "soma(10,20)"
   ]
  },
  {
   "cell_type": "markdown",
   "metadata": {
    "slideshow": {
     "slide_type": "slide"
    }
   },
   "source": [
    "**Desafio:** Utilize a função **dist_euclid**, apresentada abaixo, para calcular a [distância Eucliadiana](https://youtu.be/URZbBqc4U4o?si=eDG-jwURUIT7RLpX) entre os pontos: (10, 2) e (5, 14).   \n",
    "No portal [Easycalculation](https://www.easycalculation.com/pt/analytical/distance.php) você pode conferir o resultado."
   ]
  },
  {
   "cell_type": "code",
   "execution_count": null,
   "metadata": {
    "slideshow": {
     "slide_type": "slide"
    }
   },
   "outputs": [],
   "source": [
    "import numpy as np\n",
    "def dist_euclid(ponto1: np.ndarray, ponto2: np.ndarray) -> float:\n",
    "    \"\"\"\n",
    "    Calcula a distância euclidiana de dois pontos em qualquer dimensão\n",
    "    \n",
    "    Args:\n",
    "        ponto1: uma matriz numpy contendo as coordenadas do primeiro ponto\n",
    "        ponto2: uma matriz numpy contendo as coordenadas do segundo ponto\n",
    "\n",
    "    Returns:\n",
    "        A distância euclidiana dos pontos\n",
    "    \"\"\"\n",
    "    dist = np.linalg.norm(ponto1 - ponto2)\n",
    "    return dist"
   ]
  },
  {
   "cell_type": "markdown",
   "metadata": {
    "slideshow": {
     "slide_type": "fragment"
    }
   },
   "source": [
    "[Fonte](https://stackoverflow.com/questions/1401712/how-can-the-euclidean-distance-be-calculated-with-numpy)"
   ]
  },
  {
   "cell_type": "markdown",
   "metadata": {
    "slideshow": {
     "slide_type": "slide"
    }
   },
   "source": [
    "## Como documentar seu código:\n",
    "\n",
    "### Docstrings em Funções\n",
    "\n",
    "   - [PEP-257](https://www.python.org/dev/peps/pep-0257/)\n",
    "\n",
    "### Google Python Style Guide\n",
    "   - [Google Python Style Guide](https://google.github.io/styleguide/pyguide.html)"
   ]
  },
  {
   "cell_type": "markdown",
   "metadata": {
    "slideshow": {
     "slide_type": "slide"
    }
   },
   "source": [
    "## Funções Anônimas -- lambdas\n",
    "\n",
    "Lambda's, ou funções anônimas, são expressões que permitem representar uma função sem precisar defini-la explicitamente. Assim, pode deixar o código mais facil, mais claro e mais rápido de ser lido.\n",
    "\n",
    "Em Python as funções anônimas usam a keyword **lambda**.\n",
    "\n",
    "[![lambda)](https://img.youtube.com/vi/TsVq5-NgLGs/hqdefault.jpg)](https://youtu.be/TsVq5-NgLGs \"lambda\")"
   ]
  },
  {
   "cell_type": "markdown",
   "metadata": {
    "slideshow": {
     "slide_type": "slide"
    }
   },
   "source": [
    "Exemplos:\n",
    "\n",
    "    > identidade: lambda x: x\n",
    "    > quadrática: lambda x: x**2\n",
    "    > adição dois números: lambda x, y: x + y\n",
    "\n",
    "Outras funções utilizadas com lambdas\n",
    "\n",
    "   **map** - Aplica uma função a cada item de uma lista ou dicionário e retorna um novo iterador para recuperar os resultados. Essa função retorna um objeto de mapa (um iterador). Também é possível passar o objeto de mapa para a função list, ou outro tipo de sequência, para criar um iterável.\n",
    "\n",
    "   **filter** - Filtra uma sequência dada com a ajuda de uma função que testa cada elemento na sequência para verificar se é verdadeiro ou falso ou se foi encontrado.\n",
    "\n",
    "   **reduce** - É usada para aplicar uma função particular passada em seu argumento a todos os elementos da lista mencionados na seqüência passada.\n"
   ]
  },
  {
   "cell_type": "markdown",
   "metadata": {
    "slideshow": {
     "slide_type": "slide"
    }
   },
   "source": [
    "## Construindo uma função anônima\n",
    "Abaixo temos uma função anônima para o cálculo da distância Euclidiana de dois pontos em qualquer dimensão."
   ]
  },
  {
   "cell_type": "code",
   "execution_count": null,
   "metadata": {
    "slideshow": {
     "slide_type": "subslide"
    }
   },
   "outputs": [],
   "source": [
    "distancia = lambda p1, p2: np.linalg.norm(p1 - p2)\n",
    "distancia(np.array([10,2]), np.array([5,14]))"
   ]
  },
  {
   "cell_type": "code",
   "execution_count": null,
   "metadata": {
    "slideshow": {
     "slide_type": "fragment"
    }
   },
   "outputs": [],
   "source": [
    "def dist_euclid(ponto1: np.ndarray, ponto2: np.ndarray) -> float:\n",
    "    \"\"\"\n",
    "    Calcula a distância euclidiana de dois pontos em qualquer dimensão\n",
    "    \n",
    "    Args:\n",
    "        ponto1: uma matriz numpy contendo as coordenadas do primeiro ponto\n",
    "        ponto2: uma matriz numpy contendo as coordenadas do segundo ponto\n",
    "\n",
    "    Returns:\n",
    "        A distância euclidiana dos pontos\n",
    "    \"\"\"\n",
    "    dist = np.linalg.norm(ponto1 - ponto2)\n",
    "    return dist"
   ]
  },
  {
   "cell_type": "markdown",
   "metadata": {
    "slideshow": {
     "slide_type": "slide"
    }
   },
   "source": [
    "# Strings   \n",
    "\n",
    "[Pense em Python](https://penseallen.github.io/PensePython2e/08-strings.html)\n",
    "\n",
    "[![string)](https://img.youtube.com/vi/DdhNltkI_hE/hqdefault.jpg)](https://youtu.be/DdhNltkI_hE \"string\")"
   ]
  },
  {
   "cell_type": "markdown",
   "metadata": {
    "slideshow": {
     "slide_type": "slide"
    }
   },
   "source": [
    "# Comparações de Strings\n",
    "\n",
    "[![string2)](https://img.youtube.com/vi/EWQTdbtCtKw/hqdefault.jpg)](https://youtu.be/EWQTdbtCtKw \"string2\")\n"
   ]
  },
  {
   "cell_type": "markdown",
   "metadata": {
    "slideshow": {
     "slide_type": "slide"
    }
   },
   "source": [
    "# Orientação à Objetos - 1  \n",
    "\n",
    "[Pense em Python](https://penseallen.github.io/PensePython2e/15-classes-objetos.html)\n",
    "\n",
    "[![OOp1)](https://img.youtube.com/vi/frtaUi3B6Sc/hqdefault.jpg)](https://youtu.be/frtaUi3B6Sc \"OOp1\")"
   ]
  },
  {
   "cell_type": "markdown",
   "metadata": {
    "slideshow": {
     "slide_type": "slide"
    }
   },
   "source": [
    "- Paradigmas de programação:\n",
    "    - linguagem de máquina (1100 0011)\n",
    "    - linguaguem de montagem (assembly) (add ax, bx)\n",
    "    - linguagem procedimental\n",
    "    - linguagem Orientada a Objetos - POO\n",
    "- Objeto = dado + código\n",
    "    - encapsulamento (troca de mensagem p/ comunicação)\n",
    "    - classes: definem os tipos de objetos e seus dados e códigos\n",
    "        - Dados: atributos (qualidades)\n",
    "        - Códigos: métodos (funções)\n",
    "    - Objetos: instâncias das classes"
   ]
  },
  {
   "cell_type": "markdown",
   "metadata": {
    "slideshow": {
     "slide_type": "subslide"
    }
   },
   "source": [
    "Ex.:     \n",
    "    - Classe: Carro    \n",
    "    - Instâncias: meuCarro, carroDoIme     \n",
    "    - Atributos | Propriedades: ano, modelo, cor, velocidade    \n",
    "    - Métodos: acelera, frena   "
   ]
  },
  {
   "cell_type": "code",
   "execution_count": null,
   "metadata": {
    "slideshow": {
     "slide_type": "subslide"
    }
   },
   "outputs": [],
   "source": [
    "# Criando a classe Carro\n",
    "class Carro:\n",
    "    pass"
   ]
  },
  {
   "cell_type": "code",
   "execution_count": null,
   "metadata": {
    "slideshow": {
     "slide_type": "subslide"
    }
   },
   "outputs": [],
   "source": [
    "# Instanciando a classe Carro\n",
    "meuCarro = Carro()\n",
    "carroDoIme = Carro()"
   ]
  },
  {
   "cell_type": "code",
   "execution_count": null,
   "metadata": {
    "slideshow": {
     "slide_type": "subslide"
    }
   },
   "outputs": [],
   "source": [
    "# Atribuindo valores aos atributos\n",
    "meuCarro.ano = 1968\n",
    "meuCarro.modelo = 'Fusca'\n",
    "meuCarro.cor = 'amarela'\n",
    "carroDoIme.modelo = 'Brasilia'\n",
    "carroDoIme.ano = 1981\n",
    "carroDoIme.cor = 'azul'"
   ]
  },
  {
   "cell_type": "code",
   "execution_count": null,
   "metadata": {
    "slideshow": {
     "slide_type": "subslide"
    }
   },
   "outputs": [],
   "source": [
    "# Consultando um atributo\n",
    "meuCarro.modelo"
   ]
  },
  {
   "cell_type": "markdown",
   "metadata": {
    "slideshow": {
     "slide_type": "slide"
    }
   },
   "source": [
    "# Orientação à Objetos - 2\n",
    "\n",
    "[Pense em Python](https://penseallen.github.io/PensePython2e/17-classes-metodos.html)\n",
    "\n",
    "[![OOp2)](https://img.youtube.com/vi/LsbakVX54RY/hqdefault.jpg)](https://youtu.be/LsbakVX54RY \"OOp2\")"
   ]
  },
  {
   "cell_type": "markdown",
   "metadata": {
    "slideshow": {
     "slide_type": "subslide"
    }
   },
   "source": [
    "   - Método construtor: \\__init__  (inicialização)\n",
    "       - É chamado automaticamente quando os objetos são criados (instanciadas) "
   ]
  },
  {
   "cell_type": "code",
   "execution_count": null,
   "metadata": {
    "slideshow": {
     "slide_type": "subslide"
    }
   },
   "outputs": [],
   "source": [
    "class Carro:\n",
    "    # método construtor da classe Carro\n",
    "    def __init__(self, modelo, ano, cor):\n",
    "        self.modelo = modelo\n",
    "        self.ano = ano\n",
    "        self.cor = cor\n",
    "        \n",
    "    def imprima(self):\n",
    "        print('modelo: ',self.modelo)\n",
    "        print('ano: ',self.ano)\n",
    "        print('cor: ',self.cor)"
   ]
  },
  {
   "cell_type": "code",
   "execution_count": null,
   "metadata": {
    "slideshow": {
     "slide_type": "subslide"
    }
   },
   "outputs": [],
   "source": [
    "carroDoMeuAvo = Carro('Ferrari', 1980,'vermelho')"
   ]
  },
  {
   "cell_type": "code",
   "execution_count": null,
   "metadata": {
    "slideshow": {
     "slide_type": "subslide"
    }
   },
   "outputs": [],
   "source": [
    "carroDoMeuAvo.imprima()"
   ]
  },
  {
   "cell_type": "code",
   "execution_count": null,
   "metadata": {
    "slideshow": {
     "slide_type": "subslide"
    }
   },
   "outputs": [],
   "source": [
    "# o atributo __dict__ retorna um dicionário com todos os atributos e métodos do objeto\n",
    "carroDoMeuAvo.__dict__"
   ]
  },
  {
   "cell_type": "markdown",
   "metadata": {
    "slideshow": {
     "slide_type": "slide"
    }
   },
   "source": [
    "## Exemplo de POO em Python/DeepLearning"
   ]
  },
  {
   "cell_type": "code",
   "execution_count": null,
   "metadata": {
    "slideshow": {
     "slide_type": "fragment"
    }
   },
   "outputs": [],
   "source": [
    "import torch\n",
    "import torch.nn as nn\n",
    "import torch.nn.functional as F\n",
    "class Model(nn.Module):\n",
    "    # Construtor\n",
    "    def __init__(self):\n",
    "        super(Model, self).__init__()\n",
    "        self.fc1 = nn.Linear(4, 4) # primeira hidden layer\n",
    "        self.fc2 = nn.Linear(4, 1) # segunda hidden layer\n",
    "\n",
    "    # Propagação (Feed Forward)\n",
    "    def forward(self, x):\n",
    "        x = F.relu(self.fc1(x))\n",
    "        x = F.relu(self.fc2(x))\n",
    "        return x\n",
    "\n",
    "\n",
    "# Instancia o Model()\n",
    "model = Model()\n",
    "\n",
    "print(model)"
   ]
  },
  {
   "cell_type": "markdown",
   "metadata": {
    "slideshow": {
     "slide_type": "slide"
    }
   },
   "source": [
    "## Extra:\n",
    "\n",
    "Execute o notebook [Classes_e_Metodos](https://github.com/storopoli/ciencia-de-dados/blob/main/notebooks/Aula_05a_Classes_e_Metodos.ipynb) dos professores [Storopoli](https://orcid.org/0000-0002-0559-5176) &[Souza](https://orcid.org/0000-0002-5891-4767)."
   ]
  },
  {
   "cell_type": "markdown",
   "metadata": {
    "slideshow": {
     "slide_type": "slide"
    }
   },
   "source": [
    "# Módulos em python\n",
    "\n",
    "* `import <library>`\n",
    "* `import <library> as xx`\n",
    "* `from <library> import *`\n",
    "* `from <library> import yy`\n",
    "\n",
    "[![módulos)](https://img.youtube.com/vi/6rSUPRZJFRM/hqdefault.jpg)](https://youtu.be/6rSUPRZJFRM \"módulos\")"
   ]
  },
  {
   "cell_type": "code",
   "execution_count": null,
   "metadata": {
    "slideshow": {
     "slide_type": "subslide"
    }
   },
   "outputs": [],
   "source": [
    "# Importa biblioteca matemática\n",
    "import math\n",
    "\n",
    "# Imprimi valor de pi\n",
    "print (math.pi) "
   ]
  },
  {
   "cell_type": "markdown",
   "metadata": {
    "slideshow": {
     "slide_type": "slide"
    }
   },
   "source": [
    "# Python na nuvem\n",
    "\n",
    "* Explore a plataforma [Repl.it](https://replit.com/)\n",
    "* [Interpretador Python na nuvem](https://www.youtube.com/watch?v=S-WnHF0TrF8&list=PL7OlISixQYm5gHmnIroBbC9BcVK_ajLoe&index=8)"
   ]
  },
  {
   "cell_type": "markdown",
   "metadata": {
    "slideshow": {
     "slide_type": "slide"
    }
   },
   "source": [
    "# Vamos Praticar  \n",
    "\n",
    "* Execute os notebooks dos Professores Storopoli e Souza:     \n",
    "    - [Operadores Aritméticos, Relacionais e Lógicos](https://mybinder.org/v2/gh/storopoli/ciencia-de-dados/main?filepath=notebooks%2FAula_01_Operadores_Aritmeticos_Relacionais_e_Logicos.ipynb)    \n",
    "    - [Desvio Condicional (IF)](https://mybinder.org/v2/gh/storopoli/ciencia-de-dados/main?filepath=notebooks%2FAula_02_Desvio_Condicional_IF.ipynb)\n",
    "    - [Estruturas de Repetição (FOR e WHILE)](https://mybinder.org/v2/gh/storopoli/ciencia-de-dados/main?filepath=notebooks%2FAula_03_Estruturas_de_Repeticao.ipynb)\n",
    "    - [Funções](https://mybinder.org/v2/gh/storopoli/ciencia-de-dados/main?filepath=notebooks%2FAula_05_Funcoes.ipynb)"
   ]
  },
  {
   "cell_type": "markdown",
   "metadata": {
    "slideshow": {
     "slide_type": "slide"
    }
   },
   "source": [
    "# Quer saber mais\n",
    "* Faça o curso [Python - 80h](https://eucapacito.com.br/curso-ec/python/) do projeto EuCapacito;  \n",
    "\n",
    "* Veja toda a [PlayList](https://www.youtube.com/watch?v=WT_zCgSHSTQ&list=PLcoJJSvnDgcKpOi_UeneTNTIVOigRQwcn&index=1) do prof. Fábio Kon ou ainda faça gratuitamente os cursos dele na plataforma Coursera: [Introdução à Ciência da Computação com Python Parte 1](https://www.coursera.org/learn/ciencia-computacao-python-conceitos) e [Introdução à Ciência da Computação com Python Parte 2 ]( https://www.coursera.org/learn/ciencia-computacao-python-conceitos-2)\n",
    "\n",
    "* Veja o curso grátis [Python Fundamentos Para Análise de Dados 3.0](https://www.datascienceacademy.com.br/course/python-fundamentos) da DSA.\n",
    "\n",
    "* Explore o portal [Python para todos](https://sites.google.com/view/projetopythonparatodos) e veja toda a [PlayList](https://www.youtube.com/playlist?list=PLH9knZH6lcgo0ndsXfwX0CGO_ad1t6cSO)  do prof. Anibal Azevedo\n",
    "\n",
    "* Explore o material do curso [Aulas de Introdução à Computação em Python](https://panda.ime.usp.br/aulasPython/static/aulasPython/index.html) do IME-USP, nele é possível você executar os códigos na própria página do curso; \n",
    "\n",
    "* Veja a [PlayList](https://www.youtube.com/watch?v=8UfIDvWjKO0&list=PLLrlHSmC0Mw6LozInZxlkMrkiJ_eLLyrL) do prof. Thiago Ferreira.\n",
    "\n",
    "* Veja a [PlayList](https://www.youtube.com/watch?v=2KmYQWLkqOM&list=PL7OlISixQYm5gHmnIroBbC9BcVK_ajLoe) do prof. Alexandre Levada   \n",
    "\n",
    "* Curso [Python no Kaggle](https://www.kaggle.com/learn/python)\n",
    "\n",
    "* Veja essas biblioteca:\n",
    "    - [Python library for reliability engineering and survival analysis](https://reliability.readthedocs.io/en/latest/)\n",
    "\n",
    "    - [NetworkX](https://networkx.org/documentation/stable/auto_examples/index.html)\n",
    "\n",
    "* Veja [How to Self Learn Data Science in 2022](https://www.visual-design.net/post/how-to-self-learn-data-science)\n",
    "\n",
    "* Leia o artigo [Onde aprender Python de graça?](https://felipegalvao.com.br/pt/blog/where-to-learn-python-for-free/) de Felipe Galvao e aproveite para explorar o seu blog\n",
    "   \n",
    "\n",
    "* Leia o artigo: [Como Sair do ZERO no Python em APENAS UMA AULA](https://www.youtube.com/watch?v=GQpQha2Mfpg)  \n",
    "    \n",
    "* Explore o [Cheat Sheet For Beginners](https://res.cloudinary.com/dyd911kmh/image/upload/f_auto,q_auto:best/v1620781328/Python_For_Data_Science_-_A_Cheat_Sheet_For_Beginners_igzrny.png)   \n",
    "\n",
    "\n",
    "\n",
    "# O Futuro do Trabalho: 10 habilidades que vão estar em alta até 2025\n",
    "\n",
    "* Segundo o relatório [Future of Jobs: The top 10 skills to be developed by 2025](http://www3.weforum.org/docs/WEF_Future_of_Jobs_2020.pdf), do Fórum Econômico Mundial, **Resolução de problemas** é a 3ª principal habilidade que estará em alta até 2025.   \n",
    "\n",
    "## Resolução de problemas\n",
    "\n",
    "Pesquise no artigo [COMPETÊNCIAS RELEVANTES PARA O PROFISSIONAL DO FUTURO - COMPETÊNCIAS LISTADAS PELO RELATÓRIO “THE FUTURE OF JOB” DO FÓRUM ECONÔMICO MUNDIAL E A PREVISÃO DE FUTURO DE YUVAL HARARI](https://pt.scribd.com/document/565301777/artigo-semana-academica-daniele-rodrigues-v2-1-pdf) por **Resolução de problemas**.   \n",
    "\n",
    "## Para saber mais\n",
    "\n",
    "“[...] Se tivesse uma hora para salvar o planeta, usaria 59 minutos para definir o problema e um para resolvê-lo”, disse Albert Einstein.\n",
    "\n",
    "Recomendamos a leitura do artigo [Você está resolvendo o problema certo de Dwayne Spradlin](https://hbr.org/2012/09/are-you-solving-the-right-problem), publicado na revista HBR Brasil em 09/2012.   \n",
    "\n",
    "O artigo apresenta um processo com 4 passos para a descrição completa de um problema que se está buscando resolver e dos requisitos que a solução deve cumprir. Segundo o autor \"[...] a ideia de fazer perguntas até chegar à raiz de um problema vem da célebre\n",
    "técnica de resolução de problemas dos **“5 porquês” criada na Toyota** e empregada no **Six Sigma**\".\n",
    "\n",
    "Cada um dos passos envolve responder uma série de questões. Click na figura abaixo e explore o mapa mental (click nas bolinhas para abrir/fechar os ramos do mapa) ... \n",
    "\n",
    "[<center><img src=\"images/pdp.png\"></center>](https://nbviewer.org/github/vsvasconcelos/i2a2/blob/main/pdp.html)         \n",
    "\n",
    "\n",
    "\n",
    "* Assista ao vídeo: \n",
    "\n",
    "   - The Deep Dive, o processo de criação da IDEO ...\n",
    "\n",
    "[<center><img src=\"images/deepdive.png\"></center>](https://vimeo.com/7953312)         \n",
    "\n",
    "\n",
    "# Gosta de livros\n",
    "[Pense em Python - Allen B. Downey](https://penseallen.github.io/PensePython2e/)\n",
    "\n",
    "[Scientific Visualization: Python + Matplotlib - Nicolas P. Rougier, ](https://github.com/rougier/scientific-visualization-book)\n",
    "\n",
    "[Free python books](https://github.com/pamoroso/free-python-books)\n",
    "\n",
    "[Python Data Science Handbook - Jake VanderPlas](https://jakevdp.github.io/PythonDataScienceHandbook/)     \n",
    "\n",
    "[Introdução a Computação em Python: Problemas e Aplicações - Alexandre L M Levada](https://www.researchgate.net/publication/343971915_Introducao_a_Computacao_em_Python_Problemas_e_Aplicacoes) "
   ]
  },
  {
   "cell_type": "markdown",
   "metadata": {
    "slideshow": {
     "slide_type": "slide"
    }
   },
   "source": [
    "Qualquer dúvida, poste no fórum da disciplina.\n",
    "\n",
    "   - Te vejo na mentoria!"
   ]
  }
 ],
 "metadata": {
  "celltoolbar": "Slideshow",
  "kernelspec": {
   "display_name": "Python 3 (ipykernel)",
   "language": "python",
   "name": "python3"
  },
  "language_info": {
   "codemirror_mode": {
    "name": "ipython",
    "version": 3
   },
   "file_extension": ".py",
   "mimetype": "text/x-python",
   "name": "python",
   "nbconvert_exporter": "python",
   "pygments_lexer": "ipython3",
   "version": "3.8.10"
  },
  "rise": {
   "autolaunch": true,
   "enable_chalkboard": true,
   "progress": true,
   "scroll": true,
   "slideNumber": true
  },
  "toc": {
   "base_numbering": 1,
   "nav_menu": {},
   "number_sections": true,
   "sideBar": true,
   "skip_h1_title": false,
   "title_cell": "Table of Contents",
   "title_sidebar": "Contents",
   "toc_cell": false,
   "toc_position": {},
   "toc_section_display": true,
   "toc_window_display": false
  },
  "varInspector": {
   "cols": {
    "lenName": 16,
    "lenType": 16,
    "lenVar": 40
   },
   "kernels_config": {
    "python": {
     "delete_cmd_postfix": "",
     "delete_cmd_prefix": "del ",
     "library": "var_list.py",
     "varRefreshCmd": "print(var_dic_list())"
    },
    "r": {
     "delete_cmd_postfix": ") ",
     "delete_cmd_prefix": "rm(",
     "library": "var_list.r",
     "varRefreshCmd": "cat(var_dic_list()) "
    }
   },
   "types_to_exclude": [
    "module",
    "function",
    "builtin_function_or_method",
    "instance",
    "_Feature"
   ],
   "window_display": false
  }
 },
 "nbformat": 4,
 "nbformat_minor": 4
}
