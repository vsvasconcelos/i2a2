{
 "cells": [
  {
   "cell_type": "markdown",
   "metadata": {},
   "source": [
    "[<center><img src=\"images/Logo_I2A2.webp\"></center>](https://www.i2a2.academy/)         \n",
    "**Rev 8**"
   ]
  },
  {
   "cell_type": "markdown",
   "metadata": {},
   "source": [
    "# Módulo 2"
   ]
  },
  {
   "cell_type": "markdown",
   "metadata": {},
   "source": [
    "# Aula 1 - parte 1: Visão geral de Python\n",
    "\n",
    "**Objetivos**: Apresentar uma visão geral da linguagem Python."
   ]
  },
  {
   "cell_type": "markdown",
   "metadata": {},
   "source": [
    "Este material o auxiliará nas sessões de autoestudo, contudo, fique à vontade para consultar outras fontes de informações, mas nunca deixe de citá-las."
   ]
  },
  {
   "cell_type": "markdown",
   "metadata": {},
   "source": [
    "[<center><img src=\"images/excel-meme-dr-evil.webp\"></center>](https://www.r-bloggers.com/2021/05/macros-in-the-shell-integrating-that-spreadsheet-from-finance-into-a-data-pipeline/)         "
   ]
  },
  {
   "cell_type": "markdown",
   "metadata": {},
   "source": [
    "# Python\n",
    "\n",
    "A linguagem de programação Python é desde outubro de 2021 a [mais popular](https://www.tiobe.com/tiobe-index/) no mundo das linguagens de programação"
   ]
  },
  {
   "cell_type": "markdown",
   "metadata": {},
   "source": [
    "<center><img src=\"images/pythonSuperaJava.png\"></center>"
   ]
  },
  {
   "cell_type": "markdown",
   "metadata": {},
   "source": [
    "# Python no Excel :)\n",
    "[<center><img src=\"images/python_excell.png\" width=\"70%\"></center>](https://vimeo.com/856872267)         "
   ]
  },
  {
   "cell_type": "markdown",
   "metadata": {
    "jp-MarkdownHeadingCollapsed": true
   },
   "source": [
    "## [Introdução ao Python no Excel](https://support.microsoft.com/pt-br/office/introdu%C3%A7%C3%A3o-ao-python-no-excel-55643c2e-ff56-4168-b1ce-9428c8308545)"
   ]
  },
  {
   "cell_type": "markdown",
   "metadata": {},
   "source": [
    "# O vídeo abaixo apresenta uma visão geral da linguagem python.\n",
    "\n",
    "[![Visao Geral Python](https://img.youtube.com/vi/BusHZHlRS2k/hqdefault.jpg)](https://youtu.be/BusHZHlRS2k \"Visao Geral Python\")"
   ]
  },
  {
   "cell_type": "markdown",
   "metadata": {},
   "source": [
    "## [Perguntas Frequentes Sobre Python](https://wiki.python.org.br/PerguntasFrequentes/SobrePython)"
   ]
  },
  {
   "cell_type": "markdown",
   "metadata": {},
   "source": [
    "# Preparando o seu Ambiente para usar Python\n",
    "\n",
    "[![ambiente](https://img.youtube.com/vi/ln4gqk6dS8E/hqdefault.jpg)](https://youtu.be/ln4gqk6dS8E \"ambiente\")"
   ]
  },
  {
   "cell_type": "markdown",
   "metadata": {},
   "source": [
    "## Instando o python"
   ]
  },
  {
   "cell_type": "markdown",
   "metadata": {},
   "source": [
    "[<center><img src=\"images/python.png\" width=\"80%\"></center>](https://www.python.org/)   "
   ]
  },
  {
   "cell_type": "markdown",
   "metadata": {},
   "source": [
    "## Instalando o Anaconda"
   ]
  },
  {
   "cell_type": "markdown",
   "metadata": {},
   "source": [
    "[<center><img src=\"images/Anaconda.png\" width=\"80%\"></center>](https://www.anaconda.com/download)   "
   ]
  },
  {
   "cell_type": "markdown",
   "metadata": {},
   "source": [
    "## Gerenciando Pacotes"
   ]
  },
  {
   "cell_type": "markdown",
   "metadata": {},
   "source": [
    "<center><img src=\"images/condapip.png\" width=\"50%\"></center>"
   ]
  },
  {
   "cell_type": "markdown",
   "metadata": {},
   "source": [
    "## Resumindo"
   ]
  },
  {
   "cell_type": "markdown",
   "metadata": {},
   "source": [
    "<center><img src=\"images/condapip2.png\" width=\"80%\"></center>"
   ]
  },
  {
   "cell_type": "markdown",
   "metadata": {},
   "source": [
    "# Ambientes Virtuais"
   ]
  },
  {
   "cell_type": "markdown",
   "metadata": {},
   "source": [
    "[![ambientevirtual](https://img.youtube.com/vi/ciFdSA8b2qw/hqdefault.jpg)](https://youtu.be/ciFdSA8b2qw \"Ambiente Virtual\")"
   ]
  },
  {
   "cell_type": "markdown",
   "metadata": {},
   "source": [
    "## Instalação\n",
    "        > sudo apt install virtualenv | pip install virtualenv (Linux)\n",
    "        > pip install virtualenv (Windows)"
   ]
  },
  {
   "cell_type": "markdown",
   "metadata": {},
   "source": [
    "## Criação\n",
    "        > virtualenv nome_da_virtualenv  \n",
    "    \n",
    "**Dica:** O mais comum é criar a virtualenv na raiz do projeto no qual ela irá pertencer."
   ]
  },
  {
   "cell_type": "markdown",
   "metadata": {},
   "source": [
    "## Ativação\n",
    "        > source nome_da_virtualenv/bin/activate (Linux)\n",
    "        > nome_da_virtualenv/Scripts/Activate (Windows)  \n",
    "**Dica:** Necessário estar na pasta raiz no qual o ambiente foi criado;     \n",
    "**Detalhe:** Quando o ambiente é ativado, no prompt de comando do console aparece entre parentes o nome do ambiente, ex.: (nome_da_virtualenv)"
   ]
  },
  {
   "cell_type": "markdown",
   "metadata": {},
   "source": [
    "## Desativação\n",
    "        > deactivate\n",
    "**Dica:** Necessário estar na pasta raiz no qual o ambiente foi criado"
   ]
  },
  {
   "cell_type": "markdown",
   "metadata": {},
   "source": [
    "# Mão na massa"
   ]
  },
  {
   "cell_type": "markdown",
   "metadata": {},
   "source": [
    "Na próxima aula entraremos em detalhes sobre o **Jupyter Notebook**, a ideia aqui é você simplesmente utilizar este notebook em um ambiente de nuvem (Binder) sem se preocupar com os detalhes de instalação - da mesma forma que você fez nos desafios da aula 3 do módulo 1.\n",
    "\n",
    "Após você clicar no botão abaixo, o sistema Binder alocará um ambiente jupyter notebook na nuvem para você - isto demora alguns minutos.\n",
    "\n",
    "[![Binder](https://mybinder.org/badge_logo.svg)](https://mybinder.org/v2/gh/vsvasconcelos/i2a2/main?filepath=m2_python.ipynb)"
   ]
  },
  {
   "cell_type": "markdown",
   "metadata": {
    "slideshow": {
     "slide_type": "slide"
    }
   },
   "source": [
    "# Variáveis\n",
    "Assista o vídeo abaixo e vá executando as células deste notebook conforme a sequência do vídeo:\n",
    "\n",
    "[![valores e tipos de valores](https://img.youtube.com/vi/UZ7_oudJ150/hqdefault.jpg)](https://youtu.be/UZ7_oudJ150 \"valores e tipos de valores\")\n",
    "\n",
    "Execute as células abaixo:"
   ]
  },
  {
   "cell_type": "code",
   "execution_count": 4,
   "metadata": {
    "slideshow": {
     "slide_type": "fragment"
    }
   },
   "outputs": [
    {
     "data": {
      "text/plain": [
       "int"
      ]
     },
     "execution_count": 4,
     "metadata": {},
     "output_type": "execute_result"
    }
   ],
   "source": [
    "type(10)"
   ]
  },
  {
   "cell_type": "code",
   "execution_count": 5,
   "metadata": {},
   "outputs": [
    {
     "data": {
      "text/plain": [
       "str"
      ]
     },
     "execution_count": 5,
     "metadata": {},
     "output_type": "execute_result"
    }
   ],
   "source": [
    "type(\"tudo bem\")"
   ]
  },
  {
   "cell_type": "code",
   "execution_count": 3,
   "metadata": {},
   "outputs": [
    {
     "data": {
      "text/plain": [
       "float"
      ]
     },
     "execution_count": 3,
     "metadata": {},
     "output_type": "execute_result"
    }
   ],
   "source": [
    "type(5/2)"
   ]
  },
  {
   "cell_type": "code",
   "execution_count": 2,
   "metadata": {},
   "outputs": [
    {
     "data": {
      "text/plain": [
       "3.3333333333333335"
      ]
     },
     "execution_count": 2,
     "metadata": {},
     "output_type": "execute_result"
    }
   ],
   "source": [
    "10/3"
   ]
  },
  {
   "cell_type": "code",
   "execution_count": 1,
   "metadata": {},
   "outputs": [
    {
     "data": {
      "text/plain": [
       "3"
      ]
     },
     "execution_count": 1,
     "metadata": {},
     "output_type": "execute_result"
    }
   ],
   "source": [
    "10//3"
   ]
  },
  {
   "cell_type": "code",
   "execution_count": null,
   "metadata": {},
   "outputs": [],
   "source": [
    "10%3"
   ]
  },
  {
   "cell_type": "code",
   "execution_count": 6,
   "metadata": {},
   "outputs": [
    {
     "data": {
      "text/plain": [
       "23.291229956104985"
      ]
     },
     "execution_count": 6,
     "metadata": {},
     "output_type": "execute_result"
    }
   ],
   "source": [
    "peso=78\n",
    "altura=1.83\n",
    "IMC=peso/(altura**2)\n",
    "IMC"
   ]
  },
  {
   "cell_type": "code",
   "execution_count": 7,
   "metadata": {},
   "outputs": [
    {
     "data": {
      "text/plain": [
       "float"
      ]
     },
     "execution_count": 7,
     "metadata": {},
     "output_type": "execute_result"
    }
   ],
   "source": [
    "type(IMC)"
   ]
  },
  {
   "cell_type": "code",
   "execution_count": 8,
   "metadata": {},
   "outputs": [
    {
     "data": {
      "text/plain": [
       "23"
      ]
     },
     "execution_count": 8,
     "metadata": {},
     "output_type": "execute_result"
    }
   ],
   "source": [
    "IMCInteiro=int(IMC)\n",
    "IMCInteiro"
   ]
  },
  {
   "cell_type": "code",
   "execution_count": 9,
   "metadata": {},
   "outputs": [
    {
     "data": {
      "text/plain": [
       "int"
      ]
     },
     "execution_count": 9,
     "metadata": {},
     "output_type": "execute_result"
    }
   ],
   "source": [
    "type(IMCInteiro)"
   ]
  },
  {
   "cell_type": "code",
   "execution_count": 10,
   "metadata": {},
   "outputs": [],
   "source": [
    "texto=\"Bom dia, tudo bem?\""
   ]
  },
  {
   "cell_type": "code",
   "execution_count": 11,
   "metadata": {},
   "outputs": [
    {
     "data": {
      "text/plain": [
       "18"
      ]
     },
     "execution_count": 11,
     "metadata": {},
     "output_type": "execute_result"
    }
   ],
   "source": [
    "len(texto)"
   ]
  },
  {
   "cell_type": "code",
   "execution_count": 12,
   "metadata": {},
   "outputs": [
    {
     "ename": "TypeError",
     "evalue": "object of type 'float' has no len()",
     "output_type": "error",
     "traceback": [
      "\u001b[0;31m---------------------------------------------------------------------------\u001b[0m",
      "\u001b[0;31mTypeError\u001b[0m                                 Traceback (most recent call last)",
      "\u001b[0;32m/tmp/ipykernel_15763/4028922398.py\u001b[0m in \u001b[0;36m<module>\u001b[0;34m\u001b[0m\n\u001b[0;32m----> 1\u001b[0;31m \u001b[0mlen\u001b[0m\u001b[0;34m(\u001b[0m\u001b[0mIMC\u001b[0m\u001b[0;34m)\u001b[0m\u001b[0;34m\u001b[0m\u001b[0;34m\u001b[0m\u001b[0m\n\u001b[0m",
      "\u001b[0;31mTypeError\u001b[0m: object of type 'float' has no len()"
     ]
    }
   ],
   "source": [
    "len(IMC)"
   ]
  },
  {
   "cell_type": "markdown",
   "metadata": {},
   "source": [
    "Deu erro, certo?    \n",
    "Tente identificar qual problema temos aqui?"
   ]
  },
  {
   "cell_type": "code",
   "execution_count": 13,
   "metadata": {},
   "outputs": [
    {
     "data": {
      "text/plain": [
       "18"
      ]
     },
     "execution_count": 13,
     "metadata": {},
     "output_type": "execute_result"
    }
   ],
   "source": [
    "len(str(IMC))"
   ]
  },
  {
   "cell_type": "markdown",
   "metadata": {
    "slideshow": {
     "slide_type": "subslide"
    }
   },
   "source": [
    "Além dos tipos de variáveis apresentadas no vídeo, pesquise quais outros existem na linguagem Python?     \n",
    "## [Documentação Python](https://docs.python.org/pt-br/3/)"
   ]
  },
  {
   "cell_type": "markdown",
   "metadata": {
    "slideshow": {
     "slide_type": "slide"
    }
   },
   "source": [
    "# Operadores Aritméticos\n",
    "Assista o vídeo abaixo e vá executando as células deste notebook conforme a sequência do vídeo:\n",
    "\n",
    "[![tipos booleanos e precedência de operadores](https://img.youtube.com/vi/sgfmuFRZuWs/hqdefault.jpg)](https://youtu.be/sgfmuFRZuWs \"tipos booleanos e precedência de operadores\")   \n",
    "Execute as células abaixo:"
   ]
  },
  {
   "cell_type": "code",
   "execution_count": 14,
   "metadata": {
    "slideshow": {
     "slide_type": "fragment"
    }
   },
   "outputs": [
    {
     "data": {
      "text/plain": [
       "True"
      ]
     },
     "execution_count": 14,
     "metadata": {},
     "output_type": "execute_result"
    }
   ],
   "source": [
    "5 > 3"
   ]
  },
  {
   "cell_type": "code",
   "execution_count": 15,
   "metadata": {},
   "outputs": [
    {
     "data": {
      "text/plain": [
       "True"
      ]
     },
     "execution_count": 15,
     "metadata": {},
     "output_type": "execute_result"
    }
   ],
   "source": [
    "18 == 9 * 2"
   ]
  },
  {
   "cell_type": "code",
   "execution_count": 16,
   "metadata": {},
   "outputs": [
    {
     "data": {
      "text/plain": [
       "False"
      ]
     },
     "execution_count": 16,
     "metadata": {},
     "output_type": "execute_result"
    }
   ],
   "source": [
    "x = 12312\n",
    "x < 0"
   ]
  },
  {
   "cell_type": "code",
   "execution_count": 17,
   "metadata": {},
   "outputs": [
    {
     "data": {
      "text/plain": [
       "bool"
      ]
     },
     "execution_count": 17,
     "metadata": {},
     "output_type": "execute_result"
    }
   ],
   "source": [
    "type(False)"
   ]
  },
  {
   "cell_type": "code",
   "execution_count": 18,
   "metadata": {},
   "outputs": [
    {
     "data": {
      "text/plain": [
       "bool"
      ]
     },
     "execution_count": 18,
     "metadata": {},
     "output_type": "execute_result"
    }
   ],
   "source": [
    "type(x > 0)"
   ]
  },
  {
   "cell_type": "code",
   "execution_count": null,
   "metadata": {},
   "outputs": [],
   "source": [
    "x > 0 and x **2 > 100"
   ]
  },
  {
   "cell_type": "code",
   "execution_count": null,
   "metadata": {},
   "outputs": [],
   "source": [
    "x < 0 and x == 12312"
   ]
  },
  {
   "cell_type": "code",
   "execution_count": null,
   "metadata": {},
   "outputs": [],
   "source": [
    "x < 0 or x == 12312"
   ]
  },
  {
   "cell_type": "code",
   "execution_count": null,
   "metadata": {},
   "outputs": [],
   "source": [
    "x > 0"
   ]
  },
  {
   "cell_type": "code",
   "execution_count": null,
   "metadata": {},
   "outputs": [],
   "source": [
    "not x > 0"
   ]
  },
  {
   "cell_type": "code",
   "execution_count": null,
   "metadata": {},
   "outputs": [],
   "source": [
    "not False"
   ]
  },
  {
   "cell_type": "code",
   "execution_count": null,
   "metadata": {},
   "outputs": [],
   "source": [
    "fizerSol = True\n",
    "forFeriado = False\n",
    "vouParaPraia = fizerSol and forFeriado\n",
    "vouParaPraia"
   ]
  },
  {
   "cell_type": "code",
   "execution_count": null,
   "metadata": {},
   "outputs": [],
   "source": [
    "paitrocinio = False\n",
    "rolarPromocao = True\n",
    "vouAoShow = paitrocinio or rolarPromocao\n",
    "vouAoShow"
   ]
  },
  {
   "cell_type": "code",
   "execution_count": null,
   "metadata": {
    "slideshow": {
     "slide_type": "fragment"
    }
   },
   "outputs": [],
   "source": [
    "y = 50\n",
    "x > 0 and not y == 50 or x + y == 150"
   ]
  },
  {
   "cell_type": "markdown",
   "metadata": {
    "slideshow": {
     "slide_type": "subslide"
    }
   },
   "source": [
    "# Tipos booleanos e precedência de operadores\n",
    "\n",
    "[![tipos booleanos e precedência de operadores](https://img.youtube.com/vi/sgfmuFRZuWs/hqdefault.jpg)](https://youtu.be/sgfmuFRZuWs \"tipos booleanos e precedência de operadores\")   "
   ]
  },
  {
   "cell_type": "markdown",
   "metadata": {
    "slideshow": {
     "slide_type": "slide"
    }
   },
   "source": [
    "# Lista e vetores\n",
    "\n",
    "Lista, também como conhecido como *list*, é uma estrutura de dados que possui nenhum, um ou mais itens, que estão ordenados. Os itens são conhecidos também como elementos. Ela é **flexível**, ou seja, podemos adicionar novos itens na lista, podemos alterar itens existentes, podemos remover itens da lista, tudo isto de forma dinâmica.\n",
    "\n",
    "Em Python, uma lista é representada por uma sequência de itens, separados por vírgula e dentro de colchetes `[]`. Uma lista vazia é representada por colchetes sem nenhuma informação presente entre os colchetes.\n",
    "\n",
    "* Fatiar (`[1:3]`)\n",
    "* Buscar elementos (`[0]`)\n",
    "* Comprimento (`len(list)`)\n",
    "* Adicionar elementos (`list.append()`)\n",
    "* Compreensão de lista (`[x for elemento in lista]`)\n",
    "\n",
    "Assista o vídeo abaixo e executando as células deste notebook conforme a sequência do vídeo:\n",
    "\n",
    "[![Coleções (listas, vetores)](https://img.youtube.com/vi/krVca97F13I/hqdefault.jpg)](https://youtu.be/krVca97F13I \"Coleções (listas, vetores)\")"
   ]
  },
  {
   "cell_type": "code",
   "execution_count": null,
   "metadata": {
    "slideshow": {
     "slide_type": "fragment"
    }
   },
   "outputs": [],
   "source": [
    "lista_vazia = []\n",
    "lista_num = [1, 2, 3, 4, 5, 6]\n",
    "lista_mista = [1, 2, 'UNINOVE', 4, 'com', 6, 'Você', True, None] "
   ]
  },
  {
   "cell_type": "markdown",
   "metadata": {},
   "source": [
    "# Manipulação de listas\n",
    "\n",
    "\n",
    "[![Manipulação de listas)](https://img.youtube.com/vi/LrXapVI66so/hqdefault.jpg)](https://youtu.be/LrXapVI66so \"Coleções (Manipulação de listas)\")"
   ]
  },
  {
   "cell_type": "markdown",
   "metadata": {},
   "source": [
    "# Matrizes\n",
    "\n",
    "\n",
    "[![Matrizes)](https://img.youtube.com/vi/c9yjwWNiNQw/hqdefault.jpg)](https://youtu.be/c9yjwWNiNQw \"Matrizes\")"
   ]
  },
  {
   "cell_type": "markdown",
   "metadata": {
    "slideshow": {
     "slide_type": "slide"
    }
   },
   "source": [
    "## Tuplas(`tuple`)\n",
    "Uma tupla é uma coleção de objetos Python separados por vírgulas. De alguma maneira, uma tupla é semelhante a uma lista em termos de indexação e repetição, mas uma tupla é **imutável**, diferentemente de listas que são **mutáveis**.\n",
    "\n",
    "* Fatiar (`[1:3]`)\n",
    "* Buscar elementos (`[0]`)\n",
    "* Comprimento (`len(tuple)`)"
   ]
  },
  {
   "cell_type": "code",
   "execution_count": null,
   "metadata": {
    "slideshow": {
     "slide_type": "fragment"
    }
   },
   "outputs": [],
   "source": [
    "tupla_vazia = ()\n",
    "tupla_num = (1, 2, 3, 4, 5, 6)\n",
    "tupla_mista = (1, 2, 'UNINOVE', 4, 'com', 6, 'Você', True, None)"
   ]
  },
  {
   "cell_type": "markdown",
   "metadata": {
    "slideshow": {
     "slide_type": "slide"
    }
   },
   "source": [
    "## Dicionários (`dictionary`)\n",
    "\n",
    "O dicionário em Python é uma coleção não ordenada de valores de dados, usada para armazenar valores de dados como um mapa, que, diferentemente de outros tipos de dados que mantêm apenas um valor único como elemento, o Dictionary mantém um **par chave: valor**. O valor da chave é fornecido no dicionário para torná-lo mais otimizado.\n",
    "\n",
    "* Chave(`key`)\n",
    "* Valor(`value`)"
   ]
  },
  {
   "cell_type": "code",
   "execution_count": null,
   "metadata": {
    "slideshow": {
     "slide_type": "fragment"
    }
   },
   "outputs": [],
   "source": [
    "dict_vazio = {}\n",
    "dicionario = {\n",
    "    1: 'UNINOVE',\n",
    "    2: 'com você',\n",
    "    3: 'é 10',\n",
    "    4: 'você está',\n",
    "    5: 'aprendendo Python',\n",
    "    6: 'bem rápido',\n",
    "    'nome da chave': 'valor da chave'\n",
    "}"
   ]
  },
  {
   "cell_type": "markdown",
   "metadata": {
    "slideshow": {
     "slide_type": "slide"
    }
   },
   "source": [
    "# Desvios Condicionais `if` `else` `efif`\n",
    "\n",
    "Uma sequência de testes de seleção, os quais serão executados ou não de acordo com o resultado das condições e de acordo com o encadeamento dos testes.\n",
    "\n",
    "[![Condicionais)](https://img.youtube.com/vi/ngeVlLJ250s/hqdefault.jpg)](https://youtu.be/ngeVlLJ250s \"Condicionais\")\n"
   ]
  },
  {
   "cell_type": "code",
   "execution_count": 3,
   "metadata": {},
   "outputs": [
    {
     "data": {
      "text/plain": [
       "True"
      ]
     },
     "execution_count": 3,
     "metadata": {},
     "output_type": "execute_result"
    }
   ],
   "source": [
    "temperatura = 102\n",
    "if temperatura > 100:\n",
    "    aguaferve = True\n",
    "\n",
    "aguaferve"
   ]
  },
  {
   "cell_type": "code",
   "execution_count": 5,
   "metadata": {},
   "outputs": [],
   "source": [
    "if temperatura > 100:\n",
    "    aguaferve = True\n",
    "    evaporação = \"muito rápida\""
   ]
  },
  {
   "cell_type": "markdown",
   "metadata": {
    "slideshow": {
     "slide_type": "slide"
    }
   },
   "source": [
    "# Estrutura de Repetição `while`\n",
    "\n",
    "A estrutura de repetição `while` a condição de repetição é verificada antes de entrar no laço de repetição, isto é, se o resultado for verdadeiro, o bloco de instrução será executado. Enquanto o valor da condição for verdadeiro, as ações dos comandos são executadas. No momento em que a condição se torna falsa, o processamento da rotina é desviado para fora do laço. Se a condição for falsa logo de início, os comandos não são executados nenhuma vez.\n",
    "\n",
    "[![while)](https://img.youtube.com/vi/TllYO06DpUk/hqdefault.jpg)](https://youtu.be/TllYO06DpUk \"while\")"
   ]
  },
  {
   "cell_type": "markdown",
   "metadata": {
    "slideshow": {
     "slide_type": "slide"
    }
   },
   "source": [
    "## Estrutura de Repetição `for`\n",
    "\n",
    "Com a estrutura de repetição `for` podemos executar um determinado conjunto de instruções certo número de vezes. Além disso, este tipo de estrutura prevê uma condição e limites fixos.\n",
    "\n",
    "A estrutura for é utilizada quando precisamos repetir um conjunto de comandos um número pré-definido de vezes.\n",
    "\n",
    "[![for)](https://img.youtube.com/vi/ctmPwp52b7w/hqdefault.jpg)](https://youtu.be/ctmPwp52b7w \"for\")"
   ]
  },
  {
   "cell_type": "markdown",
   "metadata": {
    "slideshow": {
     "slide_type": "subslide"
    }
   },
   "source": [
    "### `for` em dicionários\n",
    "\n",
    "```python\n",
    "for key,value in dicionario.items():\n",
    "    print(key, value)\n",
    "```"
   ]
  },
  {
   "cell_type": "markdown",
   "metadata": {
    "slideshow": {
     "slide_type": "slide"
    }
   },
   "source": [
    "## Funções em Python (`function`)\n",
    "\n",
    "Podem ter argumentos ou não.\n",
    "\n",
    "[![funções)](https://img.youtube.com/vi/AMUxtcJ8yfc/hqdefault.jpg)](https://youtu.be/AMUxtcJ8yfc \"funções\")\n"
   ]
  },
  {
   "cell_type": "markdown",
   "metadata": {},
   "source": [
    "# Strings\n",
    "\n",
    "[![string)](https://img.youtube.com/vi/DdhNltkI_hE/hqdefault.jpg)](https://youtu.be/DdhNltkI_hE \"string\")\n",
    "\n",
    "# Comparações de Strings\n",
    "\n",
    "[![string2)](https://img.youtube.com/vi/EWQTdbtCtKw/hqdefault.jpg)](https://youtu.be/EWQTdbtCtKw \"string2\")\n"
   ]
  },
  {
   "cell_type": "markdown",
   "metadata": {
    "slideshow": {
     "slide_type": "slide"
    }
   },
   "source": [
    "# Orientação à Objetos\n",
    "\n",
    "[![OOp1)](https://img.youtube.com/vi/frtaUi3B6Sc/hqdefault.jpg)](https://youtu.be/frtaUi3B6Sc \"OOp1\")\n",
    "\n",
    "\n",
    "[![OOp2)](https://img.youtube.com/vi/LsbakVX54RY/hqdefault.jpg)](https://youtu.be/LsbakVX54RY \"OOp2\")\n"
   ]
  },
  {
   "cell_type": "markdown",
   "metadata": {
    "slideshow": {
     "slide_type": "slide"
    }
   },
   "source": [
    "# Módulos em python\n",
    "\n",
    "* `import <library>`\n",
    "* `import <library> as xx`\n",
    "* `from <library> import *`\n",
    "* `from <library> import yy`\n",
    "\n",
    "[![módulos)](https://img.youtube.com/vi/6rSUPRZJFRM/hqdefault.jpg)](https://youtu.be/6rSUPRZJFRM \"módulos\")\n"
   ]
  },
  {
   "cell_type": "markdown",
   "metadata": {},
   "source": [
    "# Python na nuvem\n",
    "\n",
    "* Explore a plataforma [Repl.it](https://replit.com/)\n",
    "* [Interpretador Python na nuvem](https://www.youtube.com/watch?v=S-WnHF0TrF8&list=PL7OlISixQYm5gHmnIroBbC9BcVK_ajLoe&index=8)"
   ]
  },
  {
   "attachments": {},
   "cell_type": "markdown",
   "metadata": {},
   "source": [
    "# Vamos Praticar  \n",
    "\n",
    "* Execute os notebooks dos Professores Storopoli e Souza:     \n",
    "    - [Operadores Aritméticos, Relacionais e Lógicos](https://mybinder.org/v2/gh/storopoli/ciencia-de-dados/main?filepath=notebooks%2FAula_01_Operadores_Aritmeticos_Relacionais_e_Logicos.ipynb)    \n",
    "    - [Desvio Condicional (IF)](https://mybinder.org/v2/gh/storopoli/ciencia-de-dados/main?filepath=notebooks%2FAula_02_Desvio_Condicional_IF.ipynb)\n",
    "    - [Estruturas de Repetição (FOR e WHILE)](https://mybinder.org/v2/gh/storopoli/ciencia-de-dados/main?filepath=notebooks%2FAula_03_Estruturas_de_Repeticao.ipynb)\n",
    "    - [Funções](https://mybinder.org/v2/gh/storopoli/ciencia-de-dados/main?filepath=notebooks%2FAula_05_Funcoes.ipynb)"
   ]
  },
  {
   "cell_type": "markdown",
   "metadata": {},
   "source": [
    "# Quer saber mais\n",
    "* Faço o curso [Python - 80h](https://eucapacito.com.br/curso-ec/python/) do projeto EuCapacito;  \n",
    "\n",
    "* Veja toda a [PlayList](https://www.youtube.com/watch?v=WT_zCgSHSTQ&list=PLcoJJSvnDgcKpOi_UeneTNTIVOigRQwcn&index=1) do prof. Fábio Kon ou ainda faça gratuitamente os cursos dele na plataforma Coursera: [Introdução à Ciência da Computação com Python Parte 1](https://www.coursera.org/learn/ciencia-computacao-python-conceitos) e [Introdução à Ciência da Computação com Python Parte 2 ]( https://www.coursera.org/learn/ciencia-computacao-python-conceitos-2)\n",
    "\n",
    "* Veja o curso grátis [Python Fundamentos Para Análise de Dados 3.0](https://www.datascienceacademy.com.br/course/python-fundamentos) da DSA.\n",
    "\n",
    "* Explore o portal [Python para todos](https://sites.google.com/view/projetopythonparatodos) e veja toda a [PlayList](https://www.youtube.com/playlist?list=PLH9knZH6lcgo0ndsXfwX0CGO_ad1t6cSO)  do prof. Anibal Azevedo\n",
    "\n",
    "* Explore o material do curso [Aulas de Introdução à Computação em Python](https://panda.ime.usp.br/aulasPython/static/aulasPython/index.html) do IME-USP, nele é possível você executar os códigos na própria página do curso; \n",
    "\n",
    "\n",
    "* Veja a [PlayList](https://www.youtube.com/watch?v=8UfIDvWjKO0&list=PLLrlHSmC0Mw6LozInZxlkMrkiJ_eLLyrL) do prof. Thiago Ferreira.\n",
    "\n",
    "* Veja a [PlayList](https://www.youtube.com/watch?v=2KmYQWLkqOM&list=PL7OlISixQYm5gHmnIroBbC9BcVK_ajLoe) do prof. Alexandre Levada   \n",
    "\n",
    "* Curso [Python no Kaggle](https://www.kaggle.com/learn/python)\n",
    "\n",
    "\n",
    "* Veja essas biblioteca:\n",
    "    - [Python library for reliability engineering and survival analysis](https://reliability.readthedocs.io/en/latest/)\n",
    "\n",
    "    - [NetworkX](https://networkx.org/documentation/stable/auto_examples/index.html)\n",
    "\n",
    "* Veja [How to Self Learn Data Science in 2022](https://www.visual-design.net/post/how-to-self-learn-data-science)\n",
    "\n",
    "* Leia o artigo [Onde aprender Python de graça?](https://felipegalvao.com.br/pt/blog/where-to-learn-python-for-free/) de Felipe Galvao e aproveite para explorar o seu blog\n",
    "\n",
    "* Leia os artigos e procure reproduzir os códigos:   \n",
    "    - [Bernoulli Distribution — Probability Tutorial with Python](https://pub.towardsai.net/bernoulli-distribution-probability-tutorial-with-python-90061ee078a);\n",
    "    - [Descriptive Statistics for Data-driven Decision Making with Python](https://towardsai.net/p/statistics/descriptive-statistics-21fc0196c1df)\n",
    "    \n",
    "* Explore o github [tutorials](https://github.com/towardsai/tutorials)\n",
    "\n",
    "* Leia o artigo: [Como Sair do ZERO no Python em APENAS UMA AULA](https://www.youtube.com/watch?v=GQpQha2Mfpg)  \n",
    "    \n",
    "* Explore o canal [New Course Applied Statistics with Python Introduction](https://www.youtube.com/watch?v=BIA4ACfnQeA&list=PLsugXK9b1w1k1UCiZnfKE40tHZYR3WA0r)  \n",
    "\n",
    "* Explore o [Cheat Sheet For Beginners](https://res.cloudinary.com/dyd911kmh/image/upload/f_auto,q_auto:best/v1620781328/Python_For_Data_Science_-_A_Cheat_Sheet_For_Beginners_igzrny.png)   \n",
    "\n",
    "* Assista ao vídeo [Python do Zero: Detectando fraudes](https://videos.netshow.me/v/VOaaVbCl99I)\n",
    "\n",
    "\n",
    "# O Futuro do Trabalho: 10 habilidades que vão estar em alta até 2025\n",
    "\n",
    "* Segundo o relatório [Future of Jobs: The top 10 skills to be developed by 2025](http://www3.weforum.org/docs/WEF_Future_of_Jobs_2020.pdf), do Fórum Econômico Mundial, **Resolução de problemas** é a 3ª principal habilidade que estará em alta até 2025.   \n",
    "\n",
    "## Resolução de problemas\n",
    "\n",
    "Pesquise no artigo [COMPETÊNCIAS RELEVANTES PARA O PROFISSIONAL DO FUTURO - COMPETÊNCIAS LISTADAS PELO RELATÓRIO “THE FUTURE OF JOB” DO FÓRUM ECONÔMICO MUNDIAL E A PREVISÃO DE FUTURO DE YUVAL HARARI](https://pt.scribd.com/document/565301777/artigo-semana-academica-daniele-rodrigues-v2-1-pdf) por **Resolução de problemas**.   \n",
    "\n",
    "## Para saber mais\n",
    "\n",
    "“[...] Se tivesse uma hora para salvar o planeta, usaria 59 minutos para definir o problema e um para resolvê-lo”, disse Albert Einstein.\n",
    "\n",
    "Recomendamos a leitura do artigo [Você está resolvendo o problema certo de Dwayne Spradlin](https://hbr.org/2012/09/are-you-solving-the-right-problem), publicado na revista HBR Brasil em 09/2012.   \n",
    "\n",
    "O artigo apresenta um processo com 4 passos para a descrição completa de um problema que se está buscando resolver e dos requisitos que a solução deve cumprir. Segundo o autor \"[...] a ideia de fazer perguntas até chegar à raiz de um problema vem da célebre\n",
    "técnica de resolução de problemas dos **“5 porquês” criada na Toyota** e empregada no **Six Sigma**\".\n",
    "\n",
    "Cada um dos passos envolve responder uma série de questões. Click na figura abaixo e explore o mapa mental (click nas bolinhas para abrir/fechar os ramos do mapa) ... \n",
    "\n",
    "[<center><img src=\"images/pdp.png\"></center>](https://nbviewer.org/github/vsvasconcelos/i2a2/blob/main/pdp.html)         \n",
    "\n",
    "\n",
    "\n",
    "* Assista aos vídeos: \n",
    "\n",
    "[![COMECE PELO PORQUÊ ](https://img.youtube.com/vi/SAJyyl5jTpo/hqdefault.jpg)](https://youtu.be/SAJyyl5jTpo \"COMECE PELO PORQUÊ \")\n",
    "\n",
    "   - The Deep Dive, o processo de criação da IDEO ...\n",
    "\n",
    "[<center><img src=\"images/deepdive.png\"></center>](https://vimeo.com/7953312)         \n",
    "\n",
    "\n",
    "# Gosta de livros\n",
    "[Pense em Python - Allen B. Downey](https://penseallen.github.io/PensePython2e/)\n",
    "\n",
    "[Scientific Visualization: Python + Matplotlib - Nicolas P. Rougier, ](https://github.com/rougier/scientific-visualization-book)\n",
    "\n",
    "[Free python books](https://github.com/pamoroso/free-python-books)\n",
    "\n",
    "[Python Data Science Handbook - Jake VanderPlas](https://jakevdp.github.io/PythonDataScienceHandbook/)     \n",
    "\n",
    "[versão notebook](https://colab.research.google.com/github/jakevdp/PythonDataScienceHandbook/blob/master/notebooks/Index.ipynb#scrollTo=MpQmORfEjDIn) \n",
    "\n",
    "[Introdução a Computação em Python: Problemas e Aplicações - Alexandre L M Levada](https://www.researchgate.net/publication/343971915_Introducao_a_Computacao_em_Python_Problemas_e_Aplicacoes) "
   ]
  },
  {
   "cell_type": "markdown",
   "metadata": {},
   "source": [
    "Qualquer dúvida, poste no fórum da disciplina.\n",
    "\n",
    "    - Te vejo na mentoria!"
   ]
  }
 ],
 "metadata": {
  "kernelspec": {
   "display_name": "Python 3 (ipykernel)",
   "language": "python",
   "name": "python3"
  },
  "language_info": {
   "codemirror_mode": {
    "name": "ipython",
    "version": 3
   },
   "file_extension": ".py",
   "mimetype": "text/x-python",
   "name": "python",
   "nbconvert_exporter": "python",
   "pygments_lexer": "ipython3",
   "version": "3.8.10"
  },
  "rise": {
   "autolaunch": true,
   "enable_chalkboard": true,
   "progress": true,
   "scroll": true,
   "slideNumber": true
  },
  "toc": {
   "base_numbering": 1,
   "nav_menu": {},
   "number_sections": true,
   "sideBar": true,
   "skip_h1_title": false,
   "title_cell": "Table of Contents",
   "title_sidebar": "Contents",
   "toc_cell": false,
   "toc_position": {},
   "toc_section_display": true,
   "toc_window_display": false
  },
  "varInspector": {
   "cols": {
    "lenName": 16,
    "lenType": 16,
    "lenVar": 40
   },
   "kernels_config": {
    "python": {
     "delete_cmd_postfix": "",
     "delete_cmd_prefix": "del ",
     "library": "var_list.py",
     "varRefreshCmd": "print(var_dic_list())"
    },
    "r": {
     "delete_cmd_postfix": ") ",
     "delete_cmd_prefix": "rm(",
     "library": "var_list.r",
     "varRefreshCmd": "cat(var_dic_list()) "
    }
   },
   "types_to_exclude": [
    "module",
    "function",
    "builtin_function_or_method",
    "instance",
    "_Feature"
   ],
   "window_display": false
  }
 },
 "nbformat": 4,
 "nbformat_minor": 4
}
