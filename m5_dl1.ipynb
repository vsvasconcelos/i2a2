{
 "cells": [
  {
   "cell_type": "markdown",
   "metadata": {},
   "source": [
    "[<center><img src=\"images/Logo_I2A2.webp\"></center>](https://www.i2a2.ca/)         \n",
    "Rev 3"
   ]
  },
  {
   "cell_type": "markdown",
   "metadata": {},
   "source": [
    "# Módulo 5"
   ]
  },
  {
   "cell_type": "markdown",
   "metadata": {
    "slideshow": {
     "slide_type": "slide"
    }
   },
   "source": [
    "# Aula 2 - Deep Learning - parte 1\n",
    "\n",
    "**Objetivo**: Apresentar os conceitos de deep learning"
   ]
  },
  {
   "cell_type": "markdown",
   "metadata": {},
   "source": [
    "Este material o auxiliará nas sessões de autoestudo, contudo, fique à vontade para consultar outras fontes de informações, mas nunca deixe de citá-las."
   ]
  },
  {
   "cell_type": "markdown",
   "metadata": {},
   "source": [
    "# Machine Learning x Deep Learning\n",
    "\n",
    "\n",
    "[![AS](https://img.youtube.com/vi/rkJ_83ADYf4/hqdefault.jpg)](https://youtu.be/rkJ_83ADYf4?t=645 \"AS\") \n",
    "\n",
    "* Além da razão dada pelo prof. Anderson, quais outros motivos podem explicar o sucesso do `Deep learning`?\n",
    "\n",
    "    Leia o [cap. 1](https://www.deeplearningbook.com.br/deep-learning-a-tempestade-perfeita/) do livro [Deep Learning Book - pt_br](https://www.deeplearningbook.com.br/)"
   ]
  },
  {
   "cell_type": "markdown",
   "metadata": {},
   "source": [
    "# Deep Learning\n",
    "* Leia os capítulos do livro [Deep Learning Book](https://www.deeplearningbook.com.br/):  \n",
    "    * [Capítulo 3 \"O Que São Redes Neurais Artificiais Profundas ou Deep Learning?\"](https://www.deeplearningbook.com.br/o-que-sao-redes-neurais-artificiais-profundas/);\n",
    "    \n",
    "    * [Capítulo 33 \"Por que as Redes Neurais Profundas São Difíceis de Treinar?\"](https://www.deeplearningbook.com.br/por-que-as-redes-neurais-profundas-sao-dificeis-de-treinar/);\n",
    "    \n",
    "    * [Capítulo 34 \"O Problema da Dissipação do Gradiente\"](https://www.deeplearningbook.com.br/o-problema-da-dissipacao-do-gradiente/);\n",
    "    \n",
    "    * [Capítulo 35 \"A Matemática do Problema de Dissipação do Gradiente em Deep Learning\"](https://www.deeplearningbook.com.br/a-matematica-do-problema-de-dissipacao-do-gradiente-em-deep-learning/);\n",
    "    \n",
    "    * [Capítulo 37 \"O Efeito do Batch Size no Treinamento de Redes Neurais Artificiais\"](https://www.deeplearningbook.com.br/o-efeito-do-batch-size-no-treinamento-de-redes-neurais-artificiais/);\n",
    "    \n",
    "    * [Capítulo 38 \"O Efeito da Taxa de Aprendizagem no Treinamento de Redes Neurais Artificiais\"](https://www.deeplearningbook.com.br/o-efeito-da-taxa-de-aprendizagem-no-treinamento-de-redes-neurais-artificiais/)\n",
    "    \n",
    "    * [Capítulo 39 \"Relação Entre o Tamanho do Lote e o Cálculo do Gradiente\"](https://www.deeplearningbook.com.br/relacao-entre-o-tamanho-do-lote-e-o-calculo-do-gradiente/)\n",
    "    \n",
    "    \n",
    "* Da uma olha no [cap. 5 - Deep Learning Computation](https://d2l.ai/chapter_deep-learning-computation/index.html) do livro [Dive into Deep Learning](https://d2l.ai/index.html)\n",
    "    \n"
   ]
  },
  {
   "cell_type": "markdown",
   "metadata": {},
   "source": [
    "# Redes Neurais Convolucionais - CNN\n",
    "\n",
    "* Assista aos vídeos do Prof. Anderson Soares.\n",
    "\n",
    "   * Redes Neurais profundas Convolucionais - Parte I - Fundamentos\n",
    "\n",
    "[![anderson1](https://img.youtube.com/vi/n4rmrZg1_58/hqdefault.jpg)](https://youtu.be/n4rmrZg1_58 \"anderson2\")    \n",
    "\n",
    "   - [Slides](https://ww2.inf.ufg.br/~anderson/deeplearning/20181/Aula%20-%20Redes%20Neurais%20Convolucionais%20Parte%20I.pdf)\n",
    "   \n",
    "   * Redes Neurais profundas Convolucionais - Parte II - Arquiteturas Modernas\n",
    "[![anderson1](https://img.youtube.com/vi/0XUrLfQXzcw/hqdefault.jpg)](https://youtu.be/0XUrLfQXzcw \"anderson2\")    \n",
    "\n",
    "   - [Slides](https://ww2.inf.ufg.br/~anderson/deeplearning/20181/Convolucionais%20parte%20II%20-%20Slides%20-%20VGG%20Inception%20GoogleNet%20Resnet%20DenseNet%20Highway.pdf)\n",
    "\n",
    "* Leia os capítulos do livro [Deep Learning Book](https://www.deeplearningbook.com.br/):\n",
    "\n",
    "    - [Cap. 40 \"Introdução as Redes Neurais Convolucionais\"](https://www.deeplearningbook.com.br/introducao-as-redes-neurais-convolucionais/);\n",
    "    - [Cap. 41 \"Campos Receptivos Locais em Redes Neurais Convolucionais\"](https://www.deeplearningbook.com.br/campos-receptivos-locais-em-redes-neurais-convolucionais/);\n",
    "    - [Cap. 42 \"Compartilhamento de Pesos em Redes Neurais Convolucionais\"](https://www.deeplearningbook.com.br/compartilhamento-de-pesos-em-redes-neurais-convolucionais/);\n",
    "    - [Cap. 43 \"Camadas de Pooling em Redes Neurais Convolucionais\"](https://www.deeplearningbook.com.br/camadas-de-pooling-em-redes-neurais-convolucionais/)"
   ]
  },
  {
   "cell_type": "markdown",
   "metadata": {},
   "source": [
    "# Tutorial CNN no Tensorflow\n",
    "\n",
    "* Siga o [tutorial - Convolutional Neural Network (CNN)](https://www.tensorflow.org/tutorials/images/cnn), atente que é possível executá-lo diretamente no [Google Colab](https://colab.research.google.com/github/tensorflow/docs/blob/master/site/en/tutorials/images/cnn.ipynb), faça isto!"
   ]
  },
  {
   "cell_type": "markdown",
   "metadata": {},
   "source": [
    "# 10 Arquiteturas de redes CNN \n",
    "\n",
    "   * Veja o artigo [Illustrated: 10 CNN Architectures](https://aisingapore.org/2019/09/illustrated-10-cnn-architectures/)"
   ]
  },
  {
   "cell_type": "markdown",
   "metadata": {},
   "source": [
    "# Exercício 1\n",
    "\n",
    "* Execute o notebook [Treine sua primeira rede neural: classificação básica](\n",
    "https://www.tensorflow.org/tutorials/keras/classification?hl=pt-br#importe_a_base_de_dados_fashion_mnist)"
   ]
  },
  {
   "cell_type": "markdown",
   "metadata": {},
   "source": [
    "# Veja isto:\n",
    "\n",
    "   * Explore o portal do curso [Yann LeCun’s Deep Learning Course](https://cds.nyu.edu/deep-learning/)"
   ]
  },
  {
   "cell_type": "markdown",
   "metadata": {},
   "source": [
    "# Quer saber mais\n",
    "\n",
    "\n",
    "* Veja o [cap. 6- Convolutional Neural Networks](https://d2l.ai/chapter_convolutional-neural-networks/index.html) do livro [Dive into Deep Learning](https://d2l.ai/index.html)   \n",
    "\n",
    "* Leia o artigo [Redes neurais convolucionais](https://medium.com/itau-data/redes-neurais-convolucionais-2206a089c715) da Katia Poloni\n",
    "\n",
    "* Explore o portal do [TensorFlow](https://www.tensorflow.org/?hl=pt-br)\n",
    "\n",
    "* Assista aos vídeos sobre a VGG Net \n",
    "\n",
    "[![anderson1](https://img.youtube.com/vi/ZxoftK0bYWs/hqdefault.jpg)](https://youtu.be/ZxoftK0bYWs \"anderson2\")  \n",
    "\n",
    "[![anderson1](https://img.youtube.com/vi/bQ1fpBQefQg/hqdefault.jpg)](https://youtu.be/bQ1fpBQefQg \"anderson2\")  \n",
    "\n",
    "[![anderson1](https://img.youtube.com/vi/hL3H7SaeCC8/hqdefault.jpg)](https://youtu.be/hL3H7SaeCC8 \"anderson2\")  \n",
    "\n",
    "[![anderson1](https://img.youtube.com/vi/ttxgLdetcPg/hqdefault.jpg)](https://youtu.be/ttxgLdetcPg \"anderson2\")  \n",
    "\n",
    "* Quer visualizar e entender os mecanismos internos de redes convolucionais, veja este vídeo da  Stanford University School of Engineering\n",
    "[![anderson1](https://img.youtube.com/vi/6wcs6szJWMY/hqdefault.jpg)](https://youtu.be/6wcs6szJWMY \"anderson2\")  \n",
    "\n",
    "\n",
    "* Leia o artigo: [Uso de uma Rede Neural Convolucional Unidimensional para detecção de falhas em processos industriais](https://sol.sbc.org.br/index.php/erbase/article/view/8952)   \n",
    "\n",
    "\n",
    "* Explore a playlist do curso Deep Learning Specialization Andrew NG\n",
    "[![andrew](https://img.youtube.com/vi/CS4cs9xVecg/hqdefault.jpg)](https://www.youtube.com/watch?v=CS4cs9xVecg&list=PLpFsSf5Dm-pd5d3rjNtIXUHT-v7bdaEIe \"andrew\")\n",
    "\n",
    "\n",
    "* Assista aos 4 vídeos sobre CNN do prof. Dalcimar Casanova:\n",
    "    - [vídeo 1](https://youtu.be/OoYUL7lzznw);\n",
    "    - [vídeo 2](https://youtu.be/_QbA4IOT1GM);\n",
    "    - [vídeo 3](https://youtu.be/5MySLWCG6E0);\n",
    "    - [vídeo 4](https://youtu.be/1inwL2FNy90).\n",
    "    \n",
    "\n",
    "* Explore a playlist do curso [Deep Learning](https://www.youtube.com/watch?v=0VD_2t6EdS4&list=PL9At2PVRU0ZqVArhU9QMyI3jSe113_m2-) do prof. Dalcimar Casanova\n",
    "\n",
    "* Explore a playlist do curso [Understanding Deep Learning](https://www.youtube.com/watch?v=oiIOxiIkauA&list=PLFE-LjWAAP9Q74cGaUF3yqUhqo2kOYY20) do ICMC da USP   \n",
    "\n",
    "* Parametrização de redes neurais profundas ...\n",
    "\n",
    "[![Anderson](https://img.youtube.com/vi/qDmKwmkc4vs/hqdefault.jpg)](https://youtu.be/qDmKwmkc4vs \"Anderson\")\n"
   ]
  },
  {
   "cell_type": "markdown",
   "metadata": {},
   "source": [
    "# Gosta de livros  \n",
    "\n",
    "[Deep Learning Book - pt_br](https://www.deeplearningbook.com.br/)\n",
    "\n",
    "[Dive into Deep Learning](https://d2l.ai/index.html)\n",
    "\n",
    "[𝐃𝐞𝐞𝐩 𝐋𝐞𝐚𝐫𝐧𝐢𝐧𝐠: 𝐅𝐨𝐮𝐧𝐝𝐚𝐭𝐢𝐨𝐧 𝐚𝐧𝐝 𝐂𝐨𝐧𝐜𝐞𝐩𝐭𝐬](https://issuu.com/cmb321/docs/deep_learning_ebook)"
   ]
  },
  {
   "cell_type": "markdown",
   "metadata": {},
   "source": [
    "Qualquer dúvida, poste no fórum da disciplina.\n",
    "### Te vejo na mentoria!"
   ]
  }
 ],
 "metadata": {
  "kernelspec": {
   "display_name": "Python 3",
   "language": "python",
   "name": "python3"
  },
  "language_info": {
   "codemirror_mode": {
    "name": "ipython",
    "version": 3
   },
   "file_extension": ".py",
   "mimetype": "text/x-python",
   "name": "python",
   "nbconvert_exporter": "python",
   "pygments_lexer": "ipython3",
   "version": "3.8.10"
  },
  "rise": {
   "autolaunch": true,
   "enable_chalkboard": true,
   "progress": true,
   "scroll": true,
   "slideNumber": true
  }
 },
 "nbformat": 4,
 "nbformat_minor": 4
}
